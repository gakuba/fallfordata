{
 "cells": [
  {
   "cell_type": "markdown",
   "metadata": {
    "colab_type": "text",
    "id": "FhGuhbZ6M5tl"
   },
   "source": [
    "##### Copyright 2018 The TensorFlow Authors."
   ]
  },
  {
   "cell_type": "code",
   "execution_count": 1,
   "metadata": {
    "cellView": "form",
    "colab": {},
    "colab_type": "code",
    "id": "AwOEIRJC6Une"
   },
   "outputs": [],
   "source": [
    "#@title Licensed under the Apache License, Version 2.0 (the \"License\");\n",
    "# you may not use this file except in compliance with the License.\n",
    "# You may obtain a copy of the License at\n",
    "#\n",
    "# https://www.apache.org/licenses/LICENSE-2.0\n",
    "#\n",
    "# Unless required by applicable law or agreed to in writing, software\n",
    "# distributed under the License is distributed on an \"AS IS\" BASIS,\n",
    "# WITHOUT WARRANTIES OR CONDITIONS OF ANY KIND, either express or implied.\n",
    "# See the License for the specific language governing permissions and\n",
    "# limitations under the License."
   ]
  },
  {
   "cell_type": "code",
   "execution_count": 2,
   "metadata": {
    "cellView": "form",
    "colab": {},
    "colab_type": "code",
    "id": "KyPEtTqk6VdG"
   },
   "outputs": [],
   "source": [
    "#@title MIT License\n",
    "#\n",
    "# Copyright (c) 2017 François Chollet\n",
    "#\n",
    "# Permission is hereby granted, free of charge, to any person obtaining a\n",
    "# copy of this software and associated documentation files (the \"Software\"),\n",
    "# to deal in the Software without restriction, including without limitation\n",
    "# the rights to use, copy, modify, merge, publish, distribute, sublicense,\n",
    "# and/or sell copies of the Software, and to permit persons to whom the\n",
    "# Software is furnished to do so, subject to the following conditions:\n",
    "#\n",
    "# The above copyright notice and this permission notice shall be included in\n",
    "# all copies or substantial portions of the Software.\n",
    "#\n",
    "# THE SOFTWARE IS PROVIDED \"AS IS\", WITHOUT WARRANTY OF ANY KIND, EXPRESS OR\n",
    "# IMPLIED, INCLUDING BUT NOT LIMITED TO THE WARRANTIES OF MERCHANTABILITY,\n",
    "# FITNESS FOR A PARTICULAR PURPOSE AND NONINFRINGEMENT. IN NO EVENT SHALL\n",
    "# THE AUTHORS OR COPYRIGHT HOLDERS BE LIABLE FOR ANY CLAIM, DAMAGES OR OTHER\n",
    "# LIABILITY, WHETHER IN AN ACTION OF CONTRACT, TORT OR OTHERWISE, ARISING\n",
    "# FROM, OUT OF OR IN CONNECTION WITH THE SOFTWARE OR THE USE OR OTHER\n",
    "# DEALINGS IN THE SOFTWARE."
   ]
  },
  {
   "cell_type": "markdown",
   "metadata": {
    "colab_type": "text",
    "id": "EIdT9iu_Z4Rb"
   },
   "source": [
    "# Regression: predict house pricing"
   ]
  },
  {
   "cell_type": "markdown",
   "metadata": {
    "colab_type": "text",
    "id": "bBIlTPscrIT9"
   },
   "source": [
    "<table class=\"tfo-notebook-buttons\" align=\"left\">\n",
    "  <td>Modified from </>\n",
    "  <td>\n",
    "    <a target=\"_blank\" href=\"https://www.tensorflow.org/tutorials/keras/basic_regression\"><img src=\"https://www.tensorflow.org/images/tf_logo_32px.png\" />View on TensorFlow.org</a>\n",
    "  </td>\n",
    "  <td>\n",
    "    <a target=\"_blank\" href=\"https://colab.research.google.com/github/tensorflow/docs/blob/master/site/en/tutorials/keras/basic_regression.ipynb\"><img src=\"https://www.tensorflow.org/images/colab_logo_32px.png\" />Run in Google Colab</a>\n",
    "  </td>\n",
    "  <td>\n",
    "    <a target=\"_blank\" href=\"https://github.com/tensorflow/docs/blob/master/site/en/tutorials/keras/basic_regression.ipynb\"><img src=\"https://www.tensorflow.org/images/GitHub-Mark-32px.png\" />View source on GitHub</a>\n",
    "  </td>\n",
    "</table>"
   ]
  },
  {
   "cell_type": "markdown",
   "metadata": {
    "colab_type": "text",
    "id": "AHp3M9ZmrIxj"
   },
   "source": [
    "In a *regression* problem, we aim to predict the output of a continuous value, like a price or a probability. Contrast this with a *classification* problem, where we aim to select a class from a list of classes (for example, where a picture contains an apple or an orange, recognizing which fruit is in the picture).\n",
    "\n",
    "This notebook uses the classic [Kaggle House prices](https://www.kaggle.com/c/house-prices-advanced-regression-techniques/data) Dataset and builds a model to predict the house prices from 79 explanatory variables describing (almost) every aspect of residential homes in Ames, Iowa. you can read more about the dataset by following the link above.\n",
    "\n",
    "This example uses the `tf.keras` API, see [this guide](https://www.tensorflow.org/guide/keras) for details."
   ]
  },
  {
   "cell_type": "code",
   "execution_count": 3,
   "metadata": {
    "colab": {},
    "colab_type": "code",
    "id": "moB4tpEHxKB3"
   },
   "outputs": [
    {
     "name": "stdout",
     "output_type": "stream",
     "text": [
      "Requirement already satisfied: seaborn in /anaconda3/lib/python3.7/site-packages (0.9.0)\n",
      "Requirement already satisfied: matplotlib>=1.4.3 in /anaconda3/lib/python3.7/site-packages (from seaborn) (3.0.2)\n",
      "Requirement already satisfied: numpy>=1.9.3 in /anaconda3/lib/python3.7/site-packages (from seaborn) (1.15.4)\n",
      "Requirement already satisfied: pandas>=0.15.2 in /anaconda3/lib/python3.7/site-packages (from seaborn) (0.23.4)\n",
      "Requirement already satisfied: scipy>=0.14.0 in /anaconda3/lib/python3.7/site-packages (from seaborn) (1.1.0)\n",
      "Requirement already satisfied: cycler>=0.10 in /anaconda3/lib/python3.7/site-packages (from matplotlib>=1.4.3->seaborn) (0.10.0)\n",
      "Requirement already satisfied: kiwisolver>=1.0.1 in /anaconda3/lib/python3.7/site-packages (from matplotlib>=1.4.3->seaborn) (1.0.1)\n",
      "Requirement already satisfied: pyparsing!=2.0.4,!=2.1.2,!=2.1.6,>=2.0.1 in /anaconda3/lib/python3.7/site-packages (from matplotlib>=1.4.3->seaborn) (2.3.0)\n",
      "Requirement already satisfied: python-dateutil>=2.1 in /anaconda3/lib/python3.7/site-packages (from matplotlib>=1.4.3->seaborn) (2.7.5)\n",
      "Requirement already satisfied: pytz>=2011k in /anaconda3/lib/python3.7/site-packages (from pandas>=0.15.2->seaborn) (2018.7)\n",
      "Requirement already satisfied: six in /anaconda3/lib/python3.7/site-packages (from cycler>=0.10->matplotlib>=1.4.3->seaborn) (1.12.0)\n",
      "Requirement already satisfied: setuptools in /anaconda3/lib/python3.7/site-packages (from kiwisolver>=1.0.1->matplotlib>=1.4.3->seaborn) (40.6.3)\n"
     ]
    }
   ],
   "source": [
    "# Use seaborn for pairplot\n",
    "!pip install seaborn"
   ]
  },
  {
   "cell_type": "code",
   "execution_count": 4,
   "metadata": {
    "colab": {},
    "colab_type": "code",
    "id": "1rRo8oNqZ-Rj"
   },
   "outputs": [
    {
     "name": "stdout",
     "output_type": "stream",
     "text": [
      "1.13.1\n"
     ]
    }
   ],
   "source": [
    "from __future__ import absolute_import, division, print_function, unicode_literals\n",
    "\n",
    "import pathlib\n",
    "\n",
    "import matplotlib.pyplot as plt\n",
    "import pandas as pd\n",
    "import seaborn as sns\n",
    "import numpy as np\n",
    "\n",
    "import tensorflow as tf\n",
    "from tensorflow import keras\n",
    "from tensorflow.keras import layers\n",
    "\n",
    "print(tf.__version__)"
   ]
  },
  {
   "cell_type": "markdown",
   "metadata": {
    "colab_type": "text",
    "id": "F_72b0LCNbjx"
   },
   "source": [
    "## The Auto MPG dataset\n",
    "\n",
    "The dataset is available from [Kaggle](https://www.kaggle.com/c/house-prices-advanced-regression-techniques/overview).\n",
    "\n"
   ]
  },
  {
   "cell_type": "markdown",
   "metadata": {
    "colab_type": "text",
    "id": "gFh9ne3FZ-On"
   },
   "source": [
    "### Get the data\n",
    "First download the dataset."
   ]
  },
  {
   "cell_type": "code",
   "execution_count": 5,
   "metadata": {
    "colab": {},
    "colab_type": "code",
    "id": "p9kxxgzvzlyz"
   },
   "outputs": [
    {
     "name": "stdout",
     "output_type": "stream",
     "text": [
      "Downloading data from https://raw.githubusercontent.com/gakuba/house_pricing/master/train.data\n",
      "466944/460676 [==============================] - 0s 0us/step\n"
     ]
    },
    {
     "data": {
      "text/plain": [
       "'/Users/gakuba/.keras/datasets/train.data'"
      ]
     },
     "execution_count": 5,
     "metadata": {},
     "output_type": "execute_result"
    }
   ],
   "source": [
    "dataset_path = keras.utils.get_file(\"train.data\", \"https://raw.githubusercontent.com/gakuba/house_pricing/master/train.data\")\n",
    "dataset_path"
   ]
  },
  {
   "cell_type": "markdown",
   "metadata": {
    "colab_type": "text",
    "id": "nslsRLh7Zss4"
   },
   "source": [
    "Import it using pandas. since the aim of this tutorial is to show various techniques when building a regression model with neural networks using tensorflow, We've decided to choose a few features that are easy to understand and from which we believe the impact to the price is almost obvious"
   ]
  },
  {
   "cell_type": "code",
   "execution_count": 6,
   "metadata": {
    "colab": {},
    "colab_type": "code",
    "id": "CiX2FI4gZtTt"
   },
   "outputs": [
    {
     "data": {
      "text/html": [
       "<div>\n",
       "<style scoped>\n",
       "    .dataframe tbody tr th:only-of-type {\n",
       "        vertical-align: middle;\n",
       "    }\n",
       "\n",
       "    .dataframe tbody tr th {\n",
       "        vertical-align: top;\n",
       "    }\n",
       "\n",
       "    .dataframe thead th {\n",
       "        text-align: right;\n",
       "    }\n",
       "</style>\n",
       "<table border=\"1\" class=\"dataframe\">\n",
       "  <thead>\n",
       "    <tr style=\"text-align: right;\">\n",
       "      <th></th>\n",
       "      <th>MSSubClass</th>\n",
       "      <th>MSZoning</th>\n",
       "      <th>LotArea</th>\n",
       "      <th>LotShape</th>\n",
       "      <th>LandContour</th>\n",
       "      <th>LotConfig</th>\n",
       "      <th>LandSlope</th>\n",
       "      <th>Neighborhood</th>\n",
       "      <th>Condition1</th>\n",
       "      <th>Condition2</th>\n",
       "      <th>...</th>\n",
       "      <th>TotalBsmtSF</th>\n",
       "      <th>Heating</th>\n",
       "      <th>HeatingQC</th>\n",
       "      <th>1stFlrSF</th>\n",
       "      <th>2ndFlrSF</th>\n",
       "      <th>GrLivArea</th>\n",
       "      <th>BedroomAbvGr</th>\n",
       "      <th>KitchenAbvGr</th>\n",
       "      <th>PoolArea</th>\n",
       "      <th>SalePrice</th>\n",
       "    </tr>\n",
       "  </thead>\n",
       "  <tbody>\n",
       "    <tr>\n",
       "      <th>1455</th>\n",
       "      <td>60</td>\n",
       "      <td>RL</td>\n",
       "      <td>7917</td>\n",
       "      <td>Reg</td>\n",
       "      <td>Lvl</td>\n",
       "      <td>Inside</td>\n",
       "      <td>Gtl</td>\n",
       "      <td>Gilbert</td>\n",
       "      <td>Norm</td>\n",
       "      <td>Norm</td>\n",
       "      <td>...</td>\n",
       "      <td>953</td>\n",
       "      <td>GasA</td>\n",
       "      <td>Ex</td>\n",
       "      <td>953</td>\n",
       "      <td>694</td>\n",
       "      <td>1647</td>\n",
       "      <td>3</td>\n",
       "      <td>1</td>\n",
       "      <td>0</td>\n",
       "      <td>175000</td>\n",
       "    </tr>\n",
       "    <tr>\n",
       "      <th>1456</th>\n",
       "      <td>20</td>\n",
       "      <td>RL</td>\n",
       "      <td>13175</td>\n",
       "      <td>Reg</td>\n",
       "      <td>Lvl</td>\n",
       "      <td>Inside</td>\n",
       "      <td>Gtl</td>\n",
       "      <td>NWAmes</td>\n",
       "      <td>Norm</td>\n",
       "      <td>Norm</td>\n",
       "      <td>...</td>\n",
       "      <td>1542</td>\n",
       "      <td>GasA</td>\n",
       "      <td>TA</td>\n",
       "      <td>2073</td>\n",
       "      <td>0</td>\n",
       "      <td>2073</td>\n",
       "      <td>3</td>\n",
       "      <td>1</td>\n",
       "      <td>0</td>\n",
       "      <td>210000</td>\n",
       "    </tr>\n",
       "    <tr>\n",
       "      <th>1457</th>\n",
       "      <td>70</td>\n",
       "      <td>RL</td>\n",
       "      <td>9042</td>\n",
       "      <td>Reg</td>\n",
       "      <td>Lvl</td>\n",
       "      <td>Inside</td>\n",
       "      <td>Gtl</td>\n",
       "      <td>Crawfor</td>\n",
       "      <td>Norm</td>\n",
       "      <td>Norm</td>\n",
       "      <td>...</td>\n",
       "      <td>1152</td>\n",
       "      <td>GasA</td>\n",
       "      <td>Ex</td>\n",
       "      <td>1188</td>\n",
       "      <td>1152</td>\n",
       "      <td>2340</td>\n",
       "      <td>4</td>\n",
       "      <td>1</td>\n",
       "      <td>0</td>\n",
       "      <td>266500</td>\n",
       "    </tr>\n",
       "    <tr>\n",
       "      <th>1458</th>\n",
       "      <td>20</td>\n",
       "      <td>RL</td>\n",
       "      <td>9717</td>\n",
       "      <td>Reg</td>\n",
       "      <td>Lvl</td>\n",
       "      <td>Inside</td>\n",
       "      <td>Gtl</td>\n",
       "      <td>NAmes</td>\n",
       "      <td>Norm</td>\n",
       "      <td>Norm</td>\n",
       "      <td>...</td>\n",
       "      <td>1078</td>\n",
       "      <td>GasA</td>\n",
       "      <td>Gd</td>\n",
       "      <td>1078</td>\n",
       "      <td>0</td>\n",
       "      <td>1078</td>\n",
       "      <td>2</td>\n",
       "      <td>1</td>\n",
       "      <td>0</td>\n",
       "      <td>142125</td>\n",
       "    </tr>\n",
       "    <tr>\n",
       "      <th>1459</th>\n",
       "      <td>20</td>\n",
       "      <td>RL</td>\n",
       "      <td>9937</td>\n",
       "      <td>Reg</td>\n",
       "      <td>Lvl</td>\n",
       "      <td>Inside</td>\n",
       "      <td>Gtl</td>\n",
       "      <td>Edwards</td>\n",
       "      <td>Norm</td>\n",
       "      <td>Norm</td>\n",
       "      <td>...</td>\n",
       "      <td>1256</td>\n",
       "      <td>GasA</td>\n",
       "      <td>Gd</td>\n",
       "      <td>1256</td>\n",
       "      <td>0</td>\n",
       "      <td>1256</td>\n",
       "      <td>3</td>\n",
       "      <td>1</td>\n",
       "      <td>0</td>\n",
       "      <td>147500</td>\n",
       "    </tr>\n",
       "  </tbody>\n",
       "</table>\n",
       "<p>5 rows × 28 columns</p>\n",
       "</div>"
      ],
      "text/plain": [
       "      MSSubClass MSZoning  LotArea LotShape LandContour LotConfig LandSlope  \\\n",
       "1455          60       RL     7917      Reg         Lvl    Inside       Gtl   \n",
       "1456          20       RL    13175      Reg         Lvl    Inside       Gtl   \n",
       "1457          70       RL     9042      Reg         Lvl    Inside       Gtl   \n",
       "1458          20       RL     9717      Reg         Lvl    Inside       Gtl   \n",
       "1459          20       RL     9937      Reg         Lvl    Inside       Gtl   \n",
       "\n",
       "     Neighborhood Condition1 Condition2    ...    TotalBsmtSF Heating  \\\n",
       "1455      Gilbert       Norm       Norm    ...            953    GasA   \n",
       "1456       NWAmes       Norm       Norm    ...           1542    GasA   \n",
       "1457      Crawfor       Norm       Norm    ...           1152    GasA   \n",
       "1458        NAmes       Norm       Norm    ...           1078    GasA   \n",
       "1459      Edwards       Norm       Norm    ...           1256    GasA   \n",
       "\n",
       "      HeatingQC  1stFlrSF  2ndFlrSF  GrLivArea BedroomAbvGr  KitchenAbvGr  \\\n",
       "1455         Ex       953       694       1647            3             1   \n",
       "1456         TA      2073         0       2073            3             1   \n",
       "1457         Ex      1188      1152       2340            4             1   \n",
       "1458         Gd      1078         0       1078            2             1   \n",
       "1459         Gd      1256         0       1256            3             1   \n",
       "\n",
       "      PoolArea SalePrice  \n",
       "1455         0    175000  \n",
       "1456         0    210000  \n",
       "1457         0    266500  \n",
       "1458         0    142125  \n",
       "1459         0    147500  \n",
       "\n",
       "[5 rows x 28 columns]"
      ]
     },
     "execution_count": 6,
     "metadata": {},
     "output_type": "execute_result"
    }
   ],
   "source": [
    "column_names = ['MSSubClass','MSZoning','LotArea','LotShape',\n",
    "                'LandContour', 'LotConfig', 'LandSlope','Neighborhood','Condition1','Condition2','BldgType','HouseStyle','OverallQual','OverallCond','YearBuilt','YearRemodAdd',\n",
    "               'RoofStyle','MasVnrArea','TotalBsmtSF','Heating','HeatingQC','1stFlrSF','2ndFlrSF','GrLivArea','BedroomAbvGr','KitchenAbvGr','PoolArea','SalePrice']\n",
    "raw_dataset = pd.read_csv(dataset_path, \n",
    "                      na_values = \"NA\", comment='\\t',\n",
    "                      sep=\",\",usecols=column_names, skipinitialspace=False)\n",
    "\n",
    "dataset = raw_dataset.copy()\n",
    "dataset.tail()"
   ]
  },
  {
   "cell_type": "markdown",
   "metadata": {
    "colab_type": "text",
    "id": "3MWuJTKEDM-f"
   },
   "source": [
    "### Clean the data\n",
    "\n",
    "The dataset contains a few unknown values."
   ]
  },
  {
   "cell_type": "code",
   "execution_count": 7,
   "metadata": {
    "colab": {},
    "colab_type": "code",
    "id": "JEJHhN65a2VV"
   },
   "outputs": [
    {
     "data": {
      "text/plain": [
       "MSSubClass      0\n",
       "MSZoning        0\n",
       "LotArea         0\n",
       "LotShape        0\n",
       "LandContour     0\n",
       "LotConfig       0\n",
       "LandSlope       0\n",
       "Neighborhood    0\n",
       "Condition1      0\n",
       "Condition2      0\n",
       "BldgType        0\n",
       "HouseStyle      0\n",
       "OverallQual     0\n",
       "OverallCond     0\n",
       "YearBuilt       0\n",
       "YearRemodAdd    0\n",
       "RoofStyle       0\n",
       "MasVnrArea      8\n",
       "TotalBsmtSF     0\n",
       "Heating         0\n",
       "HeatingQC       0\n",
       "1stFlrSF        0\n",
       "2ndFlrSF        0\n",
       "GrLivArea       0\n",
       "BedroomAbvGr    0\n",
       "KitchenAbvGr    0\n",
       "PoolArea        0\n",
       "SalePrice       0\n",
       "dtype: int64"
      ]
     },
     "execution_count": 7,
     "metadata": {},
     "output_type": "execute_result"
    }
   ],
   "source": [
    "dataset.isna().sum()"
   ]
  },
  {
   "cell_type": "markdown",
   "metadata": {
    "colab_type": "text",
    "id": "9UPN0KBHa_WI"
   },
   "source": [
    "MasVnrArea has 8 entries with unknow values. To keep this initial tutorial simple drop those rows. In practice you may not want to lose your data in which case you can build a simple model to predict the unknown values. depending on observation sometimes you can replace the missing values with the mean or median of all the values within the same column"
   ]
  },
  {
   "cell_type": "code",
   "execution_count": 8,
   "metadata": {
    "colab": {},
    "colab_type": "code",
    "id": "4ZUDosChC1UN"
   },
   "outputs": [],
   "source": [
    "dataset = dataset.dropna()"
   ]
  },
  {
   "cell_type": "markdown",
   "metadata": {
    "colab_type": "text",
    "id": "Md7PAI6CiJ5p"
   },
   "source": [
    "later on this tutorial we will use onehot encoding to transform categorical variables into numbers either 0 or 1. this is known to create a lot of troubles when a particular value is present in the training set and not in the test set and vice versa which causes the number of features generated in both sets to be different. to avoid this issue, let's drop all rows that have unique categorical value that is not present in any other row. "
   ]
  },
  {
   "cell_type": "code",
   "execution_count": 9,
   "metadata": {
    "colab": {},
    "colab_type": "code",
    "id": "UQsqAJRihT5a"
   },
   "outputs": [
    {
     "name": "stdout",
     "output_type": "stream",
     "text": [
      "MSSubClass False\n",
      "MSZoning False\n",
      "LotShape False\n",
      "LandContour False\n",
      "LotConfig False\n",
      "LandSlope False\n",
      "Neighborhood False\n",
      "Condition1 False\n",
      "Condition2 True\n",
      "BldgType False\n",
      "HouseStyle False\n",
      "RoofStyle False\n",
      "Heating True\n",
      "HeatingQC True\n"
     ]
    }
   ],
   "source": [
    "print('MSSubClass',(dataset['MSSubClass'].value_counts()==1).any())\n",
    "print('MSZoning',(dataset['MSZoning'].value_counts()==1).any())\n",
    "print('LotShape',(dataset['LotShape'].value_counts()==1).any())\n",
    "print('LandContour',(dataset['LandContour'].value_counts()==1).any())\n",
    "print('LotConfig',(dataset['LotConfig'].value_counts()==1).any())\n",
    "print('LandSlope',(dataset['LandSlope'].value_counts()==1).any())\n",
    "print('Neighborhood',(dataset['Neighborhood'].value_counts()==1).any())\n",
    "print('Condition1',(dataset['Condition1'].value_counts()==1).any())\n",
    "print('Condition2',(dataset['Condition2'].value_counts()==1).any())\n",
    "print('BldgType',(dataset['BldgType'].value_counts()==1).any())\n",
    "print('HouseStyle',(dataset['HouseStyle'].value_counts()==1).any())\n",
    "print('RoofStyle',(dataset['RoofStyle'].value_counts()==1).any())\n",
    "print('Heating',(dataset['Heating'].value_counts()==1).any())\n",
    "print('HeatingQC',(dataset['HeatingQC'].value_counts()==1).any())"
   ]
  },
  {
   "cell_type": "markdown",
   "metadata": {
    "colab_type": "text",
    "id": "igf_slmcpYUQ"
   },
   "source": [
    "According to the findings above, `\"HeatingQC\",\"Condition2\",\"Heating\"` have a value that shows up only once in the dataset, we need to delete such values since the it is guaranteed to create a std of zero either in the training set or the test set"
   ]
  },
  {
   "cell_type": "code",
   "execution_count": 10,
   "metadata": {
    "colab": {},
    "colab_type": "code",
    "id": "eIA997r8pI22"
   },
   "outputs": [
    {
     "name": "stdout",
     "output_type": "stream",
     "text": [
      "Ex    734\n",
      "TA    427\n",
      "Gd    241\n",
      "Fa     49\n",
      "Po      1\n",
      "Name: HeatingQC, dtype: int64\n"
     ]
    }
   ],
   "source": [
    "print(dataset['HeatingQC'].value_counts())\n",
    "dataset = dataset[dataset['HeatingQC'] != 'Po']"
   ]
  },
  {
   "cell_type": "code",
   "execution_count": 11,
   "metadata": {
    "colab": {},
    "colab_type": "code",
    "id": "ehGYOFkvtZ-a"
   },
   "outputs": [
    {
     "name": "stdout",
     "output_type": "stream",
     "text": [
      "Norm      1436\n",
      "Feedr        6\n",
      "Artery       2\n",
      "RRNn         2\n",
      "PosN         2\n",
      "PosA         1\n",
      "RRAe         1\n",
      "RRAn         1\n",
      "Name: Condition2, dtype: int64\n"
     ]
    }
   ],
   "source": [
    "print(dataset['Condition2'].value_counts())\n",
    "dataset = dataset[(dataset['Condition2'] != 'RRAn') & (dataset['Condition2'] != 'RRAe') & (dataset['Condition2'] != 'PosA')]"
   ]
  },
  {
   "cell_type": "code",
   "execution_count": 12,
   "metadata": {
    "colab": {},
    "colab_type": "code",
    "id": "gGx9M4B-taHT"
   },
   "outputs": [
    {
     "name": "stdout",
     "output_type": "stream",
     "text": [
      "GasA     1416\n",
      "GasW       18\n",
      "Grav        7\n",
      "Wall        4\n",
      "OthW        2\n",
      "Floor       1\n",
      "Name: Heating, dtype: int64\n"
     ]
    }
   ],
   "source": [
    "print(dataset['Heating'].value_counts())\n",
    "dataset = dataset[dataset['Heating'] != 'Floor']"
   ]
  },
  {
   "cell_type": "markdown",
   "metadata": {
    "colab_type": "text",
    "id": "oQvBe8Si7e6X"
   },
   "source": [
    "Sometimes deleting this values ends by rendering some new rows to be unique on a different categorical column. we need to double check if this is the case."
   ]
  },
  {
   "cell_type": "code",
   "execution_count": 13,
   "metadata": {
    "colab": {},
    "colab_type": "code",
    "id": "yKrCEwx3vClW"
   },
   "outputs": [
    {
     "name": "stdout",
     "output_type": "stream",
     "text": [
      "MSSubClass False\n",
      "MSZoning False\n",
      "LotShape False\n",
      "LandContour False\n",
      "LotConfig False\n",
      "LandSlope False\n",
      "Neighborhood False\n",
      "Condition1 False\n",
      "Condition2 False\n",
      "BldgType False\n",
      "HouseStyle False\n",
      "RoofStyle True\n",
      "Heating False\n",
      "HeatingQC False\n"
     ]
    }
   ],
   "source": [
    "print('MSSubClass',(dataset['MSSubClass'].value_counts()==1).any())\n",
    "print('MSZoning',(dataset['MSZoning'].value_counts()==1).any())\n",
    "print('LotShape',(dataset['LotShape'].value_counts()==1).any())\n",
    "print('LandContour',(dataset['LandContour'].value_counts()==1).any())\n",
    "print('LotConfig',(dataset['LotConfig'].value_counts()==1).any())\n",
    "print('LandSlope',(dataset['LandSlope'].value_counts()==1).any())\n",
    "print('Neighborhood',(dataset['Neighborhood'].value_counts()==1).any())\n",
    "print('Condition1',(dataset['Condition1'].value_counts()==1).any())\n",
    "print('Condition2',(dataset['Condition2'].value_counts()==1).any())\n",
    "print('BldgType',(dataset['BldgType'].value_counts()==1).any())\n",
    "print('HouseStyle',(dataset['HouseStyle'].value_counts()==1).any())\n",
    "print('RoofStyle',(dataset['RoofStyle'].value_counts()==1).any())\n",
    "print('Heating',(dataset['Heating'].value_counts()==1).any())\n",
    "print('HeatingQC',(dataset['HeatingQC'].value_counts()==1).any())"
   ]
  },
  {
   "cell_type": "markdown",
   "metadata": {
    "colab_type": "text",
    "id": "VkKZK91i71RH"
   },
   "source": [
    "Ooops the RoofStyle has now a unique value. let's find what it is and delete it"
   ]
  },
  {
   "cell_type": "code",
   "execution_count": 14,
   "metadata": {
    "colab": {},
    "colab_type": "code",
    "id": "l4aZxJlwvNTj"
   },
   "outputs": [
    {
     "data": {
      "text/plain": [
       "Gable      1131\n",
       "Hip         284\n",
       "Flat         13\n",
       "Gambrel      11\n",
       "Mansard       7\n",
       "Shed          1\n",
       "Name: RoofStyle, dtype: int64"
      ]
     },
     "execution_count": 14,
     "metadata": {},
     "output_type": "execute_result"
    }
   ],
   "source": [
    "dataset['RoofStyle'].value_counts()"
   ]
  },
  {
   "cell_type": "code",
   "execution_count": 15,
   "metadata": {
    "colab": {},
    "colab_type": "code",
    "id": "wMhOcLK9vgLx"
   },
   "outputs": [
    {
     "name": "stdout",
     "output_type": "stream",
     "text": [
      "Gable      1131\n",
      "Hip         284\n",
      "Flat         13\n",
      "Gambrel      11\n",
      "Mansard       7\n",
      "Shed          1\n",
      "Name: RoofStyle, dtype: int64\n"
     ]
    }
   ],
   "source": [
    "print(dataset['RoofStyle'].value_counts())\n",
    "dataset = dataset[dataset['RoofStyle'] != 'Shed']"
   ]
  },
  {
   "cell_type": "markdown",
   "metadata": {
    "colab_type": "text",
    "id": "dZlsEnVn8Eq1"
   },
   "source": [
    "You can double check again if no unique values are left but I have already done that to keep this notebook short."
   ]
  },
  {
   "cell_type": "markdown",
   "metadata": {
    "colab_type": "text",
    "id": "8XKitwaH4v8h"
   },
   "source": [
    "Let's now convert  `\"columns\"` that are categorical to one-hot encoded values:"
   ]
  },
  {
   "cell_type": "code",
   "execution_count": 16,
   "metadata": {
    "colab": {},
    "colab_type": "code",
    "id": "7lITFAUiS2Qw"
   },
   "outputs": [],
   "source": [
    "def onehot(df,column_name):\n",
    "  # receives a column name are return a dataframe where the column name has been converted to onehot encoding\n",
    "  categorical_values = df[column_name].unique()\n",
    "  data_to_encode = df.pop(column_name)\n",
    "  \n",
    "  for cat_value in categorical_values:\n",
    "    col_name = column_name+str(cat_value)\n",
    "    df[col_name] = (data_to_encode == cat_value)* 1.0\n",
    "  #return df\n",
    "  "
   ]
  },
  {
   "cell_type": "code",
   "execution_count": 17,
   "metadata": {
    "colab": {},
    "colab_type": "code",
    "id": "ooU_znraUKX1"
   },
   "outputs": [],
   "source": [
    "onehot(dataset,'MSSubClass')\n",
    "onehot(dataset,'MSZoning')\n",
    "onehot(dataset,'LotShape')\n",
    "onehot(dataset,'LandContour')\n",
    "onehot(dataset,'LotConfig')\n",
    "onehot(dataset,'LandSlope')\n",
    "onehot(dataset,'Neighborhood')\n",
    "onehot(dataset,'Condition1')\n",
    "onehot(dataset,'Condition2')\n",
    "onehot(dataset,'BldgType')\n",
    "onehot(dataset,'HouseStyle')\n",
    "onehot(dataset,'RoofStyle')\n",
    "onehot(dataset,'Heating')\n",
    "onehot(dataset,'HeatingQC')"
   ]
  },
  {
   "cell_type": "code",
   "execution_count": 18,
   "metadata": {
    "colab": {},
    "colab_type": "code",
    "id": "mFEnBRWIXXx7"
   },
   "outputs": [
    {
     "data": {
      "text/html": [
       "<div>\n",
       "<style scoped>\n",
       "    .dataframe tbody tr th:only-of-type {\n",
       "        vertical-align: middle;\n",
       "    }\n",
       "\n",
       "    .dataframe tbody tr th {\n",
       "        vertical-align: top;\n",
       "    }\n",
       "\n",
       "    .dataframe thead th {\n",
       "        text-align: right;\n",
       "    }\n",
       "</style>\n",
       "<table border=\"1\" class=\"dataframe\">\n",
       "  <thead>\n",
       "    <tr style=\"text-align: right;\">\n",
       "      <th></th>\n",
       "      <th>LotArea</th>\n",
       "      <th>OverallQual</th>\n",
       "      <th>OverallCond</th>\n",
       "      <th>YearBuilt</th>\n",
       "      <th>YearRemodAdd</th>\n",
       "      <th>MasVnrArea</th>\n",
       "      <th>TotalBsmtSF</th>\n",
       "      <th>1stFlrSF</th>\n",
       "      <th>2ndFlrSF</th>\n",
       "      <th>GrLivArea</th>\n",
       "      <th>...</th>\n",
       "      <th>RoofStyleFlat</th>\n",
       "      <th>HeatingGasA</th>\n",
       "      <th>HeatingGasW</th>\n",
       "      <th>HeatingGrav</th>\n",
       "      <th>HeatingWall</th>\n",
       "      <th>HeatingOthW</th>\n",
       "      <th>HeatingQCEx</th>\n",
       "      <th>HeatingQCGd</th>\n",
       "      <th>HeatingQCTA</th>\n",
       "      <th>HeatingQCFa</th>\n",
       "    </tr>\n",
       "  </thead>\n",
       "  <tbody>\n",
       "    <tr>\n",
       "      <th>0</th>\n",
       "      <td>8450</td>\n",
       "      <td>7</td>\n",
       "      <td>5</td>\n",
       "      <td>2003</td>\n",
       "      <td>2003</td>\n",
       "      <td>196.0</td>\n",
       "      <td>856</td>\n",
       "      <td>856</td>\n",
       "      <td>854</td>\n",
       "      <td>1710</td>\n",
       "      <td>...</td>\n",
       "      <td>0.0</td>\n",
       "      <td>1.0</td>\n",
       "      <td>0.0</td>\n",
       "      <td>0.0</td>\n",
       "      <td>0.0</td>\n",
       "      <td>0.0</td>\n",
       "      <td>1.0</td>\n",
       "      <td>0.0</td>\n",
       "      <td>0.0</td>\n",
       "      <td>0.0</td>\n",
       "    </tr>\n",
       "    <tr>\n",
       "      <th>1</th>\n",
       "      <td>9600</td>\n",
       "      <td>6</td>\n",
       "      <td>8</td>\n",
       "      <td>1976</td>\n",
       "      <td>1976</td>\n",
       "      <td>0.0</td>\n",
       "      <td>1262</td>\n",
       "      <td>1262</td>\n",
       "      <td>0</td>\n",
       "      <td>1262</td>\n",
       "      <td>...</td>\n",
       "      <td>0.0</td>\n",
       "      <td>1.0</td>\n",
       "      <td>0.0</td>\n",
       "      <td>0.0</td>\n",
       "      <td>0.0</td>\n",
       "      <td>0.0</td>\n",
       "      <td>1.0</td>\n",
       "      <td>0.0</td>\n",
       "      <td>0.0</td>\n",
       "      <td>0.0</td>\n",
       "    </tr>\n",
       "    <tr>\n",
       "      <th>2</th>\n",
       "      <td>11250</td>\n",
       "      <td>7</td>\n",
       "      <td>5</td>\n",
       "      <td>2001</td>\n",
       "      <td>2002</td>\n",
       "      <td>162.0</td>\n",
       "      <td>920</td>\n",
       "      <td>920</td>\n",
       "      <td>866</td>\n",
       "      <td>1786</td>\n",
       "      <td>...</td>\n",
       "      <td>0.0</td>\n",
       "      <td>1.0</td>\n",
       "      <td>0.0</td>\n",
       "      <td>0.0</td>\n",
       "      <td>0.0</td>\n",
       "      <td>0.0</td>\n",
       "      <td>1.0</td>\n",
       "      <td>0.0</td>\n",
       "      <td>0.0</td>\n",
       "      <td>0.0</td>\n",
       "    </tr>\n",
       "    <tr>\n",
       "      <th>3</th>\n",
       "      <td>9550</td>\n",
       "      <td>7</td>\n",
       "      <td>5</td>\n",
       "      <td>1915</td>\n",
       "      <td>1970</td>\n",
       "      <td>0.0</td>\n",
       "      <td>756</td>\n",
       "      <td>961</td>\n",
       "      <td>756</td>\n",
       "      <td>1717</td>\n",
       "      <td>...</td>\n",
       "      <td>0.0</td>\n",
       "      <td>1.0</td>\n",
       "      <td>0.0</td>\n",
       "      <td>0.0</td>\n",
       "      <td>0.0</td>\n",
       "      <td>0.0</td>\n",
       "      <td>0.0</td>\n",
       "      <td>1.0</td>\n",
       "      <td>0.0</td>\n",
       "      <td>0.0</td>\n",
       "    </tr>\n",
       "    <tr>\n",
       "      <th>4</th>\n",
       "      <td>14260</td>\n",
       "      <td>8</td>\n",
       "      <td>5</td>\n",
       "      <td>2000</td>\n",
       "      <td>2000</td>\n",
       "      <td>350.0</td>\n",
       "      <td>1145</td>\n",
       "      <td>1145</td>\n",
       "      <td>1053</td>\n",
       "      <td>2198</td>\n",
       "      <td>...</td>\n",
       "      <td>0.0</td>\n",
       "      <td>1.0</td>\n",
       "      <td>0.0</td>\n",
       "      <td>0.0</td>\n",
       "      <td>0.0</td>\n",
       "      <td>0.0</td>\n",
       "      <td>1.0</td>\n",
       "      <td>0.0</td>\n",
       "      <td>0.0</td>\n",
       "      <td>0.0</td>\n",
       "    </tr>\n",
       "  </tbody>\n",
       "</table>\n",
       "<p>5 rows × 116 columns</p>\n",
       "</div>"
      ],
      "text/plain": [
       "   LotArea  OverallQual  OverallCond  YearBuilt  YearRemodAdd  MasVnrArea  \\\n",
       "0     8450            7            5       2003          2003       196.0   \n",
       "1     9600            6            8       1976          1976         0.0   \n",
       "2    11250            7            5       2001          2002       162.0   \n",
       "3     9550            7            5       1915          1970         0.0   \n",
       "4    14260            8            5       2000          2000       350.0   \n",
       "\n",
       "   TotalBsmtSF  1stFlrSF  2ndFlrSF  GrLivArea     ...       RoofStyleFlat  \\\n",
       "0          856       856       854       1710     ...                 0.0   \n",
       "1         1262      1262         0       1262     ...                 0.0   \n",
       "2          920       920       866       1786     ...                 0.0   \n",
       "3          756       961       756       1717     ...                 0.0   \n",
       "4         1145      1145      1053       2198     ...                 0.0   \n",
       "\n",
       "   HeatingGasA  HeatingGasW  HeatingGrav  HeatingWall  HeatingOthW  \\\n",
       "0          1.0          0.0          0.0          0.0          0.0   \n",
       "1          1.0          0.0          0.0          0.0          0.0   \n",
       "2          1.0          0.0          0.0          0.0          0.0   \n",
       "3          1.0          0.0          0.0          0.0          0.0   \n",
       "4          1.0          0.0          0.0          0.0          0.0   \n",
       "\n",
       "   HeatingQCEx  HeatingQCGd  HeatingQCTA  HeatingQCFa  \n",
       "0          1.0          0.0          0.0          0.0  \n",
       "1          1.0          0.0          0.0          0.0  \n",
       "2          1.0          0.0          0.0          0.0  \n",
       "3          0.0          1.0          0.0          0.0  \n",
       "4          1.0          0.0          0.0          0.0  \n",
       "\n",
       "[5 rows x 116 columns]"
      ]
     },
     "execution_count": 18,
     "metadata": {},
     "output_type": "execute_result"
    }
   ],
   "source": [
    "dataset.head()"
   ]
  },
  {
   "cell_type": "code",
   "execution_count": 19,
   "metadata": {
    "colab": {},
    "colab_type": "code",
    "id": "7UE3eUTiXsvS"
   },
   "outputs": [
    {
     "data": {
      "text/plain": [
       "(1446, 116)"
      ]
     },
     "execution_count": 19,
     "metadata": {},
     "output_type": "execute_result"
    }
   ],
   "source": [
    "dataset.shape"
   ]
  },
  {
   "cell_type": "markdown",
   "metadata": {
    "colab_type": "text",
    "id": "Cuym4yvk76vU"
   },
   "source": [
    "### Split the data into train and test\n",
    "\n",
    "Now split the dataset into a training set and a test set.\n",
    "\n",
    "We will use the test set in the final evaluation of our model."
   ]
  },
  {
   "cell_type": "code",
   "execution_count": 20,
   "metadata": {
    "colab": {},
    "colab_type": "code",
    "id": "qn-IGhUE7_1H"
   },
   "outputs": [],
   "source": [
    "train_dataset = dataset.sample(frac=0.8,random_state=0)\n",
    "test_dataset = dataset.drop(train_dataset.index)"
   ]
  },
  {
   "cell_type": "markdown",
   "metadata": {
    "colab_type": "text",
    "id": "J4ubs136WLNp"
   },
   "source": [
    "### Inspect the data\n",
    "\n",
    "Have a quick look at the joint distribution of a few pairs of columns from the training set."
   ]
  },
  {
   "cell_type": "code",
   "execution_count": 21,
   "metadata": {
    "colab": {},
    "colab_type": "code",
    "id": "oRKO_x8gWKv-"
   },
   "outputs": [
    {
     "name": "stderr",
     "output_type": "stream",
     "text": [
      "/anaconda3/lib/python3.7/site-packages/scipy/stats/stats.py:1713: FutureWarning: Using a non-tuple sequence for multidimensional indexing is deprecated; use `arr[tuple(seq)]` instead of `arr[seq]`. In the future this will be interpreted as an array index, `arr[np.array(seq)]`, which will result either in an error or a different result.\n",
      "  return np.add.reduce(sorted[indexer] * weights, axis=axis) / sumval\n"
     ]
    },
    {
     "data": {
      "text/plain": [
       "<seaborn.axisgrid.PairGrid at 0x1a364c2080>"
      ]
     },
     "execution_count": 21,
     "metadata": {},
     "output_type": "execute_result"
    },
    {
     "data": {
      "image/png": "[encoded data removed]",
      "text/plain": [
       "<Figure size 540x540 with 12 Axes>"
      ]
     },
     "metadata": {
      "needs_background": "light"
     },
     "output_type": "display_data"
    },
    {
     "data": {
      "image/png": "[encoded data removed]",
      "text/plain": [
       "<Figure size 540x540 with 12 Axes>"
      ]
     },
     "metadata": {
      "needs_background": "light"
     },
     "output_type": "display_data"
    }
   ],
   "source": [
    "sns.pairplot(train_dataset[[\"LotArea\", \"MasVnrArea\", \"GrLivArea\"]], diag_kind=\"kde\")\n",
    "sns.pairplot(train_dataset[[\"OverallQual\",\"OverallCond\" , \"YearRemodAdd\"]], diag_kind=\"kde\")"
   ]
  },
  {
   "cell_type": "markdown",
   "metadata": {
    "colab_type": "text",
    "id": "tRu3O48V8vcL"
   },
   "source": [
    "We can see that some features are correlated. to have a full picture, let's draw a pairwise map of correlation for all non categorical values."
   ]
  },
  {
   "cell_type": "markdown",
   "metadata": {
    "colab_type": "text",
    "id": "2ReAEHPlj8qu"
   },
   "source": [
    "**Plot the correlation plot of a random sample of 200 features (`train_dataset[non_categ_variables].sample(n=200))` with `seaborn`.**\n",
    "\n",
    "- Seaborn: https://seaborn.pydata.org/examples/many_pairwise_correlations.html"
   ]
  },
  {
   "cell_type": "code",
   "execution_count": 22,
   "metadata": {
    "colab": {},
    "colab_type": "code",
    "id": "EZvWQlIIkDfJ"
   },
   "outputs": [
    {
     "data": {
      "image/png": "[encoded data removed]",
      "text/plain": [
       "<Figure size 792x648 with 2 Axes>"
      ]
     },
     "metadata": {
      "needs_background": "light"
     },
     "output_type": "display_data"
    }
   ],
   "source": [
    "# seaborn\n",
    "non_categ_variables = ['LotArea','OverallQual','OverallCond','YearBuilt','YearRemodAdd','MasVnrArea','TotalBsmtSF','1stFlrSF','2ndFlrSF','GrLivArea','BedroomAbvGr','KitchenAbvGr',\n",
    "                       'PoolArea']\n",
    "sampled =  train_dataset[non_categ_variables].sample(n=200)\n",
    "corr = sampled.corr()  # compute correlation matrix\n",
    "mask = np.zeros_like(corr, dtype=np.bool)  # make mask\n",
    "mask[np.triu_indices_from(mask)] = True  # mask the upper triangle\n",
    "\n",
    "fig, ax = plt.subplots(figsize=(11, 9))  # create a figure and a subplot\n",
    "cmap = sns.diverging_palette(220, 10, as_cmap=True)  # custom color map\n",
    "sns.heatmap(\n",
    "    corr,\n",
    "    mask=mask,\n",
    "    cmap=cmap,\n",
    "    center=0,\n",
    "    linewidth=0.5,\n",
    "    cbar_kws={'shrink': 0.5}\n",
    ");"
   ]
  },
  {
   "cell_type": "markdown",
   "metadata": {
    "colab_type": "text",
    "id": "1ayZyd13ujqn"
   },
   "source": [
    "Looking at the above table we can see a few strong correlations. However since we run random samples, we observed after repetitively running the cell, that a few of them are consistent. particularly there is a consistent strong positive correlation between **GrLivArea**(the size of Living area) and **2ndFlrSF**(the size of the second floor). we also see a high positive correlation between **1stFlrSF**(the size of 1st floor) and **TotalBsmtSF**(total basement surface). what if we drop**1stFlrSF** and **2ndFlrSF**? note that you don't always have to drop one of the correlated features. only when you are sure that the values of one feature is linearly dependent to the other, then you can delete either of them since the value of the deleted feature was obtained from a combination of the maintained one. there are a lot statistical consideration that I did not mention here but you get the big picture."
   ]
  },
  {
   "cell_type": "code",
   "execution_count": 23,
   "metadata": {
    "colab": {},
    "colab_type": "code",
    "id": "MrAs9EQuvEXB"
   },
   "outputs": [],
   "source": [
    "train_dataset = train_dataset.drop(['1stFlrSF','2ndFlrSF'],axis=1)\n",
    "test_dataset = test_dataset.drop(['1stFlrSF','2ndFlrSF'],axis=1)"
   ]
  },
  {
   "cell_type": "markdown",
   "metadata": {
    "colab_type": "text",
    "id": "gavKO_6DWRMP"
   },
   "source": [
    "Also look at the overall statistics:"
   ]
  },
  {
   "cell_type": "code",
   "execution_count": 24,
   "metadata": {
    "colab": {},
    "colab_type": "code",
    "id": "yi2FzC3T21jR"
   },
   "outputs": [
    {
     "data": {
      "text/html": [
       "<div>\n",
       "<style scoped>\n",
       "    .dataframe tbody tr th:only-of-type {\n",
       "        vertical-align: middle;\n",
       "    }\n",
       "\n",
       "    .dataframe tbody tr th {\n",
       "        vertical-align: top;\n",
       "    }\n",
       "\n",
       "    .dataframe thead th {\n",
       "        text-align: right;\n",
       "    }\n",
       "</style>\n",
       "<table border=\"1\" class=\"dataframe\">\n",
       "  <thead>\n",
       "    <tr style=\"text-align: right;\">\n",
       "      <th></th>\n",
       "      <th>count</th>\n",
       "      <th>mean</th>\n",
       "      <th>std</th>\n",
       "      <th>min</th>\n",
       "      <th>25%</th>\n",
       "      <th>50%</th>\n",
       "      <th>75%</th>\n",
       "      <th>max</th>\n",
       "    </tr>\n",
       "  </thead>\n",
       "  <tbody>\n",
       "    <tr>\n",
       "      <th>LotArea</th>\n",
       "      <td>1157.0</td>\n",
       "      <td>10580.938634</td>\n",
       "      <td>10406.555540</td>\n",
       "      <td>1300.0</td>\n",
       "      <td>7596.0</td>\n",
       "      <td>9525.0</td>\n",
       "      <td>11600.0</td>\n",
       "      <td>215245.0</td>\n",
       "    </tr>\n",
       "    <tr>\n",
       "      <th>OverallQual</th>\n",
       "      <td>1157.0</td>\n",
       "      <td>6.092481</td>\n",
       "      <td>1.393604</td>\n",
       "      <td>1.0</td>\n",
       "      <td>5.0</td>\n",
       "      <td>6.0</td>\n",
       "      <td>7.0</td>\n",
       "      <td>10.0</td>\n",
       "    </tr>\n",
       "    <tr>\n",
       "      <th>OverallCond</th>\n",
       "      <td>1157.0</td>\n",
       "      <td>5.579084</td>\n",
       "      <td>1.108326</td>\n",
       "      <td>2.0</td>\n",
       "      <td>5.0</td>\n",
       "      <td>5.0</td>\n",
       "      <td>6.0</td>\n",
       "      <td>9.0</td>\n",
       "    </tr>\n",
       "    <tr>\n",
       "      <th>YearBuilt</th>\n",
       "      <td>1157.0</td>\n",
       "      <td>1971.057908</td>\n",
       "      <td>30.290992</td>\n",
       "      <td>1872.0</td>\n",
       "      <td>1953.0</td>\n",
       "      <td>1972.0</td>\n",
       "      <td>2000.0</td>\n",
       "      <td>2010.0</td>\n",
       "    </tr>\n",
       "    <tr>\n",
       "      <th>YearRemodAdd</th>\n",
       "      <td>1157.0</td>\n",
       "      <td>1984.528090</td>\n",
       "      <td>20.807911</td>\n",
       "      <td>1950.0</td>\n",
       "      <td>1965.0</td>\n",
       "      <td>1994.0</td>\n",
       "      <td>2004.0</td>\n",
       "      <td>2010.0</td>\n",
       "    </tr>\n",
       "    <tr>\n",
       "      <th>MasVnrArea</th>\n",
       "      <td>1157.0</td>\n",
       "      <td>103.337943</td>\n",
       "      <td>176.203486</td>\n",
       "      <td>0.0</td>\n",
       "      <td>0.0</td>\n",
       "      <td>0.0</td>\n",
       "      <td>166.0</td>\n",
       "      <td>1378.0</td>\n",
       "    </tr>\n",
       "    <tr>\n",
       "      <th>TotalBsmtSF</th>\n",
       "      <td>1157.0</td>\n",
       "      <td>1056.707001</td>\n",
       "      <td>445.687102</td>\n",
       "      <td>0.0</td>\n",
       "      <td>793.0</td>\n",
       "      <td>991.0</td>\n",
       "      <td>1288.0</td>\n",
       "      <td>6110.0</td>\n",
       "    </tr>\n",
       "    <tr>\n",
       "      <th>GrLivArea</th>\n",
       "      <td>1157.0</td>\n",
       "      <td>1520.535004</td>\n",
       "      <td>535.173435</td>\n",
       "      <td>334.0</td>\n",
       "      <td>1134.0</td>\n",
       "      <td>1466.0</td>\n",
       "      <td>1786.0</td>\n",
       "      <td>5642.0</td>\n",
       "    </tr>\n",
       "    <tr>\n",
       "      <th>BedroomAbvGr</th>\n",
       "      <td>1157.0</td>\n",
       "      <td>2.878997</td>\n",
       "      <td>0.809256</td>\n",
       "      <td>0.0</td>\n",
       "      <td>2.0</td>\n",
       "      <td>3.0</td>\n",
       "      <td>3.0</td>\n",
       "      <td>8.0</td>\n",
       "    </tr>\n",
       "    <tr>\n",
       "      <th>KitchenAbvGr</th>\n",
       "      <td>1157.0</td>\n",
       "      <td>1.045808</td>\n",
       "      <td>0.217273</td>\n",
       "      <td>0.0</td>\n",
       "      <td>1.0</td>\n",
       "      <td>1.0</td>\n",
       "      <td>1.0</td>\n",
       "      <td>3.0</td>\n",
       "    </tr>\n",
       "    <tr>\n",
       "      <th>PoolArea</th>\n",
       "      <td>1157.0</td>\n",
       "      <td>3.038894</td>\n",
       "      <td>42.554923</td>\n",
       "      <td>0.0</td>\n",
       "      <td>0.0</td>\n",
       "      <td>0.0</td>\n",
       "      <td>0.0</td>\n",
       "      <td>738.0</td>\n",
       "    </tr>\n",
       "    <tr>\n",
       "      <th>MSSubClass60</th>\n",
       "      <td>1157.0</td>\n",
       "      <td>0.212619</td>\n",
       "      <td>0.409337</td>\n",
       "      <td>0.0</td>\n",
       "      <td>0.0</td>\n",
       "      <td>0.0</td>\n",
       "      <td>0.0</td>\n",
       "      <td>1.0</td>\n",
       "    </tr>\n",
       "    <tr>\n",
       "      <th>MSSubClass20</th>\n",
       "      <td>1157.0</td>\n",
       "      <td>0.363872</td>\n",
       "      <td>0.481320</td>\n",
       "      <td>0.0</td>\n",
       "      <td>0.0</td>\n",
       "      <td>0.0</td>\n",
       "      <td>1.0</td>\n",
       "      <td>1.0</td>\n",
       "    </tr>\n",
       "    <tr>\n",
       "      <th>MSSubClass70</th>\n",
       "      <td>1157.0</td>\n",
       "      <td>0.043215</td>\n",
       "      <td>0.203429</td>\n",
       "      <td>0.0</td>\n",
       "      <td>0.0</td>\n",
       "      <td>0.0</td>\n",
       "      <td>0.0</td>\n",
       "      <td>1.0</td>\n",
       "    </tr>\n",
       "    <tr>\n",
       "      <th>MSSubClass50</th>\n",
       "      <td>1157.0</td>\n",
       "      <td>0.103717</td>\n",
       "      <td>0.305024</td>\n",
       "      <td>0.0</td>\n",
       "      <td>0.0</td>\n",
       "      <td>0.0</td>\n",
       "      <td>0.0</td>\n",
       "      <td>1.0</td>\n",
       "    </tr>\n",
       "    <tr>\n",
       "      <th>MSSubClass190</th>\n",
       "      <td>1157.0</td>\n",
       "      <td>0.022472</td>\n",
       "      <td>0.148277</td>\n",
       "      <td>0.0</td>\n",
       "      <td>0.0</td>\n",
       "      <td>0.0</td>\n",
       "      <td>0.0</td>\n",
       "      <td>1.0</td>\n",
       "    </tr>\n",
       "    <tr>\n",
       "      <th>MSSubClass45</th>\n",
       "      <td>1157.0</td>\n",
       "      <td>0.007779</td>\n",
       "      <td>0.087891</td>\n",
       "      <td>0.0</td>\n",
       "      <td>0.0</td>\n",
       "      <td>0.0</td>\n",
       "      <td>0.0</td>\n",
       "      <td>1.0</td>\n",
       "    </tr>\n",
       "    <tr>\n",
       "      <th>MSSubClass90</th>\n",
       "      <td>1157.0</td>\n",
       "      <td>0.035436</td>\n",
       "      <td>0.184960</td>\n",
       "      <td>0.0</td>\n",
       "      <td>0.0</td>\n",
       "      <td>0.0</td>\n",
       "      <td>0.0</td>\n",
       "      <td>1.0</td>\n",
       "    </tr>\n",
       "    <tr>\n",
       "      <th>MSSubClass120</th>\n",
       "      <td>1157.0</td>\n",
       "      <td>0.053587</td>\n",
       "      <td>0.225298</td>\n",
       "      <td>0.0</td>\n",
       "      <td>0.0</td>\n",
       "      <td>0.0</td>\n",
       "      <td>0.0</td>\n",
       "      <td>1.0</td>\n",
       "    </tr>\n",
       "    <tr>\n",
       "      <th>MSSubClass30</th>\n",
       "      <td>1157.0</td>\n",
       "      <td>0.048401</td>\n",
       "      <td>0.214705</td>\n",
       "      <td>0.0</td>\n",
       "      <td>0.0</td>\n",
       "      <td>0.0</td>\n",
       "      <td>0.0</td>\n",
       "      <td>1.0</td>\n",
       "    </tr>\n",
       "    <tr>\n",
       "      <th>MSSubClass85</th>\n",
       "      <td>1157.0</td>\n",
       "      <td>0.012965</td>\n",
       "      <td>0.113170</td>\n",
       "      <td>0.0</td>\n",
       "      <td>0.0</td>\n",
       "      <td>0.0</td>\n",
       "      <td>0.0</td>\n",
       "      <td>1.0</td>\n",
       "    </tr>\n",
       "    <tr>\n",
       "      <th>MSSubClass80</th>\n",
       "      <td>1157.0</td>\n",
       "      <td>0.039758</td>\n",
       "      <td>0.195475</td>\n",
       "      <td>0.0</td>\n",
       "      <td>0.0</td>\n",
       "      <td>0.0</td>\n",
       "      <td>0.0</td>\n",
       "      <td>1.0</td>\n",
       "    </tr>\n",
       "    <tr>\n",
       "      <th>MSSubClass160</th>\n",
       "      <td>1157.0</td>\n",
       "      <td>0.039758</td>\n",
       "      <td>0.195475</td>\n",
       "      <td>0.0</td>\n",
       "      <td>0.0</td>\n",
       "      <td>0.0</td>\n",
       "      <td>0.0</td>\n",
       "      <td>1.0</td>\n",
       "    </tr>\n",
       "    <tr>\n",
       "      <th>MSSubClass75</th>\n",
       "      <td>1157.0</td>\n",
       "      <td>0.008643</td>\n",
       "      <td>0.092605</td>\n",
       "      <td>0.0</td>\n",
       "      <td>0.0</td>\n",
       "      <td>0.0</td>\n",
       "      <td>0.0</td>\n",
       "      <td>1.0</td>\n",
       "    </tr>\n",
       "    <tr>\n",
       "      <th>MSSubClass180</th>\n",
       "      <td>1157.0</td>\n",
       "      <td>0.006914</td>\n",
       "      <td>0.082901</td>\n",
       "      <td>0.0</td>\n",
       "      <td>0.0</td>\n",
       "      <td>0.0</td>\n",
       "      <td>0.0</td>\n",
       "      <td>1.0</td>\n",
       "    </tr>\n",
       "    <tr>\n",
       "      <th>MSSubClass40</th>\n",
       "      <td>1157.0</td>\n",
       "      <td>0.000864</td>\n",
       "      <td>0.029399</td>\n",
       "      <td>0.0</td>\n",
       "      <td>0.0</td>\n",
       "      <td>0.0</td>\n",
       "      <td>0.0</td>\n",
       "      <td>1.0</td>\n",
       "    </tr>\n",
       "    <tr>\n",
       "      <th>MSZoningRL</th>\n",
       "      <td>1157.0</td>\n",
       "      <td>0.789974</td>\n",
       "      <td>0.407503</td>\n",
       "      <td>0.0</td>\n",
       "      <td>1.0</td>\n",
       "      <td>1.0</td>\n",
       "      <td>1.0</td>\n",
       "      <td>1.0</td>\n",
       "    </tr>\n",
       "    <tr>\n",
       "      <th>MSZoningRM</th>\n",
       "      <td>1157.0</td>\n",
       "      <td>0.149525</td>\n",
       "      <td>0.356759</td>\n",
       "      <td>0.0</td>\n",
       "      <td>0.0</td>\n",
       "      <td>0.0</td>\n",
       "      <td>0.0</td>\n",
       "      <td>1.0</td>\n",
       "    </tr>\n",
       "    <tr>\n",
       "      <th>MSZoningC (all)</th>\n",
       "      <td>1157.0</td>\n",
       "      <td>0.006914</td>\n",
       "      <td>0.082901</td>\n",
       "      <td>0.0</td>\n",
       "      <td>0.0</td>\n",
       "      <td>0.0</td>\n",
       "      <td>0.0</td>\n",
       "      <td>1.0</td>\n",
       "    </tr>\n",
       "    <tr>\n",
       "      <th>MSZoningFV</th>\n",
       "      <td>1157.0</td>\n",
       "      <td>0.043215</td>\n",
       "      <td>0.203429</td>\n",
       "      <td>0.0</td>\n",
       "      <td>0.0</td>\n",
       "      <td>0.0</td>\n",
       "      <td>0.0</td>\n",
       "      <td>1.0</td>\n",
       "    </tr>\n",
       "    <tr>\n",
       "      <th>...</th>\n",
       "      <td>...</td>\n",
       "      <td>...</td>\n",
       "      <td>...</td>\n",
       "      <td>...</td>\n",
       "      <td>...</td>\n",
       "      <td>...</td>\n",
       "      <td>...</td>\n",
       "      <td>...</td>\n",
       "    </tr>\n",
       "    <tr>\n",
       "      <th>Condition2RRNn</th>\n",
       "      <td>1157.0</td>\n",
       "      <td>0.001729</td>\n",
       "      <td>0.041559</td>\n",
       "      <td>0.0</td>\n",
       "      <td>0.0</td>\n",
       "      <td>0.0</td>\n",
       "      <td>0.0</td>\n",
       "      <td>1.0</td>\n",
       "    </tr>\n",
       "    <tr>\n",
       "      <th>Condition2Feedr</th>\n",
       "      <td>1157.0</td>\n",
       "      <td>0.004322</td>\n",
       "      <td>0.065624</td>\n",
       "      <td>0.0</td>\n",
       "      <td>0.0</td>\n",
       "      <td>0.0</td>\n",
       "      <td>0.0</td>\n",
       "      <td>1.0</td>\n",
       "    </tr>\n",
       "    <tr>\n",
       "      <th>Condition2PosN</th>\n",
       "      <td>1157.0</td>\n",
       "      <td>0.001729</td>\n",
       "      <td>0.041559</td>\n",
       "      <td>0.0</td>\n",
       "      <td>0.0</td>\n",
       "      <td>0.0</td>\n",
       "      <td>0.0</td>\n",
       "      <td>1.0</td>\n",
       "    </tr>\n",
       "    <tr>\n",
       "      <th>BldgType1Fam</th>\n",
       "      <td>1157.0</td>\n",
       "      <td>0.844425</td>\n",
       "      <td>0.362608</td>\n",
       "      <td>0.0</td>\n",
       "      <td>1.0</td>\n",
       "      <td>1.0</td>\n",
       "      <td>1.0</td>\n",
       "      <td>1.0</td>\n",
       "    </tr>\n",
       "    <tr>\n",
       "      <th>BldgType2fmCon</th>\n",
       "      <td>1157.0</td>\n",
       "      <td>0.022472</td>\n",
       "      <td>0.148277</td>\n",
       "      <td>0.0</td>\n",
       "      <td>0.0</td>\n",
       "      <td>0.0</td>\n",
       "      <td>0.0</td>\n",
       "      <td>1.0</td>\n",
       "    </tr>\n",
       "    <tr>\n",
       "      <th>BldgTypeDuplex</th>\n",
       "      <td>1157.0</td>\n",
       "      <td>0.035436</td>\n",
       "      <td>0.184960</td>\n",
       "      <td>0.0</td>\n",
       "      <td>0.0</td>\n",
       "      <td>0.0</td>\n",
       "      <td>0.0</td>\n",
       "      <td>1.0</td>\n",
       "    </tr>\n",
       "    <tr>\n",
       "      <th>BldgTypeTwnhsE</th>\n",
       "      <td>1157.0</td>\n",
       "      <td>0.067416</td>\n",
       "      <td>0.250849</td>\n",
       "      <td>0.0</td>\n",
       "      <td>0.0</td>\n",
       "      <td>0.0</td>\n",
       "      <td>0.0</td>\n",
       "      <td>1.0</td>\n",
       "    </tr>\n",
       "    <tr>\n",
       "      <th>BldgTypeTwnhs</th>\n",
       "      <td>1157.0</td>\n",
       "      <td>0.030251</td>\n",
       "      <td>0.171350</td>\n",
       "      <td>0.0</td>\n",
       "      <td>0.0</td>\n",
       "      <td>0.0</td>\n",
       "      <td>0.0</td>\n",
       "      <td>1.0</td>\n",
       "    </tr>\n",
       "    <tr>\n",
       "      <th>HouseStyle2Story</th>\n",
       "      <td>1157.0</td>\n",
       "      <td>0.311150</td>\n",
       "      <td>0.463164</td>\n",
       "      <td>0.0</td>\n",
       "      <td>0.0</td>\n",
       "      <td>0.0</td>\n",
       "      <td>1.0</td>\n",
       "      <td>1.0</td>\n",
       "    </tr>\n",
       "    <tr>\n",
       "      <th>HouseStyle1Story</th>\n",
       "      <td>1157.0</td>\n",
       "      <td>0.489196</td>\n",
       "      <td>0.500099</td>\n",
       "      <td>0.0</td>\n",
       "      <td>0.0</td>\n",
       "      <td>0.0</td>\n",
       "      <td>1.0</td>\n",
       "      <td>1.0</td>\n",
       "    </tr>\n",
       "    <tr>\n",
       "      <th>HouseStyle1.5Fin</th>\n",
       "      <td>1157.0</td>\n",
       "      <td>0.108902</td>\n",
       "      <td>0.311651</td>\n",
       "      <td>0.0</td>\n",
       "      <td>0.0</td>\n",
       "      <td>0.0</td>\n",
       "      <td>0.0</td>\n",
       "      <td>1.0</td>\n",
       "    </tr>\n",
       "    <tr>\n",
       "      <th>HouseStyle1.5Unf</th>\n",
       "      <td>1157.0</td>\n",
       "      <td>0.009507</td>\n",
       "      <td>0.097083</td>\n",
       "      <td>0.0</td>\n",
       "      <td>0.0</td>\n",
       "      <td>0.0</td>\n",
       "      <td>0.0</td>\n",
       "      <td>1.0</td>\n",
       "    </tr>\n",
       "    <tr>\n",
       "      <th>HouseStyleSFoyer</th>\n",
       "      <td>1157.0</td>\n",
       "      <td>0.025065</td>\n",
       "      <td>0.156390</td>\n",
       "      <td>0.0</td>\n",
       "      <td>0.0</td>\n",
       "      <td>0.0</td>\n",
       "      <td>0.0</td>\n",
       "      <td>1.0</td>\n",
       "    </tr>\n",
       "    <tr>\n",
       "      <th>HouseStyleSLvl</th>\n",
       "      <td>1157.0</td>\n",
       "      <td>0.044944</td>\n",
       "      <td>0.207270</td>\n",
       "      <td>0.0</td>\n",
       "      <td>0.0</td>\n",
       "      <td>0.0</td>\n",
       "      <td>0.0</td>\n",
       "      <td>1.0</td>\n",
       "    </tr>\n",
       "    <tr>\n",
       "      <th>HouseStyle2.5Unf</th>\n",
       "      <td>1157.0</td>\n",
       "      <td>0.005186</td>\n",
       "      <td>0.071857</td>\n",
       "      <td>0.0</td>\n",
       "      <td>0.0</td>\n",
       "      <td>0.0</td>\n",
       "      <td>0.0</td>\n",
       "      <td>1.0</td>\n",
       "    </tr>\n",
       "    <tr>\n",
       "      <th>HouseStyle2.5Fin</th>\n",
       "      <td>1157.0</td>\n",
       "      <td>0.006050</td>\n",
       "      <td>0.077580</td>\n",
       "      <td>0.0</td>\n",
       "      <td>0.0</td>\n",
       "      <td>0.0</td>\n",
       "      <td>0.0</td>\n",
       "      <td>1.0</td>\n",
       "    </tr>\n",
       "    <tr>\n",
       "      <th>RoofStyleGable</th>\n",
       "      <td>1157.0</td>\n",
       "      <td>0.787381</td>\n",
       "      <td>0.409337</td>\n",
       "      <td>0.0</td>\n",
       "      <td>1.0</td>\n",
       "      <td>1.0</td>\n",
       "      <td>1.0</td>\n",
       "      <td>1.0</td>\n",
       "    </tr>\n",
       "    <tr>\n",
       "      <th>RoofStyleHip</th>\n",
       "      <td>1157.0</td>\n",
       "      <td>0.191011</td>\n",
       "      <td>0.393268</td>\n",
       "      <td>0.0</td>\n",
       "      <td>0.0</td>\n",
       "      <td>0.0</td>\n",
       "      <td>0.0</td>\n",
       "      <td>1.0</td>\n",
       "    </tr>\n",
       "    <tr>\n",
       "      <th>RoofStyleGambrel</th>\n",
       "      <td>1157.0</td>\n",
       "      <td>0.008643</td>\n",
       "      <td>0.092605</td>\n",
       "      <td>0.0</td>\n",
       "      <td>0.0</td>\n",
       "      <td>0.0</td>\n",
       "      <td>0.0</td>\n",
       "      <td>1.0</td>\n",
       "    </tr>\n",
       "    <tr>\n",
       "      <th>RoofStyleMansard</th>\n",
       "      <td>1157.0</td>\n",
       "      <td>0.001729</td>\n",
       "      <td>0.041559</td>\n",
       "      <td>0.0</td>\n",
       "      <td>0.0</td>\n",
       "      <td>0.0</td>\n",
       "      <td>0.0</td>\n",
       "      <td>1.0</td>\n",
       "    </tr>\n",
       "    <tr>\n",
       "      <th>RoofStyleFlat</th>\n",
       "      <td>1157.0</td>\n",
       "      <td>0.011236</td>\n",
       "      <td>0.105448</td>\n",
       "      <td>0.0</td>\n",
       "      <td>0.0</td>\n",
       "      <td>0.0</td>\n",
       "      <td>0.0</td>\n",
       "      <td>1.0</td>\n",
       "    </tr>\n",
       "    <tr>\n",
       "      <th>HeatingGasA</th>\n",
       "      <td>1157.0</td>\n",
       "      <td>0.980121</td>\n",
       "      <td>0.139645</td>\n",
       "      <td>0.0</td>\n",
       "      <td>1.0</td>\n",
       "      <td>1.0</td>\n",
       "      <td>1.0</td>\n",
       "      <td>1.0</td>\n",
       "    </tr>\n",
       "    <tr>\n",
       "      <th>HeatingGasW</th>\n",
       "      <td>1157.0</td>\n",
       "      <td>0.009507</td>\n",
       "      <td>0.097083</td>\n",
       "      <td>0.0</td>\n",
       "      <td>0.0</td>\n",
       "      <td>0.0</td>\n",
       "      <td>0.0</td>\n",
       "      <td>1.0</td>\n",
       "    </tr>\n",
       "    <tr>\n",
       "      <th>HeatingGrav</th>\n",
       "      <td>1157.0</td>\n",
       "      <td>0.006050</td>\n",
       "      <td>0.077580</td>\n",
       "      <td>0.0</td>\n",
       "      <td>0.0</td>\n",
       "      <td>0.0</td>\n",
       "      <td>0.0</td>\n",
       "      <td>1.0</td>\n",
       "    </tr>\n",
       "    <tr>\n",
       "      <th>HeatingWall</th>\n",
       "      <td>1157.0</td>\n",
       "      <td>0.002593</td>\n",
       "      <td>0.050877</td>\n",
       "      <td>0.0</td>\n",
       "      <td>0.0</td>\n",
       "      <td>0.0</td>\n",
       "      <td>0.0</td>\n",
       "      <td>1.0</td>\n",
       "    </tr>\n",
       "    <tr>\n",
       "      <th>HeatingOthW</th>\n",
       "      <td>1157.0</td>\n",
       "      <td>0.001729</td>\n",
       "      <td>0.041559</td>\n",
       "      <td>0.0</td>\n",
       "      <td>0.0</td>\n",
       "      <td>0.0</td>\n",
       "      <td>0.0</td>\n",
       "      <td>1.0</td>\n",
       "    </tr>\n",
       "    <tr>\n",
       "      <th>HeatingQCEx</th>\n",
       "      <td>1157.0</td>\n",
       "      <td>0.499568</td>\n",
       "      <td>0.500216</td>\n",
       "      <td>0.0</td>\n",
       "      <td>0.0</td>\n",
       "      <td>0.0</td>\n",
       "      <td>1.0</td>\n",
       "      <td>1.0</td>\n",
       "    </tr>\n",
       "    <tr>\n",
       "      <th>HeatingQCGd</th>\n",
       "      <td>1157.0</td>\n",
       "      <td>0.168539</td>\n",
       "      <td>0.374506</td>\n",
       "      <td>0.0</td>\n",
       "      <td>0.0</td>\n",
       "      <td>0.0</td>\n",
       "      <td>0.0</td>\n",
       "      <td>1.0</td>\n",
       "    </tr>\n",
       "    <tr>\n",
       "      <th>HeatingQCTA</th>\n",
       "      <td>1157.0</td>\n",
       "      <td>0.297321</td>\n",
       "      <td>0.457277</td>\n",
       "      <td>0.0</td>\n",
       "      <td>0.0</td>\n",
       "      <td>0.0</td>\n",
       "      <td>1.0</td>\n",
       "      <td>1.0</td>\n",
       "    </tr>\n",
       "    <tr>\n",
       "      <th>HeatingQCFa</th>\n",
       "      <td>1157.0</td>\n",
       "      <td>0.034572</td>\n",
       "      <td>0.182773</td>\n",
       "      <td>0.0</td>\n",
       "      <td>0.0</td>\n",
       "      <td>0.0</td>\n",
       "      <td>0.0</td>\n",
       "      <td>1.0</td>\n",
       "    </tr>\n",
       "  </tbody>\n",
       "</table>\n",
       "<p>113 rows × 8 columns</p>\n",
       "</div>"
      ],
      "text/plain": [
       "                   count          mean           std     min     25%     50%  \\\n",
       "LotArea           1157.0  10580.938634  10406.555540  1300.0  7596.0  9525.0   \n",
       "OverallQual       1157.0      6.092481      1.393604     1.0     5.0     6.0   \n",
       "OverallCond       1157.0      5.579084      1.108326     2.0     5.0     5.0   \n",
       "YearBuilt         1157.0   1971.057908     30.290992  1872.0  1953.0  1972.0   \n",
       "YearRemodAdd      1157.0   1984.528090     20.807911  1950.0  1965.0  1994.0   \n",
       "MasVnrArea        1157.0    103.337943    176.203486     0.0     0.0     0.0   \n",
       "TotalBsmtSF       1157.0   1056.707001    445.687102     0.0   793.0   991.0   \n",
       "GrLivArea         1157.0   1520.535004    535.173435   334.0  1134.0  1466.0   \n",
       "BedroomAbvGr      1157.0      2.878997      0.809256     0.0     2.0     3.0   \n",
       "KitchenAbvGr      1157.0      1.045808      0.217273     0.0     1.0     1.0   \n",
       "PoolArea          1157.0      3.038894     42.554923     0.0     0.0     0.0   \n",
       "MSSubClass60      1157.0      0.212619      0.409337     0.0     0.0     0.0   \n",
       "MSSubClass20      1157.0      0.363872      0.481320     0.0     0.0     0.0   \n",
       "MSSubClass70      1157.0      0.043215      0.203429     0.0     0.0     0.0   \n",
       "MSSubClass50      1157.0      0.103717      0.305024     0.0     0.0     0.0   \n",
       "MSSubClass190     1157.0      0.022472      0.148277     0.0     0.0     0.0   \n",
       "MSSubClass45      1157.0      0.007779      0.087891     0.0     0.0     0.0   \n",
       "MSSubClass90      1157.0      0.035436      0.184960     0.0     0.0     0.0   \n",
       "MSSubClass120     1157.0      0.053587      0.225298     0.0     0.0     0.0   \n",
       "MSSubClass30      1157.0      0.048401      0.214705     0.0     0.0     0.0   \n",
       "MSSubClass85      1157.0      0.012965      0.113170     0.0     0.0     0.0   \n",
       "MSSubClass80      1157.0      0.039758      0.195475     0.0     0.0     0.0   \n",
       "MSSubClass160     1157.0      0.039758      0.195475     0.0     0.0     0.0   \n",
       "MSSubClass75      1157.0      0.008643      0.092605     0.0     0.0     0.0   \n",
       "MSSubClass180     1157.0      0.006914      0.082901     0.0     0.0     0.0   \n",
       "MSSubClass40      1157.0      0.000864      0.029399     0.0     0.0     0.0   \n",
       "MSZoningRL        1157.0      0.789974      0.407503     0.0     1.0     1.0   \n",
       "MSZoningRM        1157.0      0.149525      0.356759     0.0     0.0     0.0   \n",
       "MSZoningC (all)   1157.0      0.006914      0.082901     0.0     0.0     0.0   \n",
       "MSZoningFV        1157.0      0.043215      0.203429     0.0     0.0     0.0   \n",
       "...                  ...           ...           ...     ...     ...     ...   \n",
       "Condition2RRNn    1157.0      0.001729      0.041559     0.0     0.0     0.0   \n",
       "Condition2Feedr   1157.0      0.004322      0.065624     0.0     0.0     0.0   \n",
       "Condition2PosN    1157.0      0.001729      0.041559     0.0     0.0     0.0   \n",
       "BldgType1Fam      1157.0      0.844425      0.362608     0.0     1.0     1.0   \n",
       "BldgType2fmCon    1157.0      0.022472      0.148277     0.0     0.0     0.0   \n",
       "BldgTypeDuplex    1157.0      0.035436      0.184960     0.0     0.0     0.0   \n",
       "BldgTypeTwnhsE    1157.0      0.067416      0.250849     0.0     0.0     0.0   \n",
       "BldgTypeTwnhs     1157.0      0.030251      0.171350     0.0     0.0     0.0   \n",
       "HouseStyle2Story  1157.0      0.311150      0.463164     0.0     0.0     0.0   \n",
       "HouseStyle1Story  1157.0      0.489196      0.500099     0.0     0.0     0.0   \n",
       "HouseStyle1.5Fin  1157.0      0.108902      0.311651     0.0     0.0     0.0   \n",
       "HouseStyle1.5Unf  1157.0      0.009507      0.097083     0.0     0.0     0.0   \n",
       "HouseStyleSFoyer  1157.0      0.025065      0.156390     0.0     0.0     0.0   \n",
       "HouseStyleSLvl    1157.0      0.044944      0.207270     0.0     0.0     0.0   \n",
       "HouseStyle2.5Unf  1157.0      0.005186      0.071857     0.0     0.0     0.0   \n",
       "HouseStyle2.5Fin  1157.0      0.006050      0.077580     0.0     0.0     0.0   \n",
       "RoofStyleGable    1157.0      0.787381      0.409337     0.0     1.0     1.0   \n",
       "RoofStyleHip      1157.0      0.191011      0.393268     0.0     0.0     0.0   \n",
       "RoofStyleGambrel  1157.0      0.008643      0.092605     0.0     0.0     0.0   \n",
       "RoofStyleMansard  1157.0      0.001729      0.041559     0.0     0.0     0.0   \n",
       "RoofStyleFlat     1157.0      0.011236      0.105448     0.0     0.0     0.0   \n",
       "HeatingGasA       1157.0      0.980121      0.139645     0.0     1.0     1.0   \n",
       "HeatingGasW       1157.0      0.009507      0.097083     0.0     0.0     0.0   \n",
       "HeatingGrav       1157.0      0.006050      0.077580     0.0     0.0     0.0   \n",
       "HeatingWall       1157.0      0.002593      0.050877     0.0     0.0     0.0   \n",
       "HeatingOthW       1157.0      0.001729      0.041559     0.0     0.0     0.0   \n",
       "HeatingQCEx       1157.0      0.499568      0.500216     0.0     0.0     0.0   \n",
       "HeatingQCGd       1157.0      0.168539      0.374506     0.0     0.0     0.0   \n",
       "HeatingQCTA       1157.0      0.297321      0.457277     0.0     0.0     0.0   \n",
       "HeatingQCFa       1157.0      0.034572      0.182773     0.0     0.0     0.0   \n",
       "\n",
       "                      75%       max  \n",
       "LotArea           11600.0  215245.0  \n",
       "OverallQual           7.0      10.0  \n",
       "OverallCond           6.0       9.0  \n",
       "YearBuilt          2000.0    2010.0  \n",
       "YearRemodAdd       2004.0    2010.0  \n",
       "MasVnrArea          166.0    1378.0  \n",
       "TotalBsmtSF        1288.0    6110.0  \n",
       "GrLivArea          1786.0    5642.0  \n",
       "BedroomAbvGr          3.0       8.0  \n",
       "KitchenAbvGr          1.0       3.0  \n",
       "PoolArea              0.0     738.0  \n",
       "MSSubClass60          0.0       1.0  \n",
       "MSSubClass20          1.0       1.0  \n",
       "MSSubClass70          0.0       1.0  \n",
       "MSSubClass50          0.0       1.0  \n",
       "MSSubClass190         0.0       1.0  \n",
       "MSSubClass45          0.0       1.0  \n",
       "MSSubClass90          0.0       1.0  \n",
       "MSSubClass120         0.0       1.0  \n",
       "MSSubClass30          0.0       1.0  \n",
       "MSSubClass85          0.0       1.0  \n",
       "MSSubClass80          0.0       1.0  \n",
       "MSSubClass160         0.0       1.0  \n",
       "MSSubClass75          0.0       1.0  \n",
       "MSSubClass180         0.0       1.0  \n",
       "MSSubClass40          0.0       1.0  \n",
       "MSZoningRL            1.0       1.0  \n",
       "MSZoningRM            0.0       1.0  \n",
       "MSZoningC (all)       0.0       1.0  \n",
       "MSZoningFV            0.0       1.0  \n",
       "...                   ...       ...  \n",
       "Condition2RRNn        0.0       1.0  \n",
       "Condition2Feedr       0.0       1.0  \n",
       "Condition2PosN        0.0       1.0  \n",
       "BldgType1Fam          1.0       1.0  \n",
       "BldgType2fmCon        0.0       1.0  \n",
       "BldgTypeDuplex        0.0       1.0  \n",
       "BldgTypeTwnhsE        0.0       1.0  \n",
       "BldgTypeTwnhs         0.0       1.0  \n",
       "HouseStyle2Story      1.0       1.0  \n",
       "HouseStyle1Story      1.0       1.0  \n",
       "HouseStyle1.5Fin      0.0       1.0  \n",
       "HouseStyle1.5Unf      0.0       1.0  \n",
       "HouseStyleSFoyer      0.0       1.0  \n",
       "HouseStyleSLvl        0.0       1.0  \n",
       "HouseStyle2.5Unf      0.0       1.0  \n",
       "HouseStyle2.5Fin      0.0       1.0  \n",
       "RoofStyleGable        1.0       1.0  \n",
       "RoofStyleHip          0.0       1.0  \n",
       "RoofStyleGambrel      0.0       1.0  \n",
       "RoofStyleMansard      0.0       1.0  \n",
       "RoofStyleFlat         0.0       1.0  \n",
       "HeatingGasA           1.0       1.0  \n",
       "HeatingGasW           0.0       1.0  \n",
       "HeatingGrav           0.0       1.0  \n",
       "HeatingWall           0.0       1.0  \n",
       "HeatingOthW           0.0       1.0  \n",
       "HeatingQCEx           1.0       1.0  \n",
       "HeatingQCGd           0.0       1.0  \n",
       "HeatingQCTA           1.0       1.0  \n",
       "HeatingQCFa           0.0       1.0  \n",
       "\n",
       "[113 rows x 8 columns]"
      ]
     },
     "execution_count": 24,
     "metadata": {},
     "output_type": "execute_result"
    }
   ],
   "source": [
    "train_stats = train_dataset.describe()\n",
    "train_stats.pop(\"SalePrice\")\n",
    "train_stats = train_stats.transpose()\n",
    "train_stats"
   ]
  },
  {
   "cell_type": "markdown",
   "metadata": {
    "colab_type": "text",
    "id": "315GY983_S7i"
   },
   "source": [
    "One noticeable to see in the stats above is the difference in the scale of the values. later in this tutorial we will introduce a technique called normalisation used to fix this issue by putting all the features on the same scale between -1 and 1 and centered on 0."
   ]
  },
  {
   "cell_type": "markdown",
   "metadata": {
    "colab_type": "text",
    "id": "Db7Auq1yXUvh"
   },
   "source": [
    "### Split features from labels\n",
    "\n",
    "Separate the target value, or \"label\", from the features. This label is the value that you will train the model to predict."
   ]
  },
  {
   "cell_type": "code",
   "execution_count": 25,
   "metadata": {
    "colab": {},
    "colab_type": "code",
    "id": "t2sluJdCW7jN"
   },
   "outputs": [],
   "source": [
    "train_labels = train_dataset.pop('SalePrice')\n",
    "test_labels = test_dataset.pop('SalePrice')"
   ]
  },
  {
   "cell_type": "markdown",
   "metadata": {
    "colab_type": "text",
    "id": "mRklxK5s388r"
   },
   "source": [
    "### Normalize the data\n",
    "\n",
    "Look again at the `train_stats` block above and note how different the ranges of each feature are."
   ]
  },
  {
   "cell_type": "markdown",
   "metadata": {
    "colab_type": "text",
    "id": "-ywmerQ6dSox"
   },
   "source": [
    "It is good practice to normalize features that use different scales and ranges. Although the model *might* converge without feature normalization, it makes training more difficult, and it makes the resulting model dependent on the choice of units used in the input.\n",
    "\n",
    "Note: Although we intentionally generate these statistics from only the training dataset, these statistics will also be used to normalize the test dataset. We need to do that to project the test dataset into the same distribution that the model has been trained on."
   ]
  },
  {
   "cell_type": "code",
   "execution_count": 26,
   "metadata": {
    "colab": {},
    "colab_type": "code",
    "id": "JlC5ooJrgjQF"
   },
   "outputs": [],
   "source": [
    "def norm(x):\n",
    "  return (x - train_stats['mean']) / train_stats['std']\n",
    "normed_train_data = norm(train_dataset)\n",
    "normed_test_data = norm(test_dataset)"
   ]
  },
  {
   "cell_type": "code",
   "execution_count": 27,
   "metadata": {
    "colab": {},
    "colab_type": "code",
    "id": "gAnhkrTfz45M"
   },
   "outputs": [
    {
     "data": {
      "text/plain": [
       "(1157, 113)"
      ]
     },
     "execution_count": 27,
     "metadata": {},
     "output_type": "execute_result"
    }
   ],
   "source": [
    "normed_train_data.shape"
   ]
  },
  {
   "cell_type": "markdown",
   "metadata": {
    "colab_type": "text",
    "id": "5Ngl0OoHAHWt"
   },
   "source": [
    "Sometimes if you have not been careful in the first steps, you may end up having features with a mean and a standard deviation equal to zero which will cause issues in the calculation of the normalised value. to test if nothing as such happened, check if the normalized dataset has any NaN values."
   ]
  },
  {
   "cell_type": "code",
   "execution_count": 28,
   "metadata": {
    "colab": {},
    "colab_type": "code",
    "id": "HZeX2xm7znso"
   },
   "outputs": [
    {
     "data": {
      "text/plain": [
       "False"
      ]
     },
     "execution_count": 28,
     "metadata": {},
     "output_type": "execute_result"
    }
   ],
   "source": [
    "normed_train_data.isna().values.any()"
   ]
  },
  {
   "cell_type": "markdown",
   "metadata": {
    "colab_type": "text",
    "id": "BuiClDk45eS4"
   },
   "source": [
    "This normalized data is what we will use to train the model.\n",
    "\n",
    "Caution: The statistics used to normalize the inputs here (mean and standard deviation) need to be applied to any other data that is fed to the model, along with the one-hot encoding that we did earlier.  That includes the test set as well as live data when the model is used in production."
   ]
  },
  {
   "cell_type": "markdown",
   "metadata": {
    "colab_type": "text",
    "id": "SmjdzxKzEu1-"
   },
   "source": [
    "## The model"
   ]
  },
  {
   "cell_type": "markdown",
   "metadata": {
    "colab_type": "text",
    "id": "6SWtkIjhrZwa"
   },
   "source": [
    "### Build the model\n",
    "\n",
    "Let's build our model. Here, we'll use a `Sequential` model with two densely connected hidden layers, and an output layer that returns a single, continuous value. The model building steps are wrapped in a function, `build_model`, since we'll create a second model, later on."
   ]
  },
  {
   "cell_type": "code",
   "execution_count": 29,
   "metadata": {
    "colab": {},
    "colab_type": "code",
    "id": "c26juK7ZG8j-"
   },
   "outputs": [],
   "source": [
    "def build_model():\n",
    "  model = keras.Sequential([\n",
    "    layers.Dense(64, activation=tf.nn.relu, input_shape=[len(train_dataset.keys())]),\n",
    "    layers.Dense(64, activation=tf.nn.relu),\n",
    "    layers.Dense(1)\n",
    "  ])\n",
    "\n",
    "  optimizer = tf.keras.optimizers.RMSprop(0.001)\n",
    "\n",
    "  model.compile(loss='mean_squared_error',\n",
    "                optimizer=optimizer,\n",
    "                metrics=['mean_absolute_error', 'mean_squared_error'])\n",
    "  return model"
   ]
  },
  {
   "cell_type": "code",
   "execution_count": 30,
   "metadata": {
    "colab": {},
    "colab_type": "code",
    "id": "cGbPb-PHGbhs"
   },
   "outputs": [
    {
     "name": "stdout",
     "output_type": "stream",
     "text": [
      "WARNING:tensorflow:From /anaconda3/lib/python3.7/site-packages/tensorflow/python/ops/resource_variable_ops.py:435: colocate_with (from tensorflow.python.framework.ops) is deprecated and will be removed in a future version.\n",
      "Instructions for updating:\n",
      "Colocations handled automatically by placer.\n",
      "WARNING:tensorflow:From /anaconda3/lib/python3.7/site-packages/tensorflow/python/keras/utils/losses_utils.py:170: to_float (from tensorflow.python.ops.math_ops) is deprecated and will be removed in a future version.\n",
      "Instructions for updating:\n",
      "Use tf.cast instead.\n"
     ]
    }
   ],
   "source": [
    "model = build_model()"
   ]
  },
  {
   "cell_type": "markdown",
   "metadata": {
    "colab_type": "text",
    "id": "Sj49Og4YGULr"
   },
   "source": [
    "### Inspect the model\n",
    "\n",
    "Use the `.summary` method to print a simple description of the model"
   ]
  },
  {
   "cell_type": "code",
   "execution_count": 31,
   "metadata": {
    "colab": {},
    "colab_type": "code",
    "id": "ReAD0n6MsFK-"
   },
   "outputs": [
    {
     "name": "stdout",
     "output_type": "stream",
     "text": [
      "_________________________________________________________________\n",
      "Layer (type)                 Output Shape              Param #   \n",
      "=================================================================\n",
      "dense (Dense)                (None, 64)                7296      \n",
      "_________________________________________________________________\n",
      "dense_1 (Dense)              (None, 64)                4160      \n",
      "_________________________________________________________________\n",
      "dense_2 (Dense)              (None, 1)                 65        \n",
      "=================================================================\n",
      "Total params: 11,521\n",
      "Trainable params: 11,521\n",
      "Non-trainable params: 0\n",
      "_________________________________________________________________\n"
     ]
    }
   ],
   "source": [
    "model.summary()"
   ]
  },
  {
   "cell_type": "markdown",
   "metadata": {
    "colab_type": "text",
    "id": "Vt6W50qGsJAL"
   },
   "source": [
    "\n",
    "Now try out the model. Take a batch of `10` examples from the training data and call `model.predict` on it."
   ]
  },
  {
   "cell_type": "code",
   "execution_count": 32,
   "metadata": {
    "colab": {},
    "colab_type": "code",
    "id": "-d-gBaVtGTSC"
   },
   "outputs": [
    {
     "data": {
      "text/plain": [
       "array([[-0.18740621],\n",
       "       [-0.37517387],\n",
       "       [ 0.44027066],\n",
       "       [-0.13944644],\n",
       "       [-0.05899712],\n",
       "       [ 0.1826899 ],\n",
       "       [-0.03595413],\n",
       "       [-0.02398375],\n",
       "       [ 0.01398684],\n",
       "       [-2.5624623 ]], dtype=float32)"
      ]
     },
     "execution_count": 32,
     "metadata": {},
     "output_type": "execute_result"
    }
   ],
   "source": [
    "example_batch = normed_train_data[:10]\n",
    "example_result = model.predict(example_batch)\n",
    "example_result"
   ]
  },
  {
   "cell_type": "markdown",
   "metadata": {
    "colab_type": "text",
    "id": "QlM8KrSOsaYo"
   },
   "source": [
    "It seems to be working, and it produces a result of the expected shape and type."
   ]
  },
  {
   "cell_type": "markdown",
   "metadata": {
    "colab_type": "text",
    "id": "0-qWCsh6DlyH"
   },
   "source": [
    "### Train the model\n",
    "\n",
    "Train the model for 1000 epochs, and record the training and validation accuracy in the `history` object."
   ]
  },
  {
   "cell_type": "code",
   "execution_count": 33,
   "metadata": {
    "colab": {},
    "colab_type": "code",
    "id": "sD7qHCmNIOY0"
   },
   "outputs": [
    {
     "name": "stdout",
     "output_type": "stream",
     "text": [
      "WARNING:tensorflow:From /anaconda3/lib/python3.7/site-packages/tensorflow/python/ops/math_ops.py:3066: to_int32 (from tensorflow.python.ops.math_ops) is deprecated and will be removed in a future version.\n",
      "Instructions for updating:\n",
      "Use tf.cast instead.\n",
      "\n",
      "....................................................................................................\n",
      "....................................................................................................\n",
      "....................................................................................................\n",
      "....................................................................................................\n",
      "....................................................................................................\n",
      "....................................................................................................\n",
      "....................................................................................................\n",
      "....................................................................................................\n",
      "....................................................................................................\n",
      "...................................................................................................."
     ]
    }
   ],
   "source": [
    "# Display training progress by printing a single dot for each completed epoch\n",
    "class PrintDot(keras.callbacks.Callback):\n",
    "  def on_epoch_end(self, epoch, logs):\n",
    "    if epoch % 100 == 0: print('')\n",
    "    print('.', end='')\n",
    "\n",
    "EPOCHS = 1000\n",
    "\n",
    "history = model.fit(\n",
    "  normed_train_data, train_labels,\n",
    "  epochs=EPOCHS, validation_split = 0.2, verbose=0,\n",
    "  callbacks=[PrintDot()])"
   ]
  },
  {
   "cell_type": "markdown",
   "metadata": {
    "colab_type": "text",
    "id": "tQm3pc0FYPQB"
   },
   "source": [
    "Visualize the model's training progress using the stats stored in the `history` object."
   ]
  },
  {
   "cell_type": "code",
   "execution_count": 34,
   "metadata": {
    "colab": {},
    "colab_type": "code",
    "id": "4Xj91b-dymEy"
   },
   "outputs": [
    {
     "data": {
      "text/html": [
       "<div>\n",
       "<style scoped>\n",
       "    .dataframe tbody tr th:only-of-type {\n",
       "        vertical-align: middle;\n",
       "    }\n",
       "\n",
       "    .dataframe tbody tr th {\n",
       "        vertical-align: top;\n",
       "    }\n",
       "\n",
       "    .dataframe thead th {\n",
       "        text-align: right;\n",
       "    }\n",
       "</style>\n",
       "<table border=\"1\" class=\"dataframe\">\n",
       "  <thead>\n",
       "    <tr style=\"text-align: right;\">\n",
       "      <th></th>\n",
       "      <th>loss</th>\n",
       "      <th>mean_absolute_error</th>\n",
       "      <th>mean_squared_error</th>\n",
       "      <th>val_loss</th>\n",
       "      <th>val_mean_absolute_error</th>\n",
       "      <th>val_mean_squared_error</th>\n",
       "      <th>epoch</th>\n",
       "    </tr>\n",
       "  </thead>\n",
       "  <tbody>\n",
       "    <tr>\n",
       "      <th>995</th>\n",
       "      <td>3.335265e+08</td>\n",
       "      <td>10503.631836</td>\n",
       "      <td>333526464.0</td>\n",
       "      <td>1.893144e+09</td>\n",
       "      <td>23414.792969</td>\n",
       "      <td>1.893144e+09</td>\n",
       "      <td>995</td>\n",
       "    </tr>\n",
       "    <tr>\n",
       "      <th>996</th>\n",
       "      <td>3.334866e+08</td>\n",
       "      <td>10488.290039</td>\n",
       "      <td>333486560.0</td>\n",
       "      <td>1.893136e+09</td>\n",
       "      <td>23418.982422</td>\n",
       "      <td>1.893135e+09</td>\n",
       "      <td>996</td>\n",
       "    </tr>\n",
       "    <tr>\n",
       "      <th>997</th>\n",
       "      <td>3.335728e+08</td>\n",
       "      <td>10476.440430</td>\n",
       "      <td>333572864.0</td>\n",
       "      <td>1.894983e+09</td>\n",
       "      <td>23419.917969</td>\n",
       "      <td>1.894983e+09</td>\n",
       "      <td>997</td>\n",
       "    </tr>\n",
       "    <tr>\n",
       "      <th>998</th>\n",
       "      <td>3.330735e+08</td>\n",
       "      <td>10474.593750</td>\n",
       "      <td>333073504.0</td>\n",
       "      <td>1.897619e+09</td>\n",
       "      <td>23411.398438</td>\n",
       "      <td>1.897619e+09</td>\n",
       "      <td>998</td>\n",
       "    </tr>\n",
       "    <tr>\n",
       "      <th>999</th>\n",
       "      <td>3.331989e+08</td>\n",
       "      <td>10465.067383</td>\n",
       "      <td>333198944.0</td>\n",
       "      <td>1.891481e+09</td>\n",
       "      <td>23421.921875</td>\n",
       "      <td>1.891481e+09</td>\n",
       "      <td>999</td>\n",
       "    </tr>\n",
       "  </tbody>\n",
       "</table>\n",
       "</div>"
      ],
      "text/plain": [
       "             loss  mean_absolute_error  mean_squared_error      val_loss  \\\n",
       "995  3.335265e+08         10503.631836         333526464.0  1.893144e+09   \n",
       "996  3.334866e+08         10488.290039         333486560.0  1.893136e+09   \n",
       "997  3.335728e+08         10476.440430         333572864.0  1.894983e+09   \n",
       "998  3.330735e+08         10474.593750         333073504.0  1.897619e+09   \n",
       "999  3.331989e+08         10465.067383         333198944.0  1.891481e+09   \n",
       "\n",
       "     val_mean_absolute_error  val_mean_squared_error  epoch  \n",
       "995             23414.792969            1.893144e+09    995  \n",
       "996             23418.982422            1.893135e+09    996  \n",
       "997             23419.917969            1.894983e+09    997  \n",
       "998             23411.398438            1.897619e+09    998  \n",
       "999             23421.921875            1.891481e+09    999  "
      ]
     },
     "execution_count": 34,
     "metadata": {},
     "output_type": "execute_result"
    }
   ],
   "source": [
    "hist = pd.DataFrame(history.history)\n",
    "hist['epoch'] = history.epoch\n",
    "hist.tail()"
   ]
  },
  {
   "cell_type": "code",
   "execution_count": 35,
   "metadata": {
    "colab": {},
    "colab_type": "code",
    "id": "B6XriGbVPh2t"
   },
   "outputs": [
    {
     "data": {
      "image/png": "[encoded data removed]",
      "text/plain": [
       "<Figure size 432x288 with 1 Axes>"
      ]
     },
     "metadata": {
      "needs_background": "light"
     },
     "output_type": "display_data"
    },
    {
     "data": {
      "image/png": "[encoded data removed]",
      "text/plain": [
       "<Figure size 432x288 with 1 Axes>"
      ]
     },
     "metadata": {
      "needs_background": "light"
     },
     "output_type": "display_data"
    }
   ],
   "source": [
    "def plot_history(history):\n",
    "  hist = pd.DataFrame(history.history)\n",
    "  hist['epoch'] = history.epoch\n",
    "\n",
    "  plt.figure()\n",
    "  plt.xlabel('Epoch')\n",
    "  plt.ylabel('Mean Abs Error [SalePrice]')\n",
    "  plt.plot(hist['epoch'], hist['mean_absolute_error'],\n",
    "           label='Train Error')\n",
    "  plt.plot(hist['epoch'], hist['val_mean_absolute_error'],\n",
    "           label = 'Val Error')\n",
    "  #plt.ylim([0,5])\n",
    "  plt.legend()\n",
    "\n",
    "  plt.figure()\n",
    "  plt.xlabel('Epoch')\n",
    "  plt.ylabel('Mean Square Error [$SalePrice^2$]')\n",
    "  plt.plot(hist['epoch'], hist['mean_squared_error'],\n",
    "           label='Train Error')\n",
    "  plt.plot(hist['epoch'], hist['val_mean_squared_error'],\n",
    "           label = 'Val Error')\n",
    "  #plt.ylim([0,20])\n",
    "  plt.legend()\n",
    "  plt.show()\n",
    "\n",
    "\n",
    "plot_history(history)"
   ]
  },
  {
   "cell_type": "markdown",
   "metadata": {
    "colab_type": "text",
    "id": "AqsuANc11FYv"
   },
   "source": [
    "This graph shows little improvement in the validation error after about 100 epochs. Let's update the `model.fit` call to automatically stop training when the validation score doesn't improve. We'll use an *EarlyStopping callback* that tests a training condition for  every epoch. If a set amount of epochs elapses without showing improvement, then automatically stop the training.\n",
    "\n",
    "You can learn more about this callback [here](https://www.tensorflow.org/versions/master/api_docs/python/tf/keras/callbacks/EarlyStopping)."
   ]
  },
  {
   "cell_type": "code",
   "execution_count": 36,
   "metadata": {
    "colab": {},
    "colab_type": "code",
    "id": "fdMZuhUgzMZ4"
   },
   "outputs": [
    {
     "name": "stdout",
     "output_type": "stream",
     "text": [
      "\n",
      "....................................................................................................\n",
      "....................................................................................................\n",
      "....................................................................................................\n",
      "....................................................................................................\n",
      "...."
     ]
    },
    {
     "data": {
      "image/png": "[encoded data removed]",
      "text/plain": [
       "<Figure size 432x288 with 1 Axes>"
      ]
     },
     "metadata": {
      "needs_background": "light"
     },
     "output_type": "display_data"
    },
    {
     "data": {
      "image/png": "[encoded data removed]",
      "text/plain": [
       "<Figure size 432x288 with 1 Axes>"
      ]
     },
     "metadata": {
      "needs_background": "light"
     },
     "output_type": "display_data"
    }
   ],
   "source": [
    "model = build_model()\n",
    "\n",
    "# The patience parameter is the amount of epochs to check for improvement\n",
    "early_stop = keras.callbacks.EarlyStopping(monitor='val_loss', patience=10)\n",
    "\n",
    "history = model.fit(normed_train_data, train_labels, epochs=EPOCHS,\n",
    "                    validation_split = 0.2, verbose=0, callbacks=[early_stop, PrintDot()])\n",
    "\n",
    "plot_history(history)"
   ]
  },
  {
   "cell_type": "markdown",
   "metadata": {
    "colab_type": "text",
    "id": "3St8-DmrX8P4"
   },
   "source": [
    "The graph shows that on the validation set, the average error is usually around +/- 30K $. Is this good? We'll leave that decision up to you.\n",
    "\n",
    "Let's see how well the model generalizes by using the **test** set, which we did not use when training the model.  This tells us how well we can expect the model to predict when we use it in the real world."
   ]
  },
  {
   "cell_type": "code",
   "execution_count": 37,
   "metadata": {
    "colab": {},
    "colab_type": "code",
    "id": "jl_yNr5n1kms"
   },
   "outputs": [
    {
     "name": "stdout",
     "output_type": "stream",
     "text": [
      "Testing set Mean Abs Error: 22823.59 SalePrice\n"
     ]
    }
   ],
   "source": [
    "loss, mae, mse = model.evaluate(normed_test_data, test_labels, verbose=0)\n",
    "\n",
    "print(\"Testing set Mean Abs Error: {:5.2f} SalePrice\".format(mae))"
   ]
  },
  {
   "cell_type": "markdown",
   "metadata": {
    "colab_type": "text",
    "id": "ft603OzXuEZC"
   },
   "source": [
    "### Make predictions\n",
    "\n",
    "Finally, predict House price values using data in the testing set:"
   ]
  },
  {
   "cell_type": "code",
   "execution_count": 38,
   "metadata": {
    "colab": {},
    "colab_type": "code",
    "id": "Xe7RXH3N3CWU"
   },
   "outputs": [
    {
     "data": {
      "image/png": "[encoded data removed]",
      "text/plain": [
       "<Figure size 432x288 with 1 Axes>"
      ]
     },
     "metadata": {
      "needs_background": "light"
     },
     "output_type": "display_data"
    }
   ],
   "source": [
    "test_predictions = model.predict(normed_test_data).flatten()\n",
    "\n",
    "plt.scatter(test_labels, test_predictions)\n",
    "plt.xlabel('True Values [SalePrice]')\n",
    "plt.ylabel('Predictions [SalePrice]')\n",
    "plt.axis('equal')\n",
    "plt.axis('square')\n",
    "plt.xlim([0,plt.xlim()[1]])\n",
    "plt.ylim([0,plt.ylim()[1]])\n",
    "_ = plt.plot([-1000000, 1000000], [-1000000, 1000000])\n"
   ]
  },
  {
   "cell_type": "markdown",
   "metadata": {
    "colab_type": "text",
    "id": "OrkHGKZcusUo"
   },
   "source": [
    "It looks like our model predicts reasonably well. Let's take a look at the error distribution."
   ]
  },
  {
   "cell_type": "code",
   "execution_count": 39,
   "metadata": {
    "colab": {},
    "colab_type": "code",
    "id": "f-OHX4DiXd8x"
   },
   "outputs": [
    {
     "data": {
      "image/png": "[encoded data removed]",
      "text/plain": [
       "<Figure size 432x288 with 1 Axes>"
      ]
     },
     "metadata": {
      "needs_background": "light"
     },
     "output_type": "display_data"
    }
   ],
   "source": [
    "error = test_predictions - test_labels\n",
    "plt.hist(error, bins = 50)\n",
    "plt.xlabel(\"Prediction Error [SalePrice]\")\n",
    "_ = plt.ylabel(\"Count\")\n",
    "#_ = plt.plot([-10000, 10000], [-10000, 10000])"
   ]
  },
  {
   "cell_type": "markdown",
   "metadata": {
    "colab_type": "text",
    "id": "r9_kI6MHu1UU"
   },
   "source": [
    "It's not quite gaussian, but we might expect that because the number of samples is very small. Also you can see that the distribution is centered around zero(definitely not zero if the scale is changed, but I am happy with that). which is a very good indication that our model isn't far from ground truth in most cases."
   ]
  },
  {
   "cell_type": "markdown",
   "metadata": {
    "colab_type": "text",
    "id": "vgGQuV-yqYZH"
   },
   "source": [
    "## Conclusion\n",
    "\n",
    "This notebook introduced a few techniques to handle a regression problem.\n",
    "\n",
    "* Mean Squared Error (MSE) is a common loss function used for regression problems (different loss functions are used for classification problems).\n",
    "* Similarly, evaluation metrics used for regression differ from classification. A common regression metric is Mean Absolute Error (MAE).\n",
    "* When numeric input data features have values with different ranges, each feature should be scaled independently to the same range.\n",
    "* If there is not much training data, one technique is to prefer a small network with few hidden layers to avoid overfitting.\n",
    "* Early stopping is a useful technique to prevent overfitting."
   ]
  }
 ],
 "metadata": {
  "accelerator": "GPU",
  "colab": {
   "collapsed_sections": [],
   "name": "NN basic_regression.ipynb",
   "provenance": [],
   "toc_visible": true,
   "version": "0.3.2"
  },
  "kernelspec": {
   "display_name": "Python 3",
   "language": "python",
   "name": "python3"
  },
  "language_info": {
   "codemirror_mode": {
    "name": "ipython",
    "version": 3
   },
   "file_extension": ".py",
   "mimetype": "text/x-python",
   "name": "python",
   "nbconvert_exporter": "python",
   "pygments_lexer": "ipython3",
   "version": "3.7.1"
  }
 },
 "nbformat": 4,
 "nbformat_minor": 2
}
