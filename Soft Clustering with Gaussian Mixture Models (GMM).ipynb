{
 "cells": [
  {
   "cell_type": "markdown",
   "metadata": {},
   "source": [
    "## Theory\n",
    "\n",
    "The Gaussian Mixture Model is a generative model that assumes that data are generated from multiple Gaussion distributions each with own Mean and variance. the Gaussian Mixture Models or Mixture of Gaussians models a convex combination of the various distributions.\n",
    "\n",
    "<img src=\"GMM.png\">\n",
    "\n",
    "Unlike K-Means, with **Gaussian Mixture Models** we want to define a probability distribution on the data. In order to do that, we need to convert our clustering problem into an inference problem.\n",
    "\n",
    "**Given:** $ x_1,x_2,...,x_n$, Where $ x \\in I\\!R^d$\n",
    "\n",
    "Let $ \\pi$ be a K-dimensional probability distribution and ($ \\mu_k;\\Sigma_k$)\n",
    "be the mean and covariance of the $ k^{th}$ Gaussian in $I\\!R^d$.\n",
    "\n",
    "We want to make the following hypothesis on how the data was generated:\n",
    "\n",
    "- Assign the $i$th observation to a cluster, $ c_i \\sim Discrete(\\pi)$\n",
    "\n",
    "- Generate the value of the observation, $e x_i \\sim  N(\\mu_{c_i} ;\\Sigma_{c_i} )$ where $ \\mu = \\{\\mu_1,...,\\mu_k\\}$ and $ \\Sigma = \\{\\Sigma_1,...,\\Sigma_k\\}$\n",
    "\n",
    "**Goal:** We want to learn $ \\pi;\\mu$ and $ \\Sigma$. \n"
   ]
  },
  {
   "cell_type": "markdown",
   "metadata": {},
   "source": [
    "This is an inference goal. we've defined a hypothesis on how the data was generated which in return defines a joint likelihood on the data given some parameters. now that we have the data, our goal is to go back and infer what parameters could have generated the data.\n",
    "\n",
    "We are going to use the maximum likelihood approach to do the inference in the **GMM**."
   ]
  },
  {
   "cell_type": "markdown",
   "metadata": {},
   "source": [
    "Our problem can now be noted like this:\n",
    "\n",
    "$ p(x_1,...,X_n|\\pi,\\mu,\\Sigma)  =  \\prod_{i=1}^n p(x_i|\\pi,\\mu,\\Sigma)$ (i.i.d)\n",
    "\n",
    "Notice that $ c_i$ is missing. this is because we integrated it out. we can bring it back to the equation as a joint likelihood of $ x_i$ given the parameters $\\large \\pi,\\mu$ and $ \\Sigma$.\n",
    "\n",
    "$ p(x_1,...,X_n|\\pi,\\mu,\\Sigma)  =  \\prod_{i=1}^n p(x_i|\\pi,\\mu,\\Sigma)  =  \\prod_{i=1}^n \\sum_{k=1}^K p(x_i,c_i=k|\\pi,\\mu,\\Sigma)$\n",
    "\n",
    "our goal now is to maximize the $ p(x_1,...,X_n|\\pi,\\mu,\\Sigma)$. taking a derivative of a product would be very hard. let's instead use the log likelihood of $ p(x_1,...,X_n|\\pi,\\mu,\\Sigma)$.\n",
    "\n",
    "$ \\ln p(x_1,...,X_n|\\pi,\\mu,\\Sigma) = \\sum_{i=1}^n ln \\sum_{k=1}^K p(x_i,c_i=k|\\pi,\\mu,\\Sigma)$\n",
    "\n",
    "Oooh no! the ln after the first summation make it hard to find the maximum by applying the derivative of the function and assign it to zero. we need to find an iterative algorithm to find the estimate of parameters that maximize the likelihood of our function."
   ]
  },
  {
   "cell_type": "markdown",
   "metadata": {},
   "source": [
    "## Expectation Maximization (EM) to the rescue\n",
    "\n",
    "Let's now introduce the concept of **EM**. I am not going to derive all the formula of **EM**, maybe next time if I have enough time, but I will do my best to present the essentials of **EM**. let's remind ourselves about some probability properties:\n",
    "\n",
    "For discrete variables, the marginal probability mass function of $ X$ is \n",
    "\n",
    ">$ p(X=x) = \\sum_y p(X=x,Y=y)  = \\sum_y p(X=x| Y=y) P(Y=y)$\n",
    "\n",
    "For continuous variables, the mariginal probability density function of $ X$ is \n",
    "\n",
    ">$ p(X) = \\int p(X,Y)  dY = \\int p(X|Y) p(Y) dY$\n",
    "\n",
    "now let's add one more important rule: \n",
    "\n",
    ">$ p(X|\\theta_1) = \\int p(X,Y|\\theta_1)  dY = \\int p(X|Y,\\theta_1) p(Y|\\theta_1) dY$\n",
    "\n",
    "Using the above rules, the **EM** states that the following statement for the objective function as true:\n",
    "\n",
    "$ ln  p(x|\\theta_1) =  \\int q(\\theta_2) ln {\\large \\frac{p(x,\\theta_2|\\theta_1)}{q(\\theta_2)}}d\\theta_2 + \\int q(\\theta_2) ln {\\large \\frac{q(\\theta_2)}{p(\\theta_2|x,\\theta_1)}}d\\theta_2$\n",
    "\n",
    "we assume the following:\n",
    "\n",
    "- $ q(\\theta_2)$ is any probability distribution (assumed continuous for now)\n",
    "- We assume we know $ p(\\theta_2|x,\\theta_1)$. That is, given the data $ x$ and fixed\n",
    "values for $ \\theta_1$, we can solve the conditional posterior distribution of $ \\theta_2$.\n",
    "\n",
    "**EM** then split our desired objective function in two:\n",
    "\n",
    "- $ \\int q(\\theta_2) ln {\\large \\frac{p(x,\\theta_2|\\theta_1)}{q(\\theta_2)}}d\\theta_2$ is called $ L$\n",
    "- $ \\int q(\\theta_2) ln {\\large \\frac{q(\\theta_2)}{p(\\theta_2|x,\\theta_1)}}d\\theta_2$ is called Kullback-Leibler divergence or $ KL$ divergence\n",
    "\n",
    "Some more observations about the right hand side:\n",
    "\n",
    "- The $ KL$ divergence is always $ >= 0$ and only $ = 0$ when $ q = p$.\n",
    "-  We are assuming that the integral in $ L$ can be calculated, leaving a function only of $ \\theta_1$ (for a particular setting of the distribution q)."
   ]
  },
  {
   "cell_type": "markdown",
   "metadata": {},
   "source": [
    "## The EM algorithm\n",
    "The **EM** algorithm is an iterative one. assume we have $\\large \\theta_1^{(t)}$ at time $t$. find $\\large \\theta_1^{(t+1)}$ as follows:\n",
    "\n",
    "**E-step:** Set $ q_t(\\theta_2) = p(\\theta_2|x,\\theta_1^{(t)})$ and calculate \n",
    "\n",
    "$ L_1(x,\\theta_1) = \\int q_t(\\theta_2) ln {\\large \\frac{p(x,\\theta_2|\\theta_1)}{q(\\theta_2)}}d\\theta_2 = \\int q_t(\\theta_2) ln p(x,\\theta_2|\\theta_1)d\\theta_2$. \n",
    "\n",
    "The $\\large ln$ converts the denominator into subtraction but we can ignore the term since it does not involve $\\large \\theta_1$ \n",
    "\n",
    "**M-step:** Set $ \\theta_1^{(t+1)} = argmax_{\\theta_1} L_1(x,\\theta_1)$\n",
    "\n",
    "Use $ \\theta_1^{(t+1)}$ to get $ \\theta_1^{(t+2)}$ and keep iterating until the parameters are no longer improving.\n",
    "\n",
    "\n"
   ]
  },
  {
   "cell_type": "markdown",
   "metadata": {},
   "source": [
    "## The EM objective for the Gaussian mixture model\n",
    "\n",
    "Using the **EM** notation, we can rewrite our **GMM** objective function as :\n",
    "\n",
    "$ \\sum_{i=1}^n ln p(x_i|\\pi,\\mu,\\Sigma) = \\sum_{i=1}^n \\sum_{k=1}^K q(c_i=k)  ln  {\\large \\frac{p(x_i,c_i=k|\\pi,\\mu,\\Sigma)}{q(c_i=k)}} + \\sum_{i=1}^n \\sum_{k=1}^K  q(c_i=k) ln {\\large \\frac{q(c_i=k)}{p(c_i=k|x_i,\\pi,\\mu,\\Sigma)}}$\n",
    "\n",
    "### EM SETUP (ONE ITERATION)\n",
    "\n",
    "**First:** Set $ q(c_i=k) \\Leftarrow p(c_i = k|x_i,\\pi,\\mu,\\Sigma)$ using Bayes rule:\n",
    "\n",
    "$ p(c_i = k|x_i,\\pi,\\mu,\\Sigma)$ $ \\alpha$ $ p(c_i = k|\\pi)p(x_i|c_i=k,\\mu,\\Sigma)$\n",
    "\n",
    "We can solve the posterior of $\\large c_i$ given $\\large \\pi,\\mu$ and $\\large \\Sigma$ :\n",
    "\n",
    "$ q(c_i = k) = {\\large \\frac{\\pi_k \\mathcal{N}(x_i|\\mu_k,\\Sigma_k)}{\\sum_j \\pi_j \\mathcal{N}(x_i|\\mu_j,\\Sigma_j)}} \\Rightarrow \\phi_i(k)$"
   ]
  },
  {
   "cell_type": "markdown",
   "metadata": {},
   "source": [
    "**E-step:** Take the expectation using the updated q’s\n",
    "\n",
    "$ Q = \\sum_{i=1}^{n} \\sum_{k=1}^{K} \\phi_i(k) ln p(x_i,c_i=k|\\pi,\\mu_k,\\Sigma_k) + $ constant w.r.t $ \\pi, \\mu, \\Sigma$\n",
    "\n",
    "$ ln p(x_i,c_i=k|\\pi,\\mu_k,\\Sigma_k) = ln \\pi_k + ln \\mathcal{N}(x_i|\\mu_k,\\Sigma_k)$\n",
    "\n",
    "**M-step:** Maximize $\\large Q$ with respect to $\\large \\pi$ and each $\\large \\mu_k, \\Sigma_k$"
   ]
  },
  {
   "cell_type": "markdown",
   "metadata": {},
   "source": [
    "## Algorithm\n",
    "\n",
    "**Given:** $ x_1,...,x_n$ where $ x \\in I\\!R^d$ \n",
    "\n",
    "**Goal*:** Maximize $ L = \\sum_{i=1}^{n} ln p (x_i|\\pi,\\mu,\\Sigma)$\n",
    "\n",
    "- Iterate until incremental improvement to $\\large L$ is \"small\" \n",
    "\n",
    "    1. **E-Step:** For $ i=1,...,n$, set \n",
    "    $ \\phi_i(k) = {\\large \\frac{\\pi_k \\mathcal{N}(x_i|\\mu_k,\\Sigma_k)}{\\sum_j \\pi_j \\mathcal{N}(x_i|\\mu_j,\\Sigma_j)}}$, for $ k = 1,...,K$\n",
    "    \n",
    "    2. **M-step:** For $ k=1,...,K$, define $ n_k = \\sum_{i=1}^{n} \\phi_i(k)$ and update the values:\n",
    "    \n",
    "    $ \\pi_k = {\\large \\frac{n_k}{n}}$, $ \\mu_k = {\\large \\frac{1}{n_k}}\\sum_{i=1}^n \\phi_i(k)x_i$, $ \\Sigma_k = {\\large \\frac{1}{n_k}}\\sum_{i=1}^n \\phi_i(k)(x_i-\\mu_k)(x_i-\\mu_k)^T$\n",
    "    \n",
    "    The update value for $\\large \\mu_k$ is used when updating $\\large \\Sigma_k$."
   ]
  },
  {
   "cell_type": "markdown",
   "metadata": {},
   "source": [
    "### In summary \n",
    "\n",
    "Maximum likelihood for the Gaussian mixture model can overfit the data. It will learn as many Gaussians as it’s given.\n",
    "\n",
    "There are a set of techniques for this based on the Dirichlet distribution. A Dirichlet prior is used on $\\large \\pi$ which encourages many Gaussians to\n",
    "disappear (i.e., not have any data assigned to them). we won't cover that in this post.\n",
    "\n"
   ]
  },
  {
   "cell_type": "markdown",
   "metadata": {},
   "source": [
    "## Practice\n",
    "\n",
    "In the next few cells we will apply the above theory into practice and show how to implement a GMM algorithm with EM in pyhton. although we will derive everything from scratch, in practice there are already well optimised ***scikit-learn functions*** that you can use to get this done quickly. we will show the raw code to enhance the understanding of what you've just learned above.\n",
    "\n",
    "In this tutorial we will use the Iris dataset. it is made of the following details:\n",
    "\n",
    "1. Number of Instances: 150 (50 in each of three classes)\n",
    "\n",
    "2. Number of Attributes: 4 numeric, predictive attributes and the class\n",
    "\n",
    "3. Attribute Information:\n",
    "   1. sepal length in cm\n",
    "   2. sepal width in cm\n",
    "   3. petal length in cm\n",
    "   4. petal width in cm\n",
    "   5. class: \n",
    "      -- Iris Setosa\n",
    "      -- Iris Versicolour\n",
    "      -- Iris Virginica\n",
    "\n",
    "4. Missing Attribute Values: None\n",
    "\n",
    "For this dataset we already know the labels. however we will trim the labels column and use the remaining of the attributes to categorise the data into three clusters. again we are using the prior knowledge that there are 3 classes of data. in real life you may not know much about the data and you have to find the number $K$ of clusters via different approaches such us looking at the relative decrease in $L$. If $K^\u0003$ is best, then increasing $K$\n",
    "when $K \\leq K^*$ should decrease $L$ much more than when $K > K^*$. \n"
   ]
  },
  {
   "cell_type": "code",
   "execution_count": 1,
   "metadata": {},
   "outputs": [],
   "source": [
    "from scipy.stats import multivariate_normal\n",
    "import scipy.stats as stats\n",
    "import matplotlib.pyplot as plt\n",
    "import numpy as np\n",
    "import pandas as pd\n",
    "from sklearn import decomposition\n",
    "from sklearn import datasets\n",
    "%matplotlib inline"
   ]
  },
  {
   "cell_type": "markdown",
   "metadata": {},
   "source": [
    "The dataset used in this tutorial can be downloaded from [ICS UCI university](https://archive.ics.uci.edu/ml/datasets/iris) or you can use sklearn. see an example [here](https://scikit-learn.org/stable/auto_examples/datasets/plot_iris_dataset.html)"
   ]
  },
  {
   "cell_type": "code",
   "execution_count": 2,
   "metadata": {},
   "outputs": [],
   "source": [
    "#data_path = \"./iris.data\"\n",
    "iris = datasets.load_iris()\n",
    "column_names = [\"sepal_length\",\"sepal_width\",\"petal_length\",\"petal_width\",\"label\"]\n",
    "iris_data = iris.data\n",
    "iris_target = np.reshape(iris.target,(-1,1))\n",
    "\n",
    "concat_iris_data = np.concatenate((iris_data, iris_target), axis=1)\n",
    "df = pd.DataFrame(concat_iris_data, columns = column_names)"
   ]
  },
  {
   "cell_type": "code",
   "execution_count": 3,
   "metadata": {},
   "outputs": [
    {
     "data": {
      "text/html": [
       "<div>\n",
       "<style scoped>\n",
       "    .dataframe tbody tr th:only-of-type {\n",
       "        vertical-align: middle;\n",
       "    }\n",
       "\n",
       "    .dataframe tbody tr th {\n",
       "        vertical-align: top;\n",
       "    }\n",
       "\n",
       "    .dataframe thead th {\n",
       "        text-align: right;\n",
       "    }\n",
       "</style>\n",
       "<table border=\"1\" class=\"dataframe\">\n",
       "  <thead>\n",
       "    <tr style=\"text-align: right;\">\n",
       "      <th></th>\n",
       "      <th>sepal_length</th>\n",
       "      <th>sepal_width</th>\n",
       "      <th>petal_length</th>\n",
       "      <th>petal_width</th>\n",
       "      <th>label</th>\n",
       "    </tr>\n",
       "  </thead>\n",
       "  <tbody>\n",
       "    <tr>\n",
       "      <th>57</th>\n",
       "      <td>4.9</td>\n",
       "      <td>2.4</td>\n",
       "      <td>3.3</td>\n",
       "      <td>1.0</td>\n",
       "      <td>1.0</td>\n",
       "    </tr>\n",
       "    <tr>\n",
       "      <th>93</th>\n",
       "      <td>5.0</td>\n",
       "      <td>2.3</td>\n",
       "      <td>3.3</td>\n",
       "      <td>1.0</td>\n",
       "      <td>1.0</td>\n",
       "    </tr>\n",
       "    <tr>\n",
       "      <th>16</th>\n",
       "      <td>5.4</td>\n",
       "      <td>3.9</td>\n",
       "      <td>1.3</td>\n",
       "      <td>0.4</td>\n",
       "      <td>0.0</td>\n",
       "    </tr>\n",
       "    <tr>\n",
       "      <th>85</th>\n",
       "      <td>6.0</td>\n",
       "      <td>3.4</td>\n",
       "      <td>4.5</td>\n",
       "      <td>1.6</td>\n",
       "      <td>1.0</td>\n",
       "    </tr>\n",
       "    <tr>\n",
       "      <th>37</th>\n",
       "      <td>4.9</td>\n",
       "      <td>3.6</td>\n",
       "      <td>1.4</td>\n",
       "      <td>0.1</td>\n",
       "      <td>0.0</td>\n",
       "    </tr>\n",
       "  </tbody>\n",
       "</table>\n",
       "</div>"
      ],
      "text/plain": [
       "    sepal_length  sepal_width  petal_length  petal_width  label\n",
       "57           4.9          2.4           3.3          1.0    1.0\n",
       "93           5.0          2.3           3.3          1.0    1.0\n",
       "16           5.4          3.9           1.3          0.4    0.0\n",
       "85           6.0          3.4           4.5          1.6    1.0\n",
       "37           4.9          3.6           1.4          0.1    0.0"
      ]
     },
     "execution_count": 3,
     "metadata": {},
     "output_type": "execute_result"
    }
   ],
   "source": [
    "#show random 5 samples\n",
    "df.sample(5)"
   ]
  },
  {
   "cell_type": "markdown",
   "metadata": {},
   "source": [
    "Although the purpose of this tutorial is not to analyse the data, let's have a quick look at the some stats of the distribution. df.describe().T will be handy"
   ]
  },
  {
   "cell_type": "code",
   "execution_count": 4,
   "metadata": {},
   "outputs": [
    {
     "data": {
      "text/html": [
       "<div>\n",
       "<style scoped>\n",
       "    .dataframe tbody tr th:only-of-type {\n",
       "        vertical-align: middle;\n",
       "    }\n",
       "\n",
       "    .dataframe tbody tr th {\n",
       "        vertical-align: top;\n",
       "    }\n",
       "\n",
       "    .dataframe thead th {\n",
       "        text-align: right;\n",
       "    }\n",
       "</style>\n",
       "<table border=\"1\" class=\"dataframe\">\n",
       "  <thead>\n",
       "    <tr style=\"text-align: right;\">\n",
       "      <th></th>\n",
       "      <th>count</th>\n",
       "      <th>mean</th>\n",
       "      <th>std</th>\n",
       "      <th>min</th>\n",
       "      <th>25%</th>\n",
       "      <th>50%</th>\n",
       "      <th>75%</th>\n",
       "      <th>max</th>\n",
       "    </tr>\n",
       "  </thead>\n",
       "  <tbody>\n",
       "    <tr>\n",
       "      <th>sepal_length</th>\n",
       "      <td>150.0</td>\n",
       "      <td>5.843333</td>\n",
       "      <td>0.828066</td>\n",
       "      <td>4.3</td>\n",
       "      <td>5.1</td>\n",
       "      <td>5.80</td>\n",
       "      <td>6.4</td>\n",
       "      <td>7.9</td>\n",
       "    </tr>\n",
       "    <tr>\n",
       "      <th>sepal_width</th>\n",
       "      <td>150.0</td>\n",
       "      <td>3.057333</td>\n",
       "      <td>0.435866</td>\n",
       "      <td>2.0</td>\n",
       "      <td>2.8</td>\n",
       "      <td>3.00</td>\n",
       "      <td>3.3</td>\n",
       "      <td>4.4</td>\n",
       "    </tr>\n",
       "    <tr>\n",
       "      <th>petal_length</th>\n",
       "      <td>150.0</td>\n",
       "      <td>3.758000</td>\n",
       "      <td>1.765298</td>\n",
       "      <td>1.0</td>\n",
       "      <td>1.6</td>\n",
       "      <td>4.35</td>\n",
       "      <td>5.1</td>\n",
       "      <td>6.9</td>\n",
       "    </tr>\n",
       "    <tr>\n",
       "      <th>petal_width</th>\n",
       "      <td>150.0</td>\n",
       "      <td>1.199333</td>\n",
       "      <td>0.762238</td>\n",
       "      <td>0.1</td>\n",
       "      <td>0.3</td>\n",
       "      <td>1.30</td>\n",
       "      <td>1.8</td>\n",
       "      <td>2.5</td>\n",
       "    </tr>\n",
       "    <tr>\n",
       "      <th>label</th>\n",
       "      <td>150.0</td>\n",
       "      <td>1.000000</td>\n",
       "      <td>0.819232</td>\n",
       "      <td>0.0</td>\n",
       "      <td>0.0</td>\n",
       "      <td>1.00</td>\n",
       "      <td>2.0</td>\n",
       "      <td>2.0</td>\n",
       "    </tr>\n",
       "  </tbody>\n",
       "</table>\n",
       "</div>"
      ],
      "text/plain": [
       "              count      mean       std  min  25%   50%  75%  max\n",
       "sepal_length  150.0  5.843333  0.828066  4.3  5.1  5.80  6.4  7.9\n",
       "sepal_width   150.0  3.057333  0.435866  2.0  2.8  3.00  3.3  4.4\n",
       "petal_length  150.0  3.758000  1.765298  1.0  1.6  4.35  5.1  6.9\n",
       "petal_width   150.0  1.199333  0.762238  0.1  0.3  1.30  1.8  2.5\n",
       "label         150.0  1.000000  0.819232  0.0  0.0  1.00  2.0  2.0"
      ]
     },
     "execution_count": 4,
     "metadata": {},
     "output_type": "execute_result"
    }
   ],
   "source": [
    "df.describe().T"
   ]
  },
  {
   "cell_type": "markdown",
   "metadata": {},
   "source": [
    "The Iris dataset is a very simple dataset. it has only 4 dimensions to analyse. let's plot this data and color them according to the label they belong to. However, we can't plot all the 4 dimensions at time. and choosing two and ignore other would still not perfectly representing the distribution. let's use a technique called PCA (Principle Component Analysis) to project the 4 dimensions into 2. the reduced-dimensions data points will not be used to train the cluster, However, it will be handy to show how the cluster chose the centroids and how close the cluster are to the ground truth labels."
   ]
  },
  {
   "cell_type": "code",
   "execution_count": 5,
   "metadata": {},
   "outputs": [],
   "source": [
    "X = df.iloc[:,:4].values\n",
    "y = df.iloc[:,4].values\n",
    "\n",
    "#Project data to lower dimension using PCA\n",
    "pca = decomposition.PCA(n_components=2)\n",
    "pca.fit(X)\n",
    "X = pca.transform(X)\n",
    "\n",
    "#create a dataframe combining the low dimension data and to be used for visualization\n",
    "low_dim_data = {\n",
    "        'X1': X[:,0],\n",
    "        'X2': X[:,1],\n",
    "        'label': y}\n",
    "low_dim_df = pd.DataFrame(low_dim_data, columns = ['X1', 'X2', 'label'])"
   ]
  },
  {
   "cell_type": "code",
   "execution_count": 6,
   "metadata": {},
   "outputs": [
    {
     "data": {
      "text/html": [
       "<div>\n",
       "<style scoped>\n",
       "    .dataframe tbody tr th:only-of-type {\n",
       "        vertical-align: middle;\n",
       "    }\n",
       "\n",
       "    .dataframe tbody tr th {\n",
       "        vertical-align: top;\n",
       "    }\n",
       "\n",
       "    .dataframe thead th {\n",
       "        text-align: right;\n",
       "    }\n",
       "</style>\n",
       "<table border=\"1\" class=\"dataframe\">\n",
       "  <thead>\n",
       "    <tr style=\"text-align: right;\">\n",
       "      <th></th>\n",
       "      <th>X1</th>\n",
       "      <th>X2</th>\n",
       "      <th>label</th>\n",
       "    </tr>\n",
       "  </thead>\n",
       "  <tbody>\n",
       "    <tr>\n",
       "      <th>84</th>\n",
       "      <td>0.588006</td>\n",
       "      <td>-0.484287</td>\n",
       "      <td>1.0</td>\n",
       "    </tr>\n",
       "    <tr>\n",
       "      <th>103</th>\n",
       "      <td>1.971531</td>\n",
       "      <td>-0.179728</td>\n",
       "      <td>2.0</td>\n",
       "    </tr>\n",
       "    <tr>\n",
       "      <th>56</th>\n",
       "      <td>1.095061</td>\n",
       "      <td>0.283468</td>\n",
       "      <td>1.0</td>\n",
       "    </tr>\n",
       "    <tr>\n",
       "      <th>54</th>\n",
       "      <td>1.088103</td>\n",
       "      <td>0.074591</td>\n",
       "      <td>1.0</td>\n",
       "    </tr>\n",
       "    <tr>\n",
       "      <th>129</th>\n",
       "      <td>2.388003</td>\n",
       "      <td>0.464640</td>\n",
       "      <td>2.0</td>\n",
       "    </tr>\n",
       "  </tbody>\n",
       "</table>\n",
       "</div>"
      ],
      "text/plain": [
       "           X1        X2  label\n",
       "84   0.588006 -0.484287    1.0\n",
       "103  1.971531 -0.179728    2.0\n",
       "56   1.095061  0.283468    1.0\n",
       "54   1.088103  0.074591    1.0\n",
       "129  2.388003  0.464640    2.0"
      ]
     },
     "execution_count": 6,
     "metadata": {},
     "output_type": "execute_result"
    }
   ],
   "source": [
    "low_dim_df.sample(5)"
   ]
  },
  {
   "cell_type": "code",
   "execution_count": 7,
   "metadata": {},
   "outputs": [
    {
     "data": {
      "image/png": "[encoded data removed]",
      "text/plain": [
       "<Figure size 432x432 with 1 Axes>"
      ]
     },
     "metadata": {
      "needs_background": "light"
     },
     "output_type": "display_data"
    }
   ],
   "source": [
    "# Create Figure\n",
    "fig, (axs) = plt.subplots(1,1, figsize = (6,6))\n",
    "\n",
    "# Plot each group in each dataset as unique olor\n",
    "for ax, low_dim_df in zip([axs], [low_dim_df]):\n",
    "    ax.set_title('Original CPA')\n",
    "    for cat, col in zip(low_dim_df['label'].unique(), ['#190BF5', '#0B5A07', '#DA8DB9']):\n",
    "        ax.scatter(low_dim_df[low_dim_df.label == cat].X1, low_dim_df[low_dim_df.label == cat].X2, c = col, label = cat, alpha = .45)\n",
    "    ax.legend()"
   ]
  },
  {
   "cell_type": "markdown",
   "metadata": {},
   "source": [
    "Let's first initialise centroids. Each centroid w ill be defined by an $(x_1,x_2,x_3,x_4)$ of coordinates. \n",
    "To initialize the clusters, a K-means++ type algorithm will be used.\n",
    "K-means++ picks one point from the data to be the first cluster center. Subsequent cluster centers are picked from the remaining \"unpicked\" points. However, the probability of picking any one point is proportional to the euclidean distance from that point to the nearest cluster center squared."
   ]
  },
  {
   "cell_type": "code",
   "execution_count": 8,
   "metadata": {},
   "outputs": [],
   "source": [
    "# Implement K-means ++ to initialize centers\n",
    "def pick_cluster_centers(points, num_clusters = 3):\n",
    "    # Create List to store clusters\n",
    "    clusters = []\n",
    "    # Save list of cluster indicies\n",
    "    arr_idx = np.arange(len(points))\n",
    "    # Choose first cluster; append to list\n",
    "    clusters.append( (points[np.random.choice(arr_idx)],1.0 / num_clusters,np.identity(points.shape[1], dtype=np.float64)))\n",
    "    # Define function to calculate squared distance\n",
    "    def dist_sq(x): return np.linalg.norm(x)**2\n",
    "    c_dist = None\n",
    "    # Add Clusters until reaching \"num_clusters\"\n",
    "    while len(clusters) < num_clusters:\n",
    "        # Calculate distance between latest cluster and rest of points\n",
    "        new_dist = np.apply_along_axis(dist_sq, 1, points - clusters[-1][0]).reshape(-1,1)\n",
    "        \n",
    "        # Add to distance array - First check to see if distance matrix exists\n",
    "        if type(c_dist) == type(None):\n",
    "            c_dist = new_dist\n",
    "        else:\n",
    "            c_dist = np.concatenate([c_dist, new_dist], axis = 1)\n",
    "            \n",
    "        # Calculate probability by finding shortest distance, then normalizing\n",
    "        c_prob = np.apply_along_axis(np.min, 1, c_dist)\n",
    "        c_prob = c_prob / c_prob.sum()\n",
    "        # Draw new cluster according to probability\n",
    "        clusters.append((points[np.random.choice(arr_idx, p = c_prob)],1.0 / num_clusters,np.identity(points.shape[1], dtype=np.float64)))\n",
    "    return np.array(clusters)"
   ]
  },
  {
   "cell_type": "markdown",
   "metadata": {},
   "source": [
    "### Cluster Assignments or E-step\n",
    "\n",
    "The proportion of a point $ i$ that belongs to cluster $ k$ is defined by the $\\large \\phi$ function for GMM:\n",
    "$ \\phi_i(k) = {\\large \\frac{\\pi_k N(x_i|\\mu_k,\\Sigma_k)}{\\sum_j \\pi_j N(x_i|\\mu_j,\\Sigma_k)}}$\n",
    "\n",
    "Note, $ \\mathcal{N}(x_i|\\mu_k,\\Sigma_k)$ is found with **stats.multivariate_normal(mu,Sigma).pdf(x)**\n",
    "\n",
    "\n",
    "Let's code a function called assign_clusters_GMM which Accept two arguments:\n",
    "\n",
    "**points:** a 2-d numpy array of the locations of each point\n",
    "\n",
    "**clusters:** a list of tuples. The $ k^{th}$ tuple in the list contains $\\large (\\mu_k, \\pi_k, \\Sigma_k)$ corresponding cluster k. $\\large \\mu$ is a 1-d numpy array; $\\large \\pi$ is numeric, and $\\large \\Sigma$ is 2-d numpy array.\n",
    "\n",
    "**RETURNS:** a 2-d numpy array of cluster weights where each row indicates the poportion of the corresponding point belonging to every cluster.\n",
    "e.g. If a point \"belongs\" evenly to both of the two clusters, the row would be: [.5,.5].\n"
   ]
  },
  {
   "cell_type": "code",
   "execution_count": 9,
   "metadata": {},
   "outputs": [],
   "source": [
    "def assign_clusters_GMM(points, clusters):\n",
    "    \n",
    "    \"\"\"\n",
    "    Returns an array indicating the porportion of the point\n",
    "    belonging to each cluster\n",
    "    \n",
    "    Positional Arguments:\n",
    "    \n",
    "    points: a 2-d numpy array where each row is a different point, and each\n",
    "    column indicates the location of that point in that dimension\n",
    "    \n",
    "    clusters: a list of tuples. Each tuple describes a cluster.\n",
    "    The first element of the tuple is a 1-d numpy array indicating the\n",
    "    location of that centroid in each dimension\n",
    "    The second element of the tuple is a number, indicating the weight (pi)\n",
    "    of that cluster\n",
    "    The thrid element is a 2-d numpy array corresponding to that cluster's\n",
    "    covariance matrix.\n",
    "    \n",
    "    Example:\n",
    "    points = np.array([[0,1], [2,2], [5,4], [3,6], [4,2]])\n",
    "    clusters = [(np.array([0,1]), 1, np.array([[1,0],[0,1]])),\n",
    "    (np.array([5,4]), 1, np.array([[1,0],[0,1]]))]\n",
    "    cluster_weights = assign_clusters_GMM(points, clusters)\n",
    "    print(cluster_weights) #--> np.array([[9.99999959e-01 4.13993755e-08]\n",
    "    [9.82013790e-01 1.79862100e-02]\n",
    "    [4.13993755e-08 9.99999959e-01]\n",
    "    [2.26032430e-06 9.99997740e-01]\n",
    "    [2.47262316e-03 9.97527377e-01]])\n",
    "    \n",
    "    \"\"\"\n",
    "    # Create function that creates a function which will\n",
    "    # calculate the pdf given a mu and sigma, then multiply by pi\n",
    "    def pdf_calc_func(mu, pi, Sigma):\n",
    "        return lambda x: pi*stats.multivariate_normal(mu, Sigma).pdf(x)\n",
    "    # Create list for saving weights\n",
    "    clust_weights = []\n",
    "    # For each cluster\n",
    "    for c in clusters:\n",
    "        # Create the custom pdf function\n",
    "        \n",
    "        pdf = pdf_calc_func(*c)\n",
    "        # Apply to all the points\n",
    "        clust_weights.append(np.apply_along_axis(pdf, 1, points).reshape(-1,1))\n",
    "    # Combine all points\n",
    "    clust_weights = np.concatenate(clust_weights, axis = 1)\n",
    "    # Define normalizatino function and normalize\n",
    "    def norm_clust_weights(x):\n",
    "        return [n/np.sum(x) for n in x]\n",
    "    cluster_assignments = np.apply_along_axis(norm_clust_weights, 1, clust_weights)\n",
    "    \n",
    "    return cluster_assignments,clust_weights"
   ]
  },
  {
   "cell_type": "markdown",
   "metadata": {},
   "source": [
    "### Cluster update or M-step\n",
    "Let's code a function called upadate_clusters_GMM \n",
    "\n",
    "**ACCEPTS two input:**\n",
    "\n",
    "**points:** a 2-d numpy array of the locations of each point\n",
    "\n",
    "**cluster_w eights:** a 2-d numpy array indicating cluster assignment for each point\n",
    "\n",
    "**RETURNS:** a list of tuples, giving the updated parameters for each cluster. Tuple for cluster $ k$ will be ($\\large \\mu_k$, $\\large \\pi_k$, $\\large \\Sigma_k$).\n",
    "\n",
    "$\\large \\mu_k$ should be a numpy array (vector) of length d.\n",
    "\n",
    "$\\large \\pi_k$ should be a float\n",
    "\n",
    "$\\large \\Sigma_k$ should be a numpy array (matrix) of size d x d\n",
    "\n",
    "The parameters are updated according to the following:\n",
    "\n",
    "$e \\pi_k = {\\large \\frac{n_k}{n}}$ where $ n_k=\\sum\\limits_{i=1}^n\\phi_i(k)$\n",
    "\n",
    "$ \\mu_k =  {\\large \\frac1{n_k}}\\sum\\limits_{i=1}^n \\phi_i(k)x_i$\n",
    "\n",
    "AFTER UPDATING $\\large\\mu_k$:\n",
    "\n",
    "$ \\Sigma_k =  {\\large \\frac1{n_k}}\\sum\\limits_{i=1}^n\\phi_i(k)(x_i-\\mu_k)(x_i-\\mu_k)^T$\n",
    "\n",
    "Each row of cluster_weights is $ k$ numeric weights corresponding to the $ k$ clusters($ \\phi_i(k)$). Each row adds up to one. \n",
    "\n",
    "e.g. if point $ i$ is assigned evenly to the two clusters, the row corresponding to $ i$ in cluster_weights will be [.5,.5]. Thus $ \\phi_i(0) = .5 \\text{ and }\\phi_i(1) = .5$"
   ]
  },
  {
   "cell_type": "code",
   "execution_count": 10,
   "metadata": {},
   "outputs": [],
   "source": [
    "def update_clusters_GMM(points, cluster_weights):\n",
    "    \"\"\"\n",
    "    Updates cluster centroids (mu, pi, and Sigma) according to GMM formulas\n",
    "    \n",
    "    Positional Arguments --\n",
    "    \n",
    "    points: a 2-d numpy array where each row is a different point, and each\n",
    "    column indicates the location of that point in that dimension\n",
    "    \n",
    "    cluster_weights: a 2-d numpy array where each row corresponds to each row in\n",
    "    \"points\". the values in that row correspond to the amount that point is associated\n",
    "    with each cluster.\n",
    "    \n",
    "    Example --\n",
    "    points = np.array([[0,1], [2,2], [5,4], [3,6], [4,2]])\n",
    "    cluster_weights = np.array([[9.99999959e-01, 4.13993755e-08],\n",
    "    [9.82013790e-01, 1.79862100e-02],\n",
    "    [4.13993755e-08, 9.99999959e-01],\n",
    "    [2.26032430e-06, 9.99997740e-01],\n",
    "    [2.47262316e-03, 9.97527377e-01]])\n",
    "    \n",
    "    new_clusters = update_clusters_GMM(points, cluster_weights)\n",
    "    print(new_clusters)\n",
    "    #-->[(array([0.99467691, 1.49609648]), #----> mu, centroid 1\n",
    "    0.3968977347767351, #-------------------> pi, centroid 1\n",
    "    array([[1.00994319, 0.50123508],\n",
    "    [0.50123508, 0.25000767]])), #---> Sigma, centroid 1\n",
    "    (array([3.98807155, 3.98970927]), #----> mu, centroid 2\n",
    "    0.603102265479875, #-------------------> pi, centroid 2\n",
    "    array([[ 0.68695286, -0.63950027], #---> Sigma centroid 2\n",
    "    [-0.63950027, 2.67341935]]))]\n",
    "    \"\"\"\n",
    "    # Create list for clusters\n",
    "    new_clusts = []\n",
    "    # For each cluster\n",
    "    for c in cluster_weights.T:\n",
    "        n_k = np.sum(c) # Calculate n\n",
    "        pi_k = n_k / len(points) # calculate pi\n",
    "        # Calculate mu\n",
    "        mu_k = np.apply_along_axis(np.sum,0,points * c.reshape(-1,1)) / n_k\n",
    "        # Initialize Sigma\n",
    "        Sigma_k = 0\n",
    "        # For every weight and point\n",
    "        for cw, p in zip(c, points):\n",
    "            diff = p - mu_k # Find Difference\n",
    "            # Dot Product times weight\n",
    "            Sigma_k += cw * np.matmul(diff.reshape(-1,1), diff.reshape(1,-1))\n",
    "        # Normalize Sigma\n",
    "        Sigma_k = Sigma_k / n_k\n",
    "        # Create cluster tuple, and add to list\n",
    "        new_c = (mu_k, pi_k, Sigma_k)\n",
    "        new_clusts.append(new_c)\n",
    "    return new_clusts"
   ]
  },
  {
   "cell_type": "code",
   "execution_count": 11,
   "metadata": {},
   "outputs": [],
   "source": [
    "def get_log_likelihood(likelihood):\n",
    "    \n",
    "    log_likelihoods = np.sum(likelihood)\n",
    "    return np.log(log_likelihoods)"
   ]
  },
  {
   "cell_type": "markdown",
   "metadata": {},
   "source": [
    "### Run our clustering algorithm and compare with sklearn\n",
    "\n",
    "With the cluster assignment and centroid updating functions defined, we can now test the clustering functionality on our iris dataset.  \n",
    "\n",
    "In the cells below, a number of functions are defined.  \n",
    "\n",
    "- Create meta-function which can combine the \"assign\" and \"update\" functions into a coherent clustering algorithm with stopping thresholds\n",
    "- Create GMM function\n",
    "- Create plotting function to compare `sklearn` and custom GMM algorithms  \n",
    "    - The assignment of initial clusters will be determined by the `pick_cluster_centers` function defined above, with centers passed explicitly to the custom algorithm and `sklearn` algorithm. "
   ]
  },
  {
   "cell_type": "code",
   "execution_count": 12,
   "metadata": {},
   "outputs": [],
   "source": [
    "# Create function that will create clustering functions\n",
    "def create_cluster_func(assign_func, update_func, threshold_func, assign_args = {}):\n",
    "    \n",
    "    def cluster(points, centroids, max_iter = 100, stop_threshold = .0001):\n",
    "        cluster_means_diffs = []\n",
    "        log_likelihoods = []\n",
    "        history = []\n",
    "        cluster_assign_history = []\n",
    "        for i in range(max_iter):\n",
    "            old_centroids = centroids\n",
    "            \n",
    "            cluster_weights,likelihood = assign_func(points, centroids, **assign_args)\n",
    "            \n",
    "            log_likelihood = get_log_likelihood(likelihood)\n",
    "            log_likelihoods.append(log_likelihood)\n",
    "            centroids = update_func(points, cluster_weights)\n",
    "            \n",
    "            clusters_snapshot = []\n",
    "        \n",
    "            # This is just for our later use in the graphs\n",
    "            for cluster in centroids:\n",
    "                \n",
    "                clusters_snapshot.append({\n",
    "                    'mu_k': cluster[0],\n",
    "                    'cov_k': cluster[2]\n",
    "                })\n",
    "\n",
    "            history.append(clusters_snapshot)\n",
    "            cluster_assign_history.append(cluster_weights)\n",
    "            \n",
    "            status,metric = threshold_func(centroids, old_centroids, stop_threshold)\n",
    "            cluster_means_diffs.append(metric)\n",
    "            print('Iteration',i + 1,'Likelihood: ', log_likelihood)\n",
    "            \n",
    "            if status:\n",
    "                break\n",
    "        \n",
    "        return (centroids,cluster_weights,cluster_means_diffs,log_likelihoods,history,cluster_assign_history)\n",
    "    return cluster\n",
    "\n",
    "# Create functions that test for convergence\n",
    "def basic_threshold_test(centroids, old_centroids, stop_threshold):\n",
    "    \n",
    "    for n, o in zip(centroids, old_centroids):\n",
    "        #print(n,o)\n",
    "        metric = np.linalg.norm(n-o)\n",
    "        if metric > stop_threshold:\n",
    "            return (False,metric)\n",
    "    return (True,metric)\n",
    "\n",
    "# Create functions that test for convergence\n",
    "def GMM_threshold_test(centroids, old_centroids, stop_threshold):\n",
    "    for np, op in zip(centroids, old_centroids):\n",
    "        status,metric = basic_threshold_test(np,op,stop_threshold)\n",
    "        if not status:\n",
    "            return (status,metric)\n",
    "    return (status,metric)"
   ]
  },
  {
   "cell_type": "code",
   "execution_count": 13,
   "metadata": {},
   "outputs": [],
   "source": [
    "### Creating actual functions for clustering\n",
    "cluster_GMM = create_cluster_func(assign_clusters_GMM,\n",
    "                                      update_clusters_GMM,\n",
    "                                      GMM_threshold_test)"
   ]
  },
  {
   "cell_type": "markdown",
   "metadata": {},
   "source": [
    "Let's now create a function to train our model and print the log likelihood as the function runs"
   ]
  },
  {
   "cell_type": "code",
   "execution_count": 14,
   "metadata": {},
   "outputs": [],
   "source": [
    "def train(df,clusters = 3,max_iter = 100):\n",
    "    # Pull out point data\n",
    "        points = df.iloc[:,:4].values\n",
    "        \n",
    "        # Pick random initial centers\n",
    "        init_cents = pick_cluster_centers(points, clusters)\n",
    "        \n",
    "        \n",
    "        # Calculate centers from custom function\n",
    "        cents,cluster_assignments,cluster_means_diffs,log_likelihoods,history,cluster_assign_history = cluster_GMM(points ,init_cents,max_iter)\n",
    "        \n",
    "        return (cents,cluster_assignments,cluster_means_diffs,log_likelihoods,history,cluster_assign_history)"
   ]
  },
  {
   "cell_type": "code",
   "execution_count": 15,
   "metadata": {},
   "outputs": [
    {
     "name": "stdout",
     "output_type": "stream",
     "text": [
      "Iteration 1 Likelihood:  -0.1767559115062872\n",
      "Iteration 2 Likelihood:  4.425800902344887\n",
      "Iteration 3 Likelihood:  4.727476392348161\n",
      "Iteration 4 Likelihood:  4.744253794004308\n",
      "Iteration 5 Likelihood:  4.758914806816143\n",
      "Iteration 6 Likelihood:  4.7714079665466835\n",
      "Iteration 7 Likelihood:  4.781227307552054\n",
      "Iteration 8 Likelihood:  4.78863638779539\n",
      "Iteration 9 Likelihood:  4.794899220132913\n",
      "Iteration 10 Likelihood:  4.8006506973417835\n",
      "Iteration 11 Likelihood:  4.806556736830546\n",
      "Iteration 12 Likelihood:  4.813489106018066\n",
      "Iteration 13 Likelihood:  4.81956706138121\n",
      "Iteration 14 Likelihood:  4.822665672015679\n",
      "Iteration 15 Likelihood:  4.824029209120693\n",
      "Iteration 16 Likelihood:  4.824666754252435\n",
      "Iteration 17 Likelihood:  4.824980749915617\n",
      "Iteration 18 Likelihood:  4.8251416670428275\n",
      "Iteration 19 Likelihood:  4.825226741291321\n",
      "Iteration 20 Likelihood:  4.825272761096767\n",
      "Iteration 21 Likelihood:  4.825298052883145\n",
      "Iteration 22 Likelihood:  4.82531209955972\n",
      "CPU times: user 2.97 s, sys: 102 ms, total: 3.07 s\n",
      "Wall time: 3.47 s\n"
     ]
    }
   ],
   "source": [
    "%%time\n",
    "cents,cluster_assignments,cluster_means_diffs,log_likelihoods,history,cluster_assign_history = train(df,3, 50)"
   ]
  },
  {
   "cell_type": "markdown",
   "metadata": {},
   "source": [
    "Let's plot the log likelihood per iteration to see if the function has converged indeed."
   ]
  },
  {
   "cell_type": "code",
   "execution_count": 16,
   "metadata": {},
   "outputs": [
    {
     "data": {
      "image/png": "[encoded data removed]",
      "text/plain": [
       "<Figure size 720x720 with 1 Axes>"
      ]
     },
     "metadata": {
      "needs_background": "light"
     },
     "output_type": "display_data"
    }
   ],
   "source": [
    "plt.figure(figsize=(10, 10))\n",
    "plt.title('Log Likelihood')\n",
    "plt.plot(np.arange(1, len(log_likelihoods)+1), log_likelihoods)\n",
    "plt.show()"
   ]
  },
  {
   "cell_type": "markdown",
   "metadata": {},
   "source": [
    "Great, the log likelihood increased for each iteration. we can see that after 15 Iterations, the function has almost converged.\n",
    "\n",
    "Let's now plot the difference between new cluster means and old cluster means. this difference should decrease with time as the model converge."
   ]
  },
  {
   "cell_type": "code",
   "execution_count": 17,
   "metadata": {},
   "outputs": [
    {
     "data": {
      "image/png": "[encoded data removed]",
      "text/plain": [
       "<Figure size 720x720 with 1 Axes>"
      ]
     },
     "metadata": {
      "needs_background": "light"
     },
     "output_type": "display_data"
    }
   ],
   "source": [
    "plt.figure(figsize=(10, 10))\n",
    "plt.title('Difference of new and old clusters\\' Means')\n",
    "plt.plot(np.arange(1, len(cluster_means_diffs)+1), cluster_means_diffs)\n",
    "plt.show()"
   ]
  },
  {
   "cell_type": "markdown",
   "metadata": {},
   "source": [
    "Let's now create a function to plot the results by comparing our custom model and the sklearn model. beside that, the function will plot the original PCA data and the PCA data labeled by the custom model. for the cluster label plot, to pick colors, the function will use the probabilities for each data to belong to each of the clusters. this way will see that some of the data have a strange color that is in between the colors used in the neighboring clusters."
   ]
  },
  {
   "cell_type": "code",
   "execution_count": 18,
   "metadata": {},
   "outputs": [],
   "source": [
    "# Visualization function for GMM\n",
    "from sklearn.mixture import GaussianMixture\n",
    "from matplotlib.colors import to_hex, to_rgb\n",
    "\n",
    "def plot_GMM(df,low_dim_df,cents,cluster_assignments,clusters = 3):\n",
    "    \n",
    "    \"\"\" \n",
    "\n",
    "    we will have two sections. \n",
    "    \n",
    "    Section 1: we will plot the original iris data. this will generate labels that are assigned to each data point and\n",
    "    cluster centroids. \n",
    "    \n",
    "    Section 2: Using the assigned clusters and corresponding probabilities, we will calculate the centroids for the projected low dimension data points used\n",
    "    solely for the purpose of plotting the data in two dimensions. this section is for the sake of presenting exactly how the centroids\n",
    "    were chosen, we decided to use a low dimension data for plotting.\n",
    "    \"\"\"\n",
    "    # Create figure\n",
    "    fig, (axs) = plt.subplots(1,2, figsize = (12,6))\n",
    "    \n",
    "    # Go thorugh all data sets \n",
    "    for ax, df in zip([axs], [df]):\n",
    "        \n",
    "        #Section 1\n",
    "        # Pull out point data\n",
    "        points = df.iloc[:,:4].values\n",
    "        \n",
    "        \n",
    "        #Calculate centers from sklearn\n",
    "        GMM = GaussianMixture(clusters, n_init=1,covariance_type='diag').fit(points)\n",
    "        cluster_assignments_sk = GMM.predict_proba(points)\n",
    "        \n",
    "        \n",
    "        \n",
    "        #section 2\n",
    "        \n",
    "        #Calculate centers of the low dimension data projection\n",
    "        low_dim_cents_custom = update_clusters_GMM(low_dim_df.iloc[:,:2].values, cluster_assignments)\n",
    "        \n",
    "        \n",
    "        def to_cluster_format(index):\n",
    "            zeros_clust = np.array([0,0,0])\n",
    "            zeros_clust[index:index+1] = 1\n",
    "            \n",
    "            return zeros_clust\n",
    "            \n",
    "        low_dim_cents_sk = update_clusters_GMM(low_dim_df.iloc[:,:2].values, cluster_assignments_sk)\n",
    "        \n",
    "        \n",
    "        #calculate the actual centers of our GMM clustering with sklearn\n",
    "        cent_sk = GMM.means_\n",
    "        \n",
    "        #assign colors according to probabilities\n",
    "        def find_hex(p, colors):\n",
    "            p = p.reshape(-1,1)\n",
    "            return to_hex(np.sum(p*colors, axis=0))\n",
    "        \n",
    "        colors = ['#190BF5', '#0B5A07', '#DA8DB9']#[:clusters]\n",
    "        colors = [np.array(to_rgb(c)) for c in colors]\n",
    "        colors = np.array(colors)\n",
    "        \n",
    "        plot_colors = [find_hex(p,colors) for p in cluster_assignments]\n",
    "        \n",
    "        \n",
    "        # Plot each distribution in different color\n",
    "        axs[0].set_title('Original CPA')\n",
    "        for cat, col in zip(low_dim_df['label'].unique(), ['#190BF5', '#0B5A07', '#DA8DB9']):\n",
    "                axs[0].scatter(low_dim_df[low_dim_df.label == cat].X1, low_dim_df[low_dim_df.label == cat].X2, \n",
    "                           label = None, c = col, alpha = .45)\n",
    "\n",
    "        axs[1].set_title('Cluster Labeled CPA')\n",
    "        axs[1].scatter(low_dim_df.X1, low_dim_df.X2, label = None, c = plot_colors, alpha = .45)\n",
    "        # Plot Calculated centers\n",
    "        \n",
    "        only_low_dim_cents_custom = np.array([ mu for mu,pi,sigma in low_dim_cents_custom])\n",
    "        only_low_dim_cents_sk = np.array([ mu for (mu,pi,sigma) in low_dim_cents_sk])\n",
    "        \n",
    "        axs[1].scatter(only_low_dim_cents_custom[:,0], only_low_dim_cents_custom[:,1], c = 'k', marker = 'x', label = 'Custom', s = 70)\n",
    "        axs[1].scatter(only_low_dim_cents_sk[:,0], only_low_dim_cents_sk[:,1], c = 'r', marker = '+', label = 'sklearn', s = 70)\n",
    "        \n",
    "        # Add legend\n",
    "        axs[1].legend()"
   ]
  },
  {
   "cell_type": "code",
   "execution_count": 19,
   "metadata": {},
   "outputs": [
    {
     "name": "stdout",
     "output_type": "stream",
     "text": [
      "CPU times: user 75.3 ms, sys: 4.93 ms, total: 80.3 ms\n",
      "Wall time: 112 ms\n"
     ]
    },
    {
     "data": {
      "image/png": "[encoded data removed]",
      "text/plain": [
       "<Figure size 864x432 with 2 Axes>"
      ]
     },
     "metadata": {
      "needs_background": "light"
     },
     "output_type": "display_data"
    }
   ],
   "source": [
    "%%time\n",
    "plot_GMM(df,low_dim_df,cents,cluster_assignments,3)"
   ]
  },
  {
   "cell_type": "markdown",
   "metadata": {},
   "source": [
    "As you can see, our custom GMM model has done a very good job. observing the colors between the two plots, you will see that unlike the hard clustering with K-means, some data seem to be assigned to part to one cluster and part to another. this is the work of the probabilities that GMM allows us to quantify. also notice how centroids for our custom GMM and centroids for sklearn GMM are close to each other without being the same. this is because we are using different initial cluster assignment. "
   ]
  },
  {
   "cell_type": "markdown",
   "metadata": {},
   "source": [
    "As a bonu, let's make an animation that shows how our GMM updated the Means of the three Normal distributions until convergence."
   ]
  },
  {
   "cell_type": "code",
   "execution_count": null,
   "metadata": {},
   "outputs": [],
   "source": [
    "import matplotlib.colors as colors\n",
    "from matplotlib.patches import Ellipse\n",
    "from PIL import Image\n",
    "import imageio\n",
    "import matplotlib.animation as ani\n",
    "def create_cluster_animation(df, history, scores):\n",
    "    fig, ax = plt.subplots(1, 1, figsize=(10, 10))\n",
    "    colorset = ['#190BF5', '#0B5A07', '#DA8DB9']\n",
    "    images = []\n",
    "    \n",
    "    #assign colors according to probabilities\n",
    "    def find_hex(p, colors):\n",
    "        p = p.reshape(-1,1)\n",
    "        return to_hex(np.sum(p*colors, axis=0))\n",
    "    \n",
    "    for j, clusters in enumerate(history):\n",
    "      \n",
    "        idx = 0\n",
    "      \n",
    "        if j % 3 != 0:\n",
    "            continue\n",
    "        \n",
    "        plt.cla()\n",
    "        \n",
    "        low_dim_cents_custom = update_clusters_GMM(low_dim_df.iloc[:,:2].values, scores[j])\n",
    "        for cluster in low_dim_cents_custom:\n",
    "            mu = cluster[0]\n",
    "            cov = cluster[2]\n",
    "            \n",
    "            eigenvalues, eigenvectors = np.linalg.eigh(cov)\n",
    "            order = eigenvalues.argsort()[::-1]\n",
    "            eigenvalues, eigenvectors = eigenvalues[order], eigenvectors[:, order]\n",
    "            vx, vy = eigenvectors[:,0][0], eigenvectors[:,0][1]\n",
    "            theta = np.arctan2(vy, vx)\n",
    "\n",
    "            color = colors.to_rgba(colorset[idx])\n",
    "\n",
    "            for cov_factor in range(1, 4):\n",
    "                ell = Ellipse(xy=mu, width=np.sqrt(eigenvalues[0]) * cov_factor * 2, height=np.sqrt(eigenvalues[1]) * cov_factor * 2, angle=np.degrees(theta), linewidth=2)\n",
    "                ell.set_facecolor((color[0], color[1], color[2], 1.0 / (cov_factor * 4.5)))\n",
    "                ax.add_artist(ell)\n",
    "\n",
    "            ax.scatter(mu[0], mu[1], c=colorset[idx], s=1000, marker='+')\n",
    "            idx += 1\n",
    "\n",
    "        #for i in range(df.shape[0]):\n",
    "            \n",
    "        custom_colors = [np.array(to_rgb(c)) for c in colorset]\n",
    "        custom_colors = np.array(custom_colors)\n",
    "\n",
    "        plot_colors = [find_hex(p,custom_colors) for p in scores[j]]\n",
    "            \n",
    "        ax.scatter(df.X1, df.X2, c=plot_colors, marker='o')\n",
    "        \n",
    "        fig.canvas.draw()\n",
    "        \n",
    "        image = np.frombuffer(fig.canvas.tostring_rgb(), dtype='uint8')\n",
    "        image = image.reshape(fig.canvas.get_width_height()[::-1] + (3,))\n",
    "\n",
    "        images.append(image)\n",
    "    \n",
    "    kwargs_write = {'fps':1.0, 'quantizer':'nq'}\n",
    "    imageio.mimsave('./gmm.gif', images, fps=1)\n",
    "    plt.show(Image.open('gmm.gif').convert('RGB'))\n",
    "    \n",
    "    \n",
    "create_cluster_animation(low_dim_df, history, cluster_assign_history)"
   ]
  },
  {
   "cell_type": "markdown",
   "metadata": {},
   "source": [
    "![SegmentLocal](gmm.gif \"segment\")"
   ]
  },
  {
   "cell_type": "markdown",
   "metadata": {},
   "source": [
    "### Summary\n",
    "In this tutorial we've covered some of the mathematical logic behind GMM and EM. we've seen that GMM is a probabilistic model than it is a clustering algorithm and easy to implement. in real life, you will spend most of the time identifying the right K number of clusters for your dataset. we have not covered technics on how to do this.\n",
    "\n",
    "In a nutshell, GMM is a soft clustering algorithm in a sense that each data point is assigned to a cluster with some degrees of uncertainty. \n",
    "\n",
    "I hope you enjoyed the tutorial.\n",
    "\n",
    "## Recognition:\n",
    "\n",
    "I would like to thank  [Prof John W. Paisley](https://www.ee.columbia.edu/john-w-paisley) and [mathematicalmonk channel](https://www.youtube.com/channel/UCcAtD_VYwcYwVbTdvArsm7w) withoum whom I could not easily derive the mathematical formula behind K-means algorithm. a big thanks to Emeritus institute of management and and [Oscar Contreras Carrasco](https://towardsdatascience.com/@OscarContrerasC) from whom I got most of the code used in this tutorial  your contribution to the wide spread of AI and ML is much appreciated."
   ]
  },
  {
   "cell_type": "code",
   "execution_count": null,
   "metadata": {},
   "outputs": [],
   "source": []
  }
 ],
 "metadata": {
  "kernelspec": {
   "display_name": "Python 3",
   "language": "python",
   "name": "python3"
  },
  "language_info": {
   "codemirror_mode": {
    "name": "ipython",
    "version": 3
   },
   "file_extension": ".py",
   "mimetype": "text/x-python",
   "name": "python",
   "nbconvert_exporter": "python",
   "pygments_lexer": "ipython3",
   "version": "3.7.1"
  }
 },
 "nbformat": 4,
 "nbformat_minor": 2
}
