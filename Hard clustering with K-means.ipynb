{
 "cells": [
  {
   "cell_type": "markdown",
   "metadata": {},
   "source": [
    "## Theory\n",
    "**K-Means** is the simplest and most fundemental clustering algorithm.\n",
    "\n",
    "**Given:** $x_1,x_2,...,x_n$, Where $x \\in I\\!R^d$\n",
    "\n",
    "**Output:** Clusters $C_1,C_2,...,C_n$, Where $C_i \\in \\{1,2,..K\\}$\n",
    "\n",
    "**Goal:** Partition data into K clusters(groups) where each cluster has similar data.\n"
   ]
  },
  {
   "cell_type": "markdown",
   "metadata": {},
   "source": [
    "The goal is pretty clear. you have a bunch of data from which you may or may not know the generative distrubition. you want to learn the structure of the data in a such way simular data are grouped together."
   ]
  },
  {
   "cell_type": "markdown",
   "metadata": {},
   "source": [
    "## The algorithm\n",
    "Notation:\n",
    "\n",
    "- **C**: Vector of assignments. it shows which cluster each data point $x$ is assigned to.\n",
    "\n",
    "- $\\mu$: Vector of centroids. it defines a cluster.\n",
    "\n",
    "From the data set **X**, randomly choose K unique data points and assign them to $\\mu = (\\mu_1,\\mu_2,...,\\mu_K)$ , $\\mu_k \\in I\\!R^d$. for simplicity I suggested to choose K unique random data points. although this works, in practice there are more advanced technics not covered here that help to pick the right centroids.\n",
    "\n",
    "Assign each data point $x_i$ to a cluster($C_i = j$ if $x_i$ is assigned to cluster j) such that $x_i$ is closer to $\\mu_j$.\n",
    "\n",
    "As usual we need to define an objective function that :\n",
    "- tells us what are the best $C$ and $\\mu$\n",
    "- is easy to optimize"
   ]
  },
  {
   "cell_type": "markdown",
   "metadata": {},
   "source": [
    "## The Objective function\n",
    "The K-means objective function can be written as :\n",
    "$C^\\ast, \\mu^\\ast = argmin_{\\substack{\\mu,c}} \\sum_{i=1}^{n} \\sum_{k=1}^{K} 1\\{c_i = k\\}||x_i - \\mu_k||^2$\n",
    "\n",
    "**This can be read as:** we want to get values for $C and \\mu$ that minimize the sum of euclidian distances between each data point and the centroid of the cluster to which it is assigned to. \n",
    "\n",
    "To make things more familiar, let's rewrite this in objective function in a familiar loss function notation.\n",
    "\n",
    "$ L= \\sum_{i=1}^{n} \\sum_{k=1}^{K} 1\\{c_i = k\\}||x_i - \\mu_k||^2$\n",
    "\n",
    "Notice the following:\n",
    "- The loss function penalizes the distance of $x_i$ to the centroid it’s assigned to by $c_i$.\n",
    "- The objective function is non-convexe. this means we can't find the optimal $\\mu^*$ and $C^*$.\n",
    "- Since the indicator function return a discrete value between 0 and 1, we can't optimise the objective function by taking the derivative and set it to zero. we will need an algorithm that iterates between $\\mu$ and $C$, optimise one while fixing the other and vice versa."
   ]
  },
  {
   "cell_type": "markdown",
   "metadata": {},
   "source": [
    "## Coordinate descent\n",
    "Input: $x_1;... ; x_n$ where $x_i \\in I\\!R^d$. Randomly initialize $\\mu = (\\mu_1; ...; \\mu_K)$.\n",
    "\n",
    "Iterate back-and-forth between the following two steps:\n",
    "1. Given $\\mu$, find the best value $c_i \\in \\{1; ... ; K\\}$ for i = 1; . . . ; n.\n",
    "2. Given c, find the best vector $\\mu_k \\in I\\!R^d$ for k = 1; ... ; K.\n",
    "\n",
    "This can be understood like this: given that we've found a good value of $\\mu$ there is a good corresponding value of $C$. now given that we found a better value of $C$, then there is a better value of $\\mu$. we keep iterating until these two values are no longer changing or are changing in insignificant way.\n",
    "\n",
    "Now that we understand the algorithm, lets go ahead and derive the values that minimise the loss function. recall that the loss function is $ L= \\sum_{i=1}^{n} \\sum_{k=1}^{K} 1\\{c_i = k\\}||x_i - \\mu_k||^2$. we want to find the values of $\\mu$ and $C$ that minimise this loss function.\n",
    "\n",
    "Let's start by randomly initialising $\\mu = (\\mu_1;...;\\mu_k)$"
   ]
  },
  {
   "cell_type": "markdown",
   "metadata": {},
   "source": [
    "### Assignment step\n",
    "Given $\\mu$ above, updat $C=(c_1;...;c_n)$. let's rewrite the loss function by expanding each data point $x_i$ independently.\n",
    "\n",
    "$L= \\sum_{k=1}^{K} 1\\{c_1 = k\\}||x_1 - \\mu_k||^2 +  ...  + \\sum_{k=1}^{K} 1\\{c_n = k\\}||x_n - \\mu_k||^2$\n",
    "\n",
    "The above step sums up the distance of each data point to its centroid. the intituition behind this, is that if the data point is assigned to the right cluster, then the distance to the centroid to the cluster where it belongs must be the minimum possible compared to its distance to the rest of centroids. \n",
    "\n",
    "We can minimize $L$ with respect to each $c_i$ by minimizing each term above separately. The solution is to assign $x_i$ to the closest centroid.\n",
    "\n",
    "$c_i = argmin_{\\substack{k}} \\sum_{k=1}^{K}||x_i - \\mu_k||^2$\n",
    "\n",
    "Because there are only $K$ options for each $c_i$, there are no derivatives. Simply calculate all the possible values for $c_i$ and pick the best (smallest) one."
   ]
  },
  {
   "cell_type": "markdown",
   "metadata": {},
   "source": [
    "### Update step\n",
    "Given $c = (c_1; ... ; c_n)$, update $\\mu = (\\mu_1; ... ; \\mu_K)$. For a given $c$, we can break $L$ into $K$ clusters defined by $c$ so that each $\\mu_i$ is independent.\n",
    "\n",
    "$L = \\sum_{i=1}^{N} 1\\{c_i = 1\\}||x_i - \\mu_1||^2 + ... + \\sum_{i=1}^{N} 1\\{c_i = K\\}||x_i - \\mu_k||^2$\n",
    "\n",
    "**This can be interpreted like this:** In the assignment step, we minimized the loss by making sure each each data point $x_i$ is assigned to its closest centroid. in this step we want to make sure that the centroids are updated in a way that for each centroid,the sum of distances of all data points belonging to the cluster represented by the centroid is minimal. \n",
    "\n",
    "As before, we can optimise each k individually. let's $n_k = \\sum_{i=1}^{N} 1\\{c_i = K\\}$ then $\\mu_k = argmin_{\\substack{\\mu}} \\sum_{i=1}^{N} 1\\{c_i = 1\\}||x_i - \\mu||^2\n",
    "\\to \\mu_k = \\frac{1}{n_k} \\sum_{i=1}^{N} x_i1\\{c_i = K\\}$\n",
    "\n",
    "That is, $\\mu_k$ is the mean of the data assigned to cluster k.\n",
    "\n",
    "The $\\mu_k$ was derived to be the mean of the data assigned to cluster k by taking the derivative with respect to $\\mu$ and then equalize with zero. then solve for $\\mu_k$. for more details watch [(ML 16.2) K-means clustering (part 2)](https://www.youtube.com/watch?v=4shfFAArxSc&list=PLD0F06AA0D2E8FFBA&index=115)."
   ]
  },
  {
   "cell_type": "markdown",
   "metadata": {},
   "source": [
    "### In summary \n",
    "The K-means clustering algorithm is as follows:\n",
    "\n",
    "**Given:** $x_1; ... ; x_n$ where each $x \\in I\\!R^d$\n",
    "\n",
    "**Goal:** Minimize $ L= \\sum_{i=1}^{n} \\sum_{k=1}^{K} 1\\{c_i = k\\}||x_i - \\mu_k||^2$\n",
    "\n",
    "- Randomly initialize $\\mu = (\\mu_1; ... ; \\mu_K)$.\n",
    "- Iterate until $c$ and $\\mu$ stop changing\n",
    "    1. Update each $c_i$ : $c_i = argmin_{\\substack{k}} \\sum_{k=1}^{K}||x_i - \\mu_k||^2$\n",
    "    2. Update each $\\mu_k$ : Set\n",
    "        - $n_k = \\sum_{i=1}^{N} 1\\{c_i = K\\}$\n",
    "        - $\\mu_k = \\frac{1}{n_k} \\sum_{i=1}^{N} x_i1\\{c_i = K\\}$\n",
    "\n"
   ]
  },
  {
   "cell_type": "markdown",
   "metadata": {},
   "source": [
    "## Practice\n",
    "\n",
    "In the next few cells we will apply the above theory into practice and show how easy it is to implement a k-means algorithm in pyhton. although we will derive everything from scratch, in practice there are already well optimised ***scikit-learn functions*** that you can use to get this done quickly. we will show the raw code to enhance the understanding of what you've just learned above.\n",
    "\n",
    "In this tutorial we will use the Iris dataset. it is made of the following details:\n",
    "\n",
    "1. Number of Instances: 150 (50 in each of three classes)\n",
    "\n",
    "2. Number of Attributes: 4 numeric, predictive attributes and the class\n",
    "\n",
    "3. Attribute Information:\n",
    "   1. sepal length in cm\n",
    "   2. sepal width in cm\n",
    "   3. petal length in cm\n",
    "   4. petal width in cm\n",
    "   5. class: \n",
    "      -- Iris Setosa\n",
    "      -- Iris Versicolour\n",
    "      -- Iris Virginica\n",
    "\n",
    "4. Missing Attribute Values: None\n",
    "\n",
    "For this dataset we already know the labels. however we will trim the labels column and use the remaining of the attributes to categorise the data into three clusters. again we are using the prior knowledge that there are 3 classes of data. in real life you may not know much about the data and you have to find the number $K$ of clusters via different approaches such us looking at the relative decrease in $L$. If $K^\u0003$ is best, then increasing $K$\n",
    "when $K \\leq K^*$ should decrease $L$ much more than when $K > K^*$. \n"
   ]
  },
  {
   "cell_type": "code",
   "execution_count": 1,
   "metadata": {},
   "outputs": [],
   "source": [
    "from scipy.stats import multivariate_normal\n",
    "import scipy.stats as stats\n",
    "import matplotlib.pyplot as plt\n",
    "import numpy as np\n",
    "import pandas as pd\n",
    "from sklearn import decomposition\n",
    "from sklearn import datasets\n",
    "%matplotlib inline"
   ]
  },
  {
   "cell_type": "markdown",
   "metadata": {},
   "source": [
    "The dataset used in this tutorial can be downloaded from [ICS UCI university](https://archive.ics.uci.edu/ml/datasets/iris) or you can use sklearn. see an example [here](https://scikit-learn.org/stable/auto_examples/datasets/plot_iris_dataset.html)"
   ]
  },
  {
   "cell_type": "code",
   "execution_count": 2,
   "metadata": {},
   "outputs": [],
   "source": [
    "#data_path = \"./iris.data\"\n",
    "iris = datasets.load_iris()\n",
    "column_names = [\"sepal_length\",\"sepal_width\",\"petal_length\",\"petal_width\",\"label\"]\n",
    "iris_data = iris.data\n",
    "iris_target = np.reshape(iris.target,(-1,1))\n",
    "\n",
    "concat_iris_data = np.concatenate((iris_data, iris_target), axis=1)\n",
    "df = pd.DataFrame(concat_iris_data, columns = column_names)"
   ]
  },
  {
   "cell_type": "code",
   "execution_count": 3,
   "metadata": {},
   "outputs": [
    {
     "data": {
      "text/html": [
       "<div>\n",
       "<style scoped>\n",
       "    .dataframe tbody tr th:only-of-type {\n",
       "        vertical-align: middle;\n",
       "    }\n",
       "\n",
       "    .dataframe tbody tr th {\n",
       "        vertical-align: top;\n",
       "    }\n",
       "\n",
       "    .dataframe thead th {\n",
       "        text-align: right;\n",
       "    }\n",
       "</style>\n",
       "<table border=\"1\" class=\"dataframe\">\n",
       "  <thead>\n",
       "    <tr style=\"text-align: right;\">\n",
       "      <th></th>\n",
       "      <th>sepal_length</th>\n",
       "      <th>sepal_width</th>\n",
       "      <th>petal_length</th>\n",
       "      <th>petal_width</th>\n",
       "      <th>label</th>\n",
       "    </tr>\n",
       "  </thead>\n",
       "  <tbody>\n",
       "    <tr>\n",
       "      <th>138</th>\n",
       "      <td>6.0</td>\n",
       "      <td>3.0</td>\n",
       "      <td>4.8</td>\n",
       "      <td>1.8</td>\n",
       "      <td>2.0</td>\n",
       "    </tr>\n",
       "    <tr>\n",
       "      <th>65</th>\n",
       "      <td>6.7</td>\n",
       "      <td>3.1</td>\n",
       "      <td>4.4</td>\n",
       "      <td>1.4</td>\n",
       "      <td>1.0</td>\n",
       "    </tr>\n",
       "    <tr>\n",
       "      <th>108</th>\n",
       "      <td>6.7</td>\n",
       "      <td>2.5</td>\n",
       "      <td>5.8</td>\n",
       "      <td>1.8</td>\n",
       "      <td>2.0</td>\n",
       "    </tr>\n",
       "    <tr>\n",
       "      <th>102</th>\n",
       "      <td>7.1</td>\n",
       "      <td>3.0</td>\n",
       "      <td>5.9</td>\n",
       "      <td>2.1</td>\n",
       "      <td>2.0</td>\n",
       "    </tr>\n",
       "    <tr>\n",
       "      <th>86</th>\n",
       "      <td>6.7</td>\n",
       "      <td>3.1</td>\n",
       "      <td>4.7</td>\n",
       "      <td>1.5</td>\n",
       "      <td>1.0</td>\n",
       "    </tr>\n",
       "  </tbody>\n",
       "</table>\n",
       "</div>"
      ],
      "text/plain": [
       "     sepal_length  sepal_width  petal_length  petal_width  label\n",
       "138           6.0          3.0           4.8          1.8    2.0\n",
       "65            6.7          3.1           4.4          1.4    1.0\n",
       "108           6.7          2.5           5.8          1.8    2.0\n",
       "102           7.1          3.0           5.9          2.1    2.0\n",
       "86            6.7          3.1           4.7          1.5    1.0"
      ]
     },
     "execution_count": 3,
     "metadata": {},
     "output_type": "execute_result"
    }
   ],
   "source": [
    "#show random 5 samples\n",
    "df.sample(5)"
   ]
  },
  {
   "cell_type": "markdown",
   "metadata": {},
   "source": [
    "Although the purpose of this tutorial is not to analyse the data, let's have a quick look at the some stats of the distribution. df.describe().T will be handy"
   ]
  },
  {
   "cell_type": "code",
   "execution_count": 4,
   "metadata": {},
   "outputs": [
    {
     "data": {
      "text/html": [
       "<div>\n",
       "<style scoped>\n",
       "    .dataframe tbody tr th:only-of-type {\n",
       "        vertical-align: middle;\n",
       "    }\n",
       "\n",
       "    .dataframe tbody tr th {\n",
       "        vertical-align: top;\n",
       "    }\n",
       "\n",
       "    .dataframe thead th {\n",
       "        text-align: right;\n",
       "    }\n",
       "</style>\n",
       "<table border=\"1\" class=\"dataframe\">\n",
       "  <thead>\n",
       "    <tr style=\"text-align: right;\">\n",
       "      <th></th>\n",
       "      <th>count</th>\n",
       "      <th>mean</th>\n",
       "      <th>std</th>\n",
       "      <th>min</th>\n",
       "      <th>25%</th>\n",
       "      <th>50%</th>\n",
       "      <th>75%</th>\n",
       "      <th>max</th>\n",
       "    </tr>\n",
       "  </thead>\n",
       "  <tbody>\n",
       "    <tr>\n",
       "      <th>sepal_length</th>\n",
       "      <td>150.0</td>\n",
       "      <td>5.843333</td>\n",
       "      <td>0.828066</td>\n",
       "      <td>4.3</td>\n",
       "      <td>5.1</td>\n",
       "      <td>5.80</td>\n",
       "      <td>6.4</td>\n",
       "      <td>7.9</td>\n",
       "    </tr>\n",
       "    <tr>\n",
       "      <th>sepal_width</th>\n",
       "      <td>150.0</td>\n",
       "      <td>3.057333</td>\n",
       "      <td>0.435866</td>\n",
       "      <td>2.0</td>\n",
       "      <td>2.8</td>\n",
       "      <td>3.00</td>\n",
       "      <td>3.3</td>\n",
       "      <td>4.4</td>\n",
       "    </tr>\n",
       "    <tr>\n",
       "      <th>petal_length</th>\n",
       "      <td>150.0</td>\n",
       "      <td>3.758000</td>\n",
       "      <td>1.765298</td>\n",
       "      <td>1.0</td>\n",
       "      <td>1.6</td>\n",
       "      <td>4.35</td>\n",
       "      <td>5.1</td>\n",
       "      <td>6.9</td>\n",
       "    </tr>\n",
       "    <tr>\n",
       "      <th>petal_width</th>\n",
       "      <td>150.0</td>\n",
       "      <td>1.199333</td>\n",
       "      <td>0.762238</td>\n",
       "      <td>0.1</td>\n",
       "      <td>0.3</td>\n",
       "      <td>1.30</td>\n",
       "      <td>1.8</td>\n",
       "      <td>2.5</td>\n",
       "    </tr>\n",
       "    <tr>\n",
       "      <th>label</th>\n",
       "      <td>150.0</td>\n",
       "      <td>1.000000</td>\n",
       "      <td>0.819232</td>\n",
       "      <td>0.0</td>\n",
       "      <td>0.0</td>\n",
       "      <td>1.00</td>\n",
       "      <td>2.0</td>\n",
       "      <td>2.0</td>\n",
       "    </tr>\n",
       "  </tbody>\n",
       "</table>\n",
       "</div>"
      ],
      "text/plain": [
       "              count      mean       std  min  25%   50%  75%  max\n",
       "sepal_length  150.0  5.843333  0.828066  4.3  5.1  5.80  6.4  7.9\n",
       "sepal_width   150.0  3.057333  0.435866  2.0  2.8  3.00  3.3  4.4\n",
       "petal_length  150.0  3.758000  1.765298  1.0  1.6  4.35  5.1  6.9\n",
       "petal_width   150.0  1.199333  0.762238  0.1  0.3  1.30  1.8  2.5\n",
       "label         150.0  1.000000  0.819232  0.0  0.0  1.00  2.0  2.0"
      ]
     },
     "execution_count": 4,
     "metadata": {},
     "output_type": "execute_result"
    }
   ],
   "source": [
    "df.describe().T"
   ]
  },
  {
   "cell_type": "markdown",
   "metadata": {},
   "source": [
    "The Iris dataset is a very simple dataset. it has only 4 dimensions to analyse. let's plot this data and color them according to the label they belong to. However, we can't plot all the 4 dimensions at time. and choosing two and ignore other would still not perfectly representing the distribution. let's use a technique called PCA (Principle Component Analysis) to project the 4 dimensions into 2. the reduced-dimensions data points will not be used to train the cluster, However, it will be handy to show how the cluster chose the centroids and how close the cluster are to the ground truth labels."
   ]
  },
  {
   "cell_type": "code",
   "execution_count": 5,
   "metadata": {},
   "outputs": [],
   "source": [
    "X = df.iloc[:,:4].values\n",
    "y = df.iloc[:,4].values\n",
    "\n",
    "#Project data to lower dimension using PCA\n",
    "pca = decomposition.PCA(n_components=2)\n",
    "pca.fit(X)\n",
    "X = pca.transform(X)\n",
    "\n",
    "#create a dataframe combining the low dimension data and to be used for visualization\n",
    "low_dim_data = {\n",
    "        'X1': X[:,0],\n",
    "        'X2': X[:,1],\n",
    "        'label': y}\n",
    "low_dim_df = pd.DataFrame(low_dim_data, columns = ['X1', 'X2', 'label'])"
   ]
  },
  {
   "cell_type": "code",
   "execution_count": 6,
   "metadata": {},
   "outputs": [
    {
     "data": {
      "text/html": [
       "<div>\n",
       "<style scoped>\n",
       "    .dataframe tbody tr th:only-of-type {\n",
       "        vertical-align: middle;\n",
       "    }\n",
       "\n",
       "    .dataframe tbody tr th {\n",
       "        vertical-align: top;\n",
       "    }\n",
       "\n",
       "    .dataframe thead th {\n",
       "        text-align: right;\n",
       "    }\n",
       "</style>\n",
       "<table border=\"1\" class=\"dataframe\">\n",
       "  <thead>\n",
       "    <tr style=\"text-align: right;\">\n",
       "      <th></th>\n",
       "      <th>X1</th>\n",
       "      <th>X2</th>\n",
       "      <th>label</th>\n",
       "    </tr>\n",
       "  </thead>\n",
       "  <tbody>\n",
       "    <tr>\n",
       "      <th>133</th>\n",
       "      <td>1.444161</td>\n",
       "      <td>-0.143413</td>\n",
       "      <td>2.0</td>\n",
       "    </tr>\n",
       "    <tr>\n",
       "      <th>90</th>\n",
       "      <td>0.464800</td>\n",
       "      <td>-0.670712</td>\n",
       "      <td>1.0</td>\n",
       "    </tr>\n",
       "    <tr>\n",
       "      <th>19</th>\n",
       "      <td>-2.587986</td>\n",
       "      <td>0.513560</td>\n",
       "      <td>0.0</td>\n",
       "    </tr>\n",
       "    <tr>\n",
       "      <th>105</th>\n",
       "      <td>3.397039</td>\n",
       "      <td>0.550837</td>\n",
       "      <td>2.0</td>\n",
       "    </tr>\n",
       "    <tr>\n",
       "      <th>51</th>\n",
       "      <td>0.932489</td>\n",
       "      <td>0.318334</td>\n",
       "      <td>1.0</td>\n",
       "    </tr>\n",
       "  </tbody>\n",
       "</table>\n",
       "</div>"
      ],
      "text/plain": [
       "           X1        X2  label\n",
       "133  1.444161 -0.143413    2.0\n",
       "90   0.464800 -0.670712    1.0\n",
       "19  -2.587986  0.513560    0.0\n",
       "105  3.397039  0.550837    2.0\n",
       "51   0.932489  0.318334    1.0"
      ]
     },
     "execution_count": 6,
     "metadata": {},
     "output_type": "execute_result"
    }
   ],
   "source": [
    "low_dim_df.sample(5)"
   ]
  },
  {
   "cell_type": "code",
   "execution_count": 7,
   "metadata": {},
   "outputs": [
    {
     "data": {
      "image/png": "[encoded data removed]",
      "text/plain": [
       "<Figure size 432x432 with 1 Axes>"
      ]
     },
     "metadata": {
      "needs_background": "light"
     },
     "output_type": "display_data"
    }
   ],
   "source": [
    "# Create Figure\n",
    "fig, (axs) = plt.subplots(1,1, figsize = (6,6))\n",
    "\n",
    "# Plot each group in each dataset as unique olor\n",
    "for ax, low_dim_df in zip([axs], [low_dim_df]):\n",
    "    ax.set_title('Original CPA')\n",
    "    for cat, col in zip(low_dim_df['label'].unique(), ['#1b9e77', '#d95f02', '#7570b3']):\n",
    "        ax.scatter(low_dim_df[low_dim_df.label == cat].X1, low_dim_df[low_dim_df.label == cat].X2, c = col, label = cat, alpha = .45)\n",
    "    ax.legend()"
   ]
  },
  {
   "cell_type": "markdown",
   "metadata": {},
   "source": [
    "Let's first initialise centroids. Each centroid w ill be defined by an $(x_1,x_2,x_3,x_4)$ of coordinates. \n",
    "To initialize the clusters, a K-means++ type algorithm will be used.\n",
    "K-means++ picks one point from the data to be the first cluster center. Subsequent cluster centers are picked from the remaining \"unpicked\" points. However, the probability of picking any one point is proportional to the euclidean distance from that point to the nearest cluster center squared."
   ]
  },
  {
   "cell_type": "code",
   "execution_count": 8,
   "metadata": {},
   "outputs": [],
   "source": [
    "# Implement K-means ++ to initialize centers\n",
    "def pick_cluster_centers(points, num_clusters = 3):\n",
    "    # Create List to store clusters\n",
    "    clusters = []\n",
    "    # Save list of cluster indicies\n",
    "    arr_idx = np.arange(len(points))\n",
    "    # Choose first cluster; append to list\n",
    "    clusters.append( points[np.random.choice(arr_idx)])\n",
    "    # Define function to calculate squared distance\n",
    "    def dist_sq(x): return np.linalg.norm(x)**2\n",
    "    c_dist = None\n",
    "    # Add Clusters until reaching \"num_clusters\"\n",
    "    while len(clusters) < num_clusters:\n",
    "        # Calculate distance between latest cluster and rest of points\n",
    "        new_dist = np.apply_along_axis(dist_sq, 1, points - clusters[-1]).reshape(-1,1)\n",
    "        \n",
    "        # Add to distance array - First check to see if distance matrix exists\n",
    "        if type(c_dist) == type(None):\n",
    "            c_dist = new_dist\n",
    "        else:\n",
    "            c_dist = np.concatenate([c_dist, new_dist], axis = 1)\n",
    "            \n",
    "        # Calculate probability by finding shortest distance, then normalizing\n",
    "        c_prob = np.apply_along_axis(np.min, 1, c_dist)\n",
    "        c_prob = c_prob / c_prob.sum()\n",
    "        # Draw new cluster according to probability\n",
    "        clusters.append(points[np.random.choice(arr_idx, p = c_prob)])\n",
    "    return np.array(clusters)"
   ]
  },
  {
   "cell_type": "markdown",
   "metadata": {},
   "source": [
    "### Method of Describing Cluster Assignments\n",
    "In hard clustering (k-means in this case), each point is assigned exclusively to one cluster. In other posts to come we will see soft clustering (soft k-means and GMM), where points may be portioned out between clusters. let's get back to k-means for now and do the assignment step.\n",
    "\n",
    "For this assignment, allocation of points to clusters w ill be stored in a 2-d numpy array. Assume for the follow ing examples that there are three clusters.\n",
    "If a point were assigned to cluster \"0\", its cluster assignment w ould be [1,0,0] . If there were four points, and three clusters, the cluster-matrix might be:\n",
    "np.array([[1,0,0],[1,0,0],[0,1,0],[0,0,1]) In this case, the first two points are assigned to cluster \"0\" and the third point is assigned to cluster \"1\" and the last point is assigned to cluster 2."
   ]
  },
  {
   "cell_type": "code",
   "execution_count": 9,
   "metadata": {},
   "outputs": [],
   "source": [
    "def assign_clusters_k_means(points, clusters):\n",
    "    \"\"\"\n",
    "    points: a 2-d numpy array where each row is a different point, and each\n",
    "    column indicates the location of that point in that dimension\n",
    "    clusters: a 2-d numpy array where each row is a different centroid cluster;\n",
    "    each column indicates the location of that centroid in that dimension\n",
    "    \"\"\"\n",
    "    # Define function to calculate squared distance\n",
    "    def dist_sq(x): return np.linalg.norm(x)**2\n",
    "    # Find distances between each point and each cluster\n",
    "    dists_to_clust = np.concatenate([np.apply_along_axis(dist_sq, 1, points-c).reshape(-1,1) for c in clusters],axis = 1)\n",
    "    # Function to convert minimum distance to 1 and others to 0\n",
    "    def find_min(x):\n",
    "        m = np.min(x)\n",
    "        return [1 if n == m else 0 for n in x]\n",
    "    # Apply function\n",
    "    cluster_assignments = np.apply_along_axis( find_min, 1, dists_to_clust)\n",
    "    return cluster_assignments"
   ]
  },
  {
   "cell_type": "markdown",
   "metadata": {},
   "source": [
    "### Method of Describing Cluster update\n",
    "The centroid for cluster $k$ ($\\mu_k$) should be updated with the equation:  \n",
    "\n",
    "$$\\mu_k = \\frac{\\sum_ix_i\\mathbb{1}\\{c_i = k\\}}{\\sum_i\\mathbb{1}\\{c_i = k\\}}$$\n",
    "\n",
    "- $c_i$ indicates to which cluster point $i$ was assigned  \n",
    "- Generally, the new centroids are the center (mean) of all points associated with the cluster\n",
    "\n",
    "Each row of `cluster_weights` contains a single \"1\", otherwise filled with \"0\"s. e.g. if point $i$ is assigned to the first cluster (cluster \"0\"), the row corresponding to $i$ in `cluster_weights` will be [1,0,0]. "
   ]
  },
  {
   "cell_type": "code",
   "execution_count": 10,
   "metadata": {},
   "outputs": [],
   "source": [
    "def update_clusters_k_means(points, cluster_weights):\n",
    "    \"\"\"\n",
    "    points: a 2-d numpy array where each row is a different point, and each\n",
    "    column indicates the location of that point in that dimension\n",
    "    cluster_weights: a 2-d numy array where each row corresponds to each row in \"points\"\n",
    "    and the columns indicate which cluster the point \"belongs\" to - a \"1\" in the kth\n",
    "    column indicates belonging to the kth cluster\n",
    "\n",
    "    \"\"\"\n",
    "    # Create list to store new clusters\n",
    "    new_clusts = []\n",
    "    # For each column in \"cluster_weights\" which corresponds to a single cluster,\n",
    "    # Average the location of all the points.\n",
    "    for c in cluster_weights.T:\n",
    "        c_points = points.copy()[c==1,:]\n",
    "        new_clusts.append(np.apply_along_axis(np.mean,0,c_points).reshape(1,-1))\n",
    "    # Convert cluster list to np.array\n",
    "    new_clusts = np.concatenate(new_clusts)\n",
    "    return new_clusts"
   ]
  },
  {
   "cell_type": "markdown",
   "metadata": {},
   "source": [
    "### Run our clustering algorithm and compare with sklearn\n",
    "\n",
    "With the cluster assignment and centroid updating functions defined, we can now test the clustering functionality on our iris dataset.  \n",
    "\n",
    "In the cells below, a number of functions are defined.  \n",
    "\n",
    "- Create meta-function which can combine the \"assign\" and \"update\" functions into a coherent clustering algorithm with stopping thresholds\n",
    "- Create k-means function\n",
    "- Create plotting function to compare `sklearn` and custom k-means algorithms  \n",
    "    - The assignment of initial clusters will be determined by the `pick_cluster_centers` function defined above, with centers passed explicitly to the custom algorithm and `sklearn` algorithm. "
   ]
  },
  {
   "cell_type": "code",
   "execution_count": 11,
   "metadata": {},
   "outputs": [],
   "source": [
    "# Create function that will create clustering functions\n",
    "def create_cluster_func(assign_func, update_func, threshold_func, assign_args = {}):\n",
    "    \n",
    "    def cluster(points, centroids, max_iter = 100, stop_threshold = .0001):\n",
    "        for i in range(max_iter):\n",
    "            old_centroids = centroids\n",
    "            \n",
    "            cluster_weights = assign_func(points, centroids, **assign_args)\n",
    "            centroids = update_func(points, cluster_weights)\n",
    "            \n",
    "            if threshold_func(centroids, old_centroids, stop_threshold):\n",
    "                break\n",
    "        \n",
    "        return (centroids,cluster_weights)\n",
    "    return cluster\n",
    "\n",
    "# Create functions that test for convergence\n",
    "def basic_threshold_test(centroids, old_centroids, stop_threshold):\n",
    "    \n",
    "    for n, o in zip(centroids, old_centroids):\n",
    "        #print(n,o)\n",
    "        if np.linalg.norm(n-o) > stop_threshold:\n",
    "            return False\n",
    "    return True"
   ]
  },
  {
   "cell_type": "code",
   "execution_count": 12,
   "metadata": {},
   "outputs": [],
   "source": [
    "### Creating actual functions for clustering\n",
    "cluster_k_means = create_cluster_func(assign_clusters_k_means,\n",
    "                                      update_clusters_k_means,\n",
    "                                      basic_threshold_test)"
   ]
  },
  {
   "cell_type": "markdown",
   "metadata": {},
   "source": [
    "Let's now create a function to run the clustering algorithms for both the custom functions we just defined above and the sklearn model. the function will then plot the results by comparing our custom model and the sklearn model. beside that the function will plot the original PCA data and the PCA data labeled by the custom model."
   ]
  },
  {
   "cell_type": "code",
   "execution_count": 13,
   "metadata": {},
   "outputs": [],
   "source": [
    "# Visualization function for k-means\n",
    "from sklearn.cluster import  KMeans\n",
    "\n",
    "\n",
    "def plot_k_means(df,low_dim_df,clusters = 3):\n",
    "    \n",
    "    \"\"\" \n",
    "    This function will call the cluster_k_means function to run the clustering models. we will compare our custom k-means algorithm with sklearn one. the purpose is to show \n",
    "    how the our custom k-means algorithm performs same as the sklearn k-means. but also this gives you the opportunity to learn how to use sklearn library which in practice\n",
    "    you would use instead of writing your own algorithm.\n",
    "    \n",
    "    we will have two sections. \n",
    "    \n",
    "    Section 1: we will run the algorithm against the original iris data. this will generate labels that are assigned to each data point and\n",
    "    cluster centroids. \n",
    "    \n",
    "    Section 2: Using the predicted labels for the original iris data, we will calculate the centroids for the projected low dimension data points used\n",
    "    solely for the purpose of plotting the data in two dimensions. this section is optional for the k-means algorithm but for the sake of presenting exactly how the centroids\n",
    "    were chosen, we decided to use a low dimension data for plotting.\n",
    "    \"\"\"\n",
    "    # Create figure\n",
    "    fig, (axs) = plt.subplots(1,2, figsize = (12,6))\n",
    "    \n",
    "    # Go thorugh all data sets \n",
    "    for ax, df in zip([axs], [df]):\n",
    "        \n",
    "        #Section 1\n",
    "        # Pull out point data\n",
    "        points = df.iloc[:,:4].values\n",
    "        \n",
    "        # Pick random initial centers\n",
    "        init_cents = pick_cluster_centers(points, clusters)\n",
    "        \n",
    "        # Calculate centers from custom function\n",
    "        cents,cluster_assignments = cluster_k_means(points ,init_cents)\n",
    "        \n",
    "        #Calculate centers from sklearn\n",
    "        km = KMeans(n_clusters= clusters, init = init_cents, n_init=1).fit(points)\n",
    "        cluster_assignments_sk = km.predict(points)\n",
    "        \n",
    "        #section 2\n",
    "        \n",
    "        #Calculate centers of the low dimension data projection\n",
    "        low_dim_cents_custom = update_clusters_k_means(low_dim_df.iloc[:,:2].values, cluster_assignments)\n",
    "        \n",
    "        #predict labels and create a dataframe combining observed variables and predicted labels. this is need to plot the data distribution\n",
    "        cluster_assignments = np.argmax(cluster_assignments,axis=1) #convert the matrix of clusters into a vector of indexes.\n",
    "        cluster_assignments = np.reshape(cluster_assignments,(-1,1)) # reshape to the desired format\n",
    "        \n",
    "        predicted_low_dim_data = np.concatenate((low_dim_df.iloc[:,:2].values, cluster_assignments), axis=1)\n",
    "        \n",
    "        predicted_low_dim_df = pd.DataFrame(predicted_low_dim_data, columns = ['X1', 'X2', 'label'])\n",
    "        \n",
    "       \n",
    "        #calculate centroids for low dimension when labeling was done by sklearn Kmeans\n",
    "        #first convert km_cluster_assignments to the 2d array format used in this tutoril [[1,0,0],[0,0,1]]\n",
    "        \n",
    "        def to_cluster_format(index):\n",
    "            zeros_clust = np.array([0,0,0])\n",
    "            zeros_clust[index:index+1] = 1\n",
    "            \n",
    "            return zeros_clust\n",
    "            \n",
    "        cluster_assignments_sk = np.array([to_cluster_format(clust) for clust in cluster_assignments_sk]).reshape(-1,clusters)# format the array returned by sklearn\n",
    "        low_dim_cents_sk = update_clusters_k_means(low_dim_df.iloc[:,:2].values, cluster_assignments_sk)\n",
    "        \n",
    "        #calculate the actual centers of our kmeans clustering with sklearn\n",
    "        cent_sk = km.cluster_centers_\n",
    "\n",
    "        \n",
    "        # Plot each distribution in different color\n",
    "        for ax, idx_df,title in zip(axs.flatten(), [low_dim_df,predicted_low_dim_df],['Original CPA','Cluster Labeled CPA']):\n",
    "            ax.set_title(title)\n",
    "            for cat, col in zip(idx_df['label'].unique(), ['#1b9e77', '#d95f02', '#7570b3']):\n",
    "                ax.scatter(idx_df[idx_df.label == cat].X1, idx_df[idx_df.label == cat].X2, \n",
    "                           label = None, c = col, alpha = .45)\n",
    "            \n",
    "        # Plot Calculated centers\n",
    "        ax.scatter(low_dim_cents_custom[:,0], low_dim_cents_custom[:,1], c = 'k', marker = 'x', label = 'Custom', s = 70)\n",
    "        ax.scatter(low_dim_cents_sk[:,0], low_dim_cents_sk[:,1], c = 'r', marker = '+', label = 'sklearn', s = 70)\n",
    "        \n",
    "        # Add legend\n",
    "        ax.legend()"
   ]
  },
  {
   "cell_type": "code",
   "execution_count": 14,
   "metadata": {},
   "outputs": [
    {
     "name": "stdout",
     "output_type": "stream",
     "text": [
      "CPU times: user 178 ms, sys: 6.68 ms, total: 184 ms\n",
      "Wall time: 316 ms\n"
     ]
    },
    {
     "data": {
      "image/png": "[encoded data removed]",
      "text/plain": [
       "<Figure size 864x432 with 2 Axes>"
      ]
     },
     "metadata": {
      "needs_background": "light"
     },
     "output_type": "display_data"
    }
   ],
   "source": [
    "%%time\n",
    "plot_k_means(df,low_dim_df,3)"
   ]
  },
  {
   "cell_type": "markdown",
   "metadata": {},
   "source": [
    "As you can see, our custom K-mean model has done a very good job. observing the colort between the two plots, the difference is hard to notice. also notice how centroids for our custom k-means and centroids for sklearn k-means are same. this is the proof that the k-mean algorithm is a very straight algorithm and easy to implement.\n",
    "\n",
    "**Note**: K-means algorithm can easily get stuck in the local minimul depending on how the initialisation was done. usually you need to run multiple iteration to confirm which centroids work better. also the choice of colors used here does not have to be in the same order on both plots."
   ]
  },
  {
   "cell_type": "markdown",
   "metadata": {},
   "source": [
    "### Summary\n",
    "In this tutorial we've covered some of the mathematical logic behind K-means. we've seen that K-meas is a very simple algorithm and easy to implement. in real life, you will spend most of the time identifying the right K number of clusters for your dataset. we have not covered technics on how to do this.\n",
    "\n",
    "In a nutshell, K-means is hard clustering algorithm in a sense that each data point is assigned to a cluster without any sort of uncertainty. in the upcoming tutorials we will cover a way of assigning clusters using weights so that if the data belong in the proximity of two centroids, it is partly assigned to both of them. we will even touch a much better way of dealing with uncertainty using a probabilistic approach using Gaussian Mixture Models with EM MLE(Expectation Maximisation , type of Maximum Likelihood Estimation).\n",
    "\n",
    "I hope you enjoyed the tutorial.\n",
    "\n",
    "## Recognition:\n",
    "\n",
    "I would like to thank  [Prof John W. Paisley](https://www.ee.columbia.edu/john-w-paisley) and [mathematicalmonk channel](https://www.youtube.com/channel/UCcAtD_VYwcYwVbTdvArsm7w) withoum whom I could not easily derive the mathematical formula behind K-means algorithm. a big thanks to Emeritus institute of management from whom I got most of the code used in this tutorial. your contribution to the wide spread of AI and ML is much appreciated."
   ]
  }
 ],
 "metadata": {
  "kernelspec": {
   "display_name": "Python 3",
   "language": "python",
   "name": "python3"
  },
  "language_info": {
   "codemirror_mode": {
    "name": "ipython",
    "version": 3
   },
   "file_extension": ".py",
   "mimetype": "text/x-python",
   "name": "python",
   "nbconvert_exporter": "python",
   "pygments_lexer": "ipython3",
   "version": "3.7.1"
  }
 },
 "nbformat": 4,
 "nbformat_minor": 2
}
